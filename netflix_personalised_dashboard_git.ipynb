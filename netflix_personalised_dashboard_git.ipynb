{
  "nbformat": 4,
  "nbformat_minor": 0,
  "metadata": {
    "colab": {
      "provenance": [],
      "authorship_tag": "ABX9TyNpyQXOOxpsHq0aTG6bMF3V",
      "include_colab_link": true
    },
    "kernelspec": {
      "name": "python3",
      "display_name": "Python 3"
    },
    "language_info": {
      "name": "python"
    }
  },
  "cells": [
    {
      "cell_type": "markdown",
      "metadata": {
        "id": "view-in-github",
        "colab_type": "text"
      },
      "source": [
        "<a href=\"https://colab.research.google.com/github/nnekandubishi/netflix-personalised-dashboard/blob/main/netflix_personalised_dashboard_git.ipynb\" target=\"_parent\"><img src=\"https://colab.research.google.com/assets/colab-badge.svg\" alt=\"Open In Colab\"/></a>"
      ]
    },
    {
      "cell_type": "markdown",
      "source": [
        "## **Connecting GitHub to Colab**"
      ],
      "metadata": {
        "id": "dBjXiKEEl1Kl"
      }
    },
    {
      "cell_type": "code",
      "execution_count": 1,
      "metadata": {
        "colab": {
          "base_uri": "https://localhost:8080/"
        },
        "id": "1-_sRV33W7XN",
        "outputId": "824c9369-856f-4f73-bbf4-3b285215a449"
      },
      "outputs": [
        {
          "output_type": "stream",
          "name": "stdout",
          "text": [
            "Cloning into 'netflix-personalised-dashboard'...\n",
            "remote: Enumerating objects: 31, done.\u001b[K\n",
            "remote: Counting objects: 100% (31/31), done.\u001b[K\n",
            "remote: Compressing objects: 100% (29/29), done.\u001b[K\n",
            "remote: Total 31 (delta 10), reused 0 (delta 0), pack-reused 0 (from 0)\u001b[K\n",
            "Receiving objects: 100% (31/31), 51.31 KiB | 2.05 MiB/s, done.\n",
            "Resolving deltas: 100% (10/10), done.\n"
          ]
        }
      ],
      "source": [
        "!git clone https://github.com/nnekandubishi/netflix-personalised-dashboard.git\n"
      ]
    },
    {
      "cell_type": "code",
      "source": [
        "%cd netflix-personalised-dashboard/data-cleaning"
      ],
      "metadata": {
        "colab": {
          "base_uri": "https://localhost:8080/"
        },
        "id": "EoxMRye1YPcM",
        "outputId": "b9836792-cd5a-46d8-82cf-481360e7bd93"
      },
      "execution_count": 2,
      "outputs": [
        {
          "output_type": "stream",
          "name": "stdout",
          "text": [
            "/content/netflix-personalised-dashboard/data-cleaning\n"
          ]
        }
      ]
    },
    {
      "cell_type": "code",
      "source": [
        "# Check current directory and list files\n",
        "!pwd\n",
        "!ls"
      ],
      "metadata": {
        "colab": {
          "base_uri": "https://localhost:8080/"
        },
        "id": "-KqX8d3xbYfS",
        "outputId": "295e6fe0-1315-4dd4-e1de-e81018d0eed3"
      },
      "execution_count": 3,
      "outputs": [
        {
          "output_type": "stream",
          "name": "stdout",
          "text": [
            "/content/netflix-personalised-dashboard/data-cleaning\n",
            "cleaning_notes.py  README.md\n"
          ]
        }
      ]
    },
    {
      "cell_type": "code",
      "source": [
        "%cd ../"
      ],
      "metadata": {
        "colab": {
          "base_uri": "https://localhost:8080/"
        },
        "id": "RRWNtHR6bgEl",
        "outputId": "1321a014-c4d8-4f0e-df42-8c7d7a6a25e3"
      },
      "execution_count": 4,
      "outputs": [
        {
          "output_type": "stream",
          "name": "stdout",
          "text": [
            "/content/netflix-personalised-dashboard\n"
          ]
        }
      ]
    },
    {
      "cell_type": "code",
      "source": [
        "!ls"
      ],
      "metadata": {
        "colab": {
          "base_uri": "https://localhost:8080/"
        },
        "id": "bc8bAnWKbipw",
        "outputId": "8a18dd1c-9cae-4d83-d30e-166bdd064c5c"
      },
      "execution_count": 5,
      "outputs": [
        {
          "output_type": "stream",
          "name": "stdout",
          "text": [
            "data-cleaning  LICENSE\tnetflix_viewing_data.csv  README.md\n"
          ]
        }
      ]
    },
    {
      "cell_type": "code",
      "source": [
        "%cd netflix-personalised-dashboard"
      ],
      "metadata": {
        "colab": {
          "base_uri": "https://localhost:8080/"
        },
        "id": "DXOtGzi-a_0S",
        "outputId": "6d7efed2-ee1d-4ac2-ac4a-d2ff14076214"
      },
      "execution_count": 6,
      "outputs": [
        {
          "output_type": "stream",
          "name": "stdout",
          "text": [
            "[Errno 2] No such file or directory: 'netflix-personalised-dashboard'\n",
            "/content/netflix-personalised-dashboard\n"
          ]
        }
      ]
    },
    {
      "cell_type": "code",
      "source": [
        "import pandas as pd\n",
        "\n",
        "df = pd.read_csv('netflix_viewing_data.csv', encoding='ISO-8859-1')\n",
        "\n",
        "print(df.head())"
      ],
      "metadata": {
        "colab": {
          "base_uri": "https://localhost:8080/"
        },
        "id": "zUtwYQ30Zk-9",
        "outputId": "83faa7ce-af93-4520-b951-a530828215cd"
      },
      "execution_count": 7,
      "outputs": [
        {
          "output_type": "stream",
          "name": "stdout",
          "text": [
            "                Title    Genre        Director      Country  Release Year  \\\n",
            "0  You are My Destiny  Romance  Kim Myung-wook  South Korea        2014.0   \n",
            "1      Love Next Door  Romance             NaN  South Korea           NaN   \n",
            "2      Love Next Door  Romance             NaN  South Korea           NaN   \n",
            "3      Love Next Door  Romance             NaN  South Korea           NaN   \n",
            "4      Love Next Door  Romance             NaN  South Korea           NaN   \n",
            "\n",
            "  Content Type     Duration Rating  IMDb Rating Language Date Watched  \n",
            "0    TV Series  36 episodes  PG-13          7.1   Korean   24/09/2024  \n",
            "1    TV Series          NaN    NaN          NaN   Korean   22/09/2024  \n",
            "2    TV Series          NaN    NaN          NaN   Korean   22/09/2024  \n",
            "3    TV Series          NaN    NaN          NaN   Korean   22/09/2024  \n",
            "4    TV Series          NaN    NaN          NaN   Korean   22/09/2024  \n"
          ]
        }
      ]
    },
    {
      "cell_type": "markdown",
      "source": [
        "# **Data Cleaning**"
      ],
      "metadata": {
        "id": "HUZU7Q8JctgF"
      }
    },
    {
      "cell_type": "markdown",
      "source": [
        "## **1: Treating NULL Values**"
      ],
      "metadata": {
        "id": "uIDNDQu9c6hZ"
      }
    },
    {
      "cell_type": "markdown",
      "source": [
        "### 1.1 Checking for NULL Values:"
      ],
      "metadata": {
        "id": "89oLzhhldHX9"
      }
    },
    {
      "cell_type": "code",
      "source": [
        "print(df.isnull().sum())"
      ],
      "metadata": {
        "colab": {
          "base_uri": "https://localhost:8080/"
        },
        "id": "UEdVSRBzdLqX",
        "outputId": "14a41768-2f42-4992-92c0-6dcc5fe9cf86"
      },
      "execution_count": 8,
      "outputs": [
        {
          "output_type": "stream",
          "name": "stdout",
          "text": [
            "Title             0\n",
            "Genre            49\n",
            "Director        129\n",
            "Country          58\n",
            "Release Year     89\n",
            "Content Type     59\n",
            "Duration        109\n",
            "Rating          192\n",
            "IMDb Rating     118\n",
            "Language         58\n",
            "Date Watched      0\n",
            "dtype: int64\n"
          ]
        }
      ]
    },
    {
      "cell_type": "markdown",
      "source": [
        "### 1.2 Handling NULL Values:"
      ],
      "metadata": {
        "id": "NqDi-1SJd-sH"
      }
    },
    {
      "cell_type": "markdown",
      "source": [
        "**1.2.1: Director**\n",
        "\n",
        "The Director column has 129 missing values. Missing values will be filled with \"Unknown\" as a placeholder to ensure completeness of the dataset."
      ],
      "metadata": {
        "id": "yy57KzBQevfu"
      }
    },
    {
      "cell_type": "code",
      "source": [
        "df['Director'].fillna('Unknown', inplace=True)"
      ],
      "metadata": {
        "id": "QzOpw7j5eTh8",
        "colab": {
          "base_uri": "https://localhost:8080/"
        },
        "outputId": "a75e9154-d8b4-4973-a4f5-1f3734706ed6"
      },
      "execution_count": 9,
      "outputs": [
        {
          "output_type": "stream",
          "name": "stderr",
          "text": [
            "<ipython-input-9-0c904c39178e>:1: FutureWarning: A value is trying to be set on a copy of a DataFrame or Series through chained assignment using an inplace method.\n",
            "The behavior will change in pandas 3.0. This inplace method will never work because the intermediate object on which we are setting values always behaves as a copy.\n",
            "\n",
            "For example, when doing 'df[col].method(value, inplace=True)', try using 'df.method({col: value}, inplace=True)' or df[col] = df[col].method(value) instead, to perform the operation inplace on the original object.\n",
            "\n",
            "\n",
            "  df['Director'].fillna('Unknown', inplace=True)\n"
          ]
        }
      ]
    },
    {
      "cell_type": "markdown",
      "source": [
        "**1.2.2: Genre**\n",
        "\n",
        "The Genre column has 49 missing values. Missing values in the Genre column will be filled with \"Unknown\" to account for any unavailable data."
      ],
      "metadata": {
        "id": "4IYZxwdHfIT1"
      }
    },
    {
      "cell_type": "code",
      "source": [
        "df['Genre'].fillna('Unknown', inplace=True)"
      ],
      "metadata": {
        "id": "PhZ7JSWtfNPv",
        "colab": {
          "base_uri": "https://localhost:8080/"
        },
        "outputId": "6e87d12f-7759-4dfe-b8eb-305932ebdc00"
      },
      "execution_count": 10,
      "outputs": [
        {
          "output_type": "stream",
          "name": "stderr",
          "text": [
            "<ipython-input-10-f064f74bf2d5>:1: FutureWarning: A value is trying to be set on a copy of a DataFrame or Series through chained assignment using an inplace method.\n",
            "The behavior will change in pandas 3.0. This inplace method will never work because the intermediate object on which we are setting values always behaves as a copy.\n",
            "\n",
            "For example, when doing 'df[col].method(value, inplace=True)', try using 'df.method({col: value}, inplace=True)' or df[col] = df[col].method(value) instead, to perform the operation inplace on the original object.\n",
            "\n",
            "\n",
            "  df['Genre'].fillna('Unknown', inplace=True)\n"
          ]
        }
      ]
    },
    {
      "cell_type": "markdown",
      "source": [
        "**1.2.3: Country**\n",
        "\n",
        "The Country column has 58 missing values. The missing values in this column will be replaced with \"Unknown\" to indicate that the country of origin is not specified."
      ],
      "metadata": {
        "id": "4jWtT4I9f-fr"
      }
    },
    {
      "cell_type": "code",
      "source": [
        "df['Country'].fillna('Unknown', inplace=True)"
      ],
      "metadata": {
        "id": "9CoIKN3ugC7P",
        "colab": {
          "base_uri": "https://localhost:8080/"
        },
        "outputId": "85595ee7-a100-4c5c-e721-dd13dfb4f107"
      },
      "execution_count": 11,
      "outputs": [
        {
          "output_type": "stream",
          "name": "stderr",
          "text": [
            "<ipython-input-11-16920c969032>:1: FutureWarning: A value is trying to be set on a copy of a DataFrame or Series through chained assignment using an inplace method.\n",
            "The behavior will change in pandas 3.0. This inplace method will never work because the intermediate object on which we are setting values always behaves as a copy.\n",
            "\n",
            "For example, when doing 'df[col].method(value, inplace=True)', try using 'df.method({col: value}, inplace=True)' or df[col] = df[col].method(value) instead, to perform the operation inplace on the original object.\n",
            "\n",
            "\n",
            "  df['Country'].fillna('Unknown', inplace=True)\n"
          ]
        }
      ]
    },
    {
      "cell_type": "markdown",
      "source": [
        "**1.2.4: Release Year**\n",
        "\n",
        "The Release Year column has 89 missing values. We will fill these missing values with \"0\" to represent cases where the release year is not available."
      ],
      "metadata": {
        "id": "E_X6G1pdgDNu"
      }
    },
    {
      "cell_type": "code",
      "source": [
        "df['Release Year'].fillna(0, inplace=True)"
      ],
      "metadata": {
        "id": "FKKvRtibgIG_",
        "colab": {
          "base_uri": "https://localhost:8080/"
        },
        "outputId": "27d548b9-1967-4ef0-be86-1b997d39722b"
      },
      "execution_count": 12,
      "outputs": [
        {
          "output_type": "stream",
          "name": "stderr",
          "text": [
            "<ipython-input-12-849c23cb9899>:1: FutureWarning: A value is trying to be set on a copy of a DataFrame or Series through chained assignment using an inplace method.\n",
            "The behavior will change in pandas 3.0. This inplace method will never work because the intermediate object on which we are setting values always behaves as a copy.\n",
            "\n",
            "For example, when doing 'df[col].method(value, inplace=True)', try using 'df.method({col: value}, inplace=True)' or df[col] = df[col].method(value) instead, to perform the operation inplace on the original object.\n",
            "\n",
            "\n",
            "  df['Release Year'].fillna(0, inplace=True)\n"
          ]
        }
      ]
    },
    {
      "cell_type": "markdown",
      "source": [
        "**1.2.5: Content Type**\n",
        "\n",
        "The Content Type column has 59 missing values. Missing values will be filled with \"Unknown\" to represent cases where the content type (e.g., movie or TV show) is not available."
      ],
      "metadata": {
        "id": "N6xycR6CgIRY"
      }
    },
    {
      "cell_type": "code",
      "source": [
        "df['Content Type'].fillna('Unknown', inplace=True)"
      ],
      "metadata": {
        "id": "6lmtD36TgMAg",
        "colab": {
          "base_uri": "https://localhost:8080/"
        },
        "outputId": "f7d0c3fd-db9b-473a-d48b-deb943dc53aa"
      },
      "execution_count": 13,
      "outputs": [
        {
          "output_type": "stream",
          "name": "stderr",
          "text": [
            "<ipython-input-13-bde3eaf9992e>:1: FutureWarning: A value is trying to be set on a copy of a DataFrame or Series through chained assignment using an inplace method.\n",
            "The behavior will change in pandas 3.0. This inplace method will never work because the intermediate object on which we are setting values always behaves as a copy.\n",
            "\n",
            "For example, when doing 'df[col].method(value, inplace=True)', try using 'df.method({col: value}, inplace=True)' or df[col] = df[col].method(value) instead, to perform the operation inplace on the original object.\n",
            "\n",
            "\n",
            "  df['Content Type'].fillna('Unknown', inplace=True)\n"
          ]
        }
      ]
    },
    {
      "cell_type": "markdown",
      "source": [
        "**1.2.6: Duration**\n",
        "\n",
        "The Duration column has 109 missing values. Missing values in this column will be filled with \"Unknown\" as a placeholder for cases where the duration is unavailable."
      ],
      "metadata": {
        "id": "Vl1Doqz5gMQJ"
      }
    },
    {
      "cell_type": "code",
      "source": [
        "df['Duration'].fillna('Unknown', inplace=True)"
      ],
      "metadata": {
        "id": "4uwsotvDgQP3",
        "colab": {
          "base_uri": "https://localhost:8080/"
        },
        "outputId": "153027cf-0d1b-4663-86a9-000618b15c87"
      },
      "execution_count": 14,
      "outputs": [
        {
          "output_type": "stream",
          "name": "stderr",
          "text": [
            "<ipython-input-14-18ff8f47c08e>:1: FutureWarning: A value is trying to be set on a copy of a DataFrame or Series through chained assignment using an inplace method.\n",
            "The behavior will change in pandas 3.0. This inplace method will never work because the intermediate object on which we are setting values always behaves as a copy.\n",
            "\n",
            "For example, when doing 'df[col].method(value, inplace=True)', try using 'df.method({col: value}, inplace=True)' or df[col] = df[col].method(value) instead, to perform the operation inplace on the original object.\n",
            "\n",
            "\n",
            "  df['Duration'].fillna('Unknown', inplace=True)\n"
          ]
        }
      ]
    },
    {
      "cell_type": "markdown",
      "source": [
        "**1.2.7: Rating**\n",
        "\n",
        "The Rating column has 192 missing values. Missing ratings will be filled with \"Not Rated\" to indicate that no rating information is available for these entries."
      ],
      "metadata": {
        "id": "tBiSFh6SgQb1"
      }
    },
    {
      "cell_type": "code",
      "source": [
        "df['Rating'].fillna('Not Rated', inplace=True)"
      ],
      "metadata": {
        "id": "kZboj00fgVpj",
        "colab": {
          "base_uri": "https://localhost:8080/"
        },
        "outputId": "fffdb627-28de-480b-9b5a-c3f4a58f4dd2"
      },
      "execution_count": 15,
      "outputs": [
        {
          "output_type": "stream",
          "name": "stderr",
          "text": [
            "<ipython-input-15-4bf1dc6bb789>:1: FutureWarning: A value is trying to be set on a copy of a DataFrame or Series through chained assignment using an inplace method.\n",
            "The behavior will change in pandas 3.0. This inplace method will never work because the intermediate object on which we are setting values always behaves as a copy.\n",
            "\n",
            "For example, when doing 'df[col].method(value, inplace=True)', try using 'df.method({col: value}, inplace=True)' or df[col] = df[col].method(value) instead, to perform the operation inplace on the original object.\n",
            "\n",
            "\n",
            "  df['Rating'].fillna('Not Rated', inplace=True)\n"
          ]
        }
      ]
    },
    {
      "cell_type": "markdown",
      "source": [
        "**1.2.8: IMDb Rating**\n",
        "\n",
        "The IMDb Rating column has 118 missing values. These missing values will be filled with \"0\" to represent cases where IMDb ratings are unavailable."
      ],
      "metadata": {
        "id": "vHbO8Z3tgVyc"
      }
    },
    {
      "cell_type": "code",
      "source": [
        "df['IMDb Rating'].fillna(0, inplace=True)"
      ],
      "metadata": {
        "id": "JGMSIFL7gacY",
        "colab": {
          "base_uri": "https://localhost:8080/"
        },
        "outputId": "33293fea-7033-4212-e575-21a2a012a69c"
      },
      "execution_count": 16,
      "outputs": [
        {
          "output_type": "stream",
          "name": "stderr",
          "text": [
            "<ipython-input-16-272caa274cdd>:1: FutureWarning: A value is trying to be set on a copy of a DataFrame or Series through chained assignment using an inplace method.\n",
            "The behavior will change in pandas 3.0. This inplace method will never work because the intermediate object on which we are setting values always behaves as a copy.\n",
            "\n",
            "For example, when doing 'df[col].method(value, inplace=True)', try using 'df.method({col: value}, inplace=True)' or df[col] = df[col].method(value) instead, to perform the operation inplace on the original object.\n",
            "\n",
            "\n",
            "  df['IMDb Rating'].fillna(0, inplace=True)\n"
          ]
        }
      ]
    },
    {
      "cell_type": "markdown",
      "source": [
        "**1.2.9: Language**\n",
        "\n",
        "The Language column has 58 missing values. Missing values will be filled with \"Unknown\" to account for cases where the language information is not specified."
      ],
      "metadata": {
        "id": "ry0hkTIWgao5"
      }
    },
    {
      "cell_type": "code",
      "source": [
        "df['Language'].fillna('Unknown', inplace=True)"
      ],
      "metadata": {
        "id": "QUJn8Pa_hf45",
        "colab": {
          "base_uri": "https://localhost:8080/"
        },
        "outputId": "f9d42f7c-3d68-481c-a743-2ede788ea549"
      },
      "execution_count": 17,
      "outputs": [
        {
          "output_type": "stream",
          "name": "stderr",
          "text": [
            "<ipython-input-17-193ed3a653cf>:1: FutureWarning: A value is trying to be set on a copy of a DataFrame or Series through chained assignment using an inplace method.\n",
            "The behavior will change in pandas 3.0. This inplace method will never work because the intermediate object on which we are setting values always behaves as a copy.\n",
            "\n",
            "For example, when doing 'df[col].method(value, inplace=True)', try using 'df.method({col: value}, inplace=True)' or df[col] = df[col].method(value) instead, to perform the operation inplace on the original object.\n",
            "\n",
            "\n",
            "  df['Language'].fillna('Unknown', inplace=True)\n"
          ]
        }
      ]
    },
    {
      "cell_type": "markdown",
      "source": [
        "## **2. Unique Entries in the Country Column**"
      ],
      "metadata": {
        "id": "7wpWHG8PIoPB"
      }
    },
    {
      "cell_type": "markdown",
      "source": [
        "### **Identifying all the entries in the Country Column**"
      ],
      "metadata": {
        "id": "eveKbNWQMNaG"
      }
    },
    {
      "cell_type": "code",
      "source": [
        "# Display unique country entries\n",
        "unique_countries = df['Country'].unique()\n",
        "print(unique_countries)"
      ],
      "metadata": {
        "colab": {
          "base_uri": "https://localhost:8080/"
        },
        "id": "NOcy7GMALdVj",
        "outputId": "0b241175-0bcb-437c-fee5-4fc584a43db7"
      },
      "execution_count": 18,
      "outputs": [
        {
          "output_type": "stream",
          "name": "stdout",
          "text": [
            "['South Korea' 'Japan' 'Unknown' 'China' 'USA' 'Spain' 'France' 'UK'\n",
            " 'Belgium' 'USA, Poland' 'Nigeria' 'India' 'UK, USA' 'South Africa'\n",
            " 'Kenya' 'Ireland, Canada' 'Turkey' 'Czech Republic' 'USA, UK' 'Germany'\n",
            " 'USA, Australia' 'Poland' 'USA, Canada' 'New Zealand' 'Norway' 'Mexico'\n",
            " 'Ghana' 'Canada' 'Italy' 'Russia' 'Hong Kong' 'Vietnam' 'Philippines'\n",
            " 'Australia' 'Colombia']\n"
          ]
        }
      ]
    },
    {
      "cell_type": "markdown",
      "source": [
        "### **Split Multiple Countries**\n",
        "Keeping only the first country mentioned:"
      ],
      "metadata": {
        "id": "DdDQB5piMTjT"
      }
    },
    {
      "cell_type": "code",
      "source": [
        "# Split by commas and keep the first country\n",
        "df['Country'] = df['Country'].apply(lambda x: x.split(',')[0].strip() if ',' in x else x)\n"
      ],
      "metadata": {
        "id": "hN83JXH0MWy9"
      },
      "execution_count": 19,
      "outputs": []
    },
    {
      "cell_type": "code",
      "source": [
        "# Verify the changes\n",
        "cleaned_unique_countries = df['Country'].unique()\n",
        "print(cleaned_unique_countries)"
      ],
      "metadata": {
        "colab": {
          "base_uri": "https://localhost:8080/"
        },
        "id": "mL3af-gsMjsd",
        "outputId": "ae3790cc-39cc-4944-dcb9-71e00e08b1a3"
      },
      "execution_count": 20,
      "outputs": [
        {
          "output_type": "stream",
          "name": "stdout",
          "text": [
            "['South Korea' 'Japan' 'Unknown' 'China' 'USA' 'Spain' 'France' 'UK'\n",
            " 'Belgium' 'Nigeria' 'India' 'South Africa' 'Kenya' 'Ireland' 'Turkey'\n",
            " 'Czech Republic' 'Germany' 'Poland' 'New Zealand' 'Norway' 'Mexico'\n",
            " 'Ghana' 'Canada' 'Italy' 'Russia' 'Hong Kong' 'Vietnam' 'Philippines'\n",
            " 'Australia' 'Colombia']\n"
          ]
        }
      ]
    },
    {
      "cell_type": "markdown",
      "source": [
        "# **DataFrame Creation for Informational Analysis**"
      ],
      "metadata": {
        "id": "G3Y9Lu5Wm4Kw"
      }
    },
    {
      "cell_type": "markdown",
      "source": [
        "To ensure that analyses such as genre distribution, IMDb ratings, and content type breakdowns are not affected by duplicate entries, we created a new DataFrame, df_info_only. This DataFrame focuses solely on the informational aspects of the dataset and excludes any time-based data.\n",
        "\n",
        "**Key steps:**\n",
        "\n",
        "Dropped the 'Date Watched' column: Since time-based analysis is not relevant for this DataFrame, the Date Watched column was removed.\n",
        "\n",
        "Removed duplicates based on 'Title': To avoid multiple entries of the same show or movie, duplicates were removed, keeping only the first occurrence of each unique title.\n",
        "\n",
        "This cleaned DataFrame will be used for various analyses, including genre, ratings, and content type distribution, without the influence of duplicate records."
      ],
      "metadata": {
        "id": "q0RsY0Y4m9m3"
      }
    },
    {
      "cell_type": "code",
      "source": [
        "df_info_only = df.drop(columns=['Date Watched']).drop_duplicates(subset=['Title'])\n",
        "\n",
        "print(df_info_only.head())"
      ],
      "metadata": {
        "colab": {
          "base_uri": "https://localhost:8080/"
        },
        "id": "dF-bqzVEnBv9",
        "outputId": "76c25b82-4c5a-430a-a556-317a2d618e48"
      },
      "execution_count": 21,
      "outputs": [
        {
          "output_type": "stream",
          "name": "stdout",
          "text": [
            "                Title     Genre        Director      Country  Release Year  \\\n",
            "0  You are My Destiny   Romance  Kim Myung-wook  South Korea        2014.0   \n",
            "1      Love Next Door   Romance         Unknown  South Korea           0.0   \n",
            "5                 Eve  Thriller  Park Bong-seop  South Korea        2022.0   \n",
            "8       Chastity High   Unknown         Unknown  South Korea           0.0   \n",
            "9      Hotel Del Luna   Fantasy  Oh Choong-hwan  South Korea        2019.0   \n",
            "\n",
            "  Content Type     Duration     Rating  IMDb Rating Language  \n",
            "0    TV Series  36 episodes      PG-13          7.1   Korean  \n",
            "1    TV Series      Unknown  Not Rated          0.0   Korean  \n",
            "5    TV Series  16 episodes        18+          7.5   Korean  \n",
            "8    TV Series      Unknown  Not Rated          0.0   Korean  \n",
            "9    TV Series  16 episodes      PG-13          8.2   Korean  \n"
          ]
        }
      ]
    },
    {
      "cell_type": "markdown",
      "source": [
        "# **1. Time-Based Analysis**"
      ],
      "metadata": {
        "id": "d-pDSkqriYia"
      }
    },
    {
      "cell_type": "markdown",
      "source": [
        "**Summary:**\n",
        "\n",
        "Most Watched Month: Shows the month with the highest viewing activity.\n",
        "\n",
        "Least Watched Month: Shows the month with the lowest viewing activity.\n",
        "\n",
        "Most Watched Year: Shows the year with the most content watched.\n",
        "\n",
        "Least Watched Year: Shows the year with the least content watched."
      ],
      "metadata": {
        "id": "1hrnNpsijaLc"
      }
    },
    {
      "cell_type": "markdown",
      "source": [
        "### **1.1 Extract the Month and Year**\n",
        "\n",
        "Extracting the month and year from the Date Watched column to group the content watched by month."
      ],
      "metadata": {
        "id": "TAAB1nxopKGI"
      }
    },
    {
      "cell_type": "code",
      "source": [
        "# Rename df to df_time_series\n",
        "df_time_series = df.copy()"
      ],
      "metadata": {
        "id": "9rVfcO-kpkGO"
      },
      "execution_count": 22,
      "outputs": []
    },
    {
      "cell_type": "code",
      "source": [
        "# Convert 'Date Watched' to datetime format\n",
        "df_time_series['Date Watched'] = pd.to_datetime(df_time_series['Date Watched'], format='%d/%m/%Y', errors='coerce')"
      ],
      "metadata": {
        "id": "I0GbYFaWpUSE"
      },
      "execution_count": 23,
      "outputs": []
    },
    {
      "cell_type": "code",
      "source": [
        "# Extract month and year from 'Date Watched'\n",
        "df_time_series['Month'] = df_time_series['Date Watched'].dt.month\n",
        "df_time_series['Year'] = df_time_series['Date Watched'].dt.year"
      ],
      "metadata": {
        "id": "aygpMOJnp3cg"
      },
      "execution_count": 24,
      "outputs": []
    },
    {
      "cell_type": "code",
      "source": [
        "# Group by Year and Month and count the number of shows/movies watched\n",
        "content_per_month = df_time_series.groupby(['Year', 'Month']).size()\n",
        "\n",
        "content_per_month"
      ],
      "metadata": {
        "colab": {
          "base_uri": "https://localhost:8080/",
          "height": 0
        },
        "id": "lPCiAs4Gp9VL",
        "outputId": "0fe25ba2-db51-4b87-9dc6-c47c6fab7f6c"
      },
      "execution_count": 25,
      "outputs": [
        {
          "output_type": "execute_result",
          "data": {
            "text/plain": [
              "Year  Month\n",
              "2017  8         2\n",
              "      9        45\n",
              "      10       92\n",
              "      11       62\n",
              "      12       51\n",
              "               ..\n",
              "2024  5        58\n",
              "      6        21\n",
              "      7        59\n",
              "      8        43\n",
              "      9        17\n",
              "Length: 86, dtype: int64"
            ],
            "text/html": [
              "<div>\n",
              "<style scoped>\n",
              "    .dataframe tbody tr th:only-of-type {\n",
              "        vertical-align: middle;\n",
              "    }\n",
              "\n",
              "    .dataframe tbody tr th {\n",
              "        vertical-align: top;\n",
              "    }\n",
              "\n",
              "    .dataframe thead th {\n",
              "        text-align: right;\n",
              "    }\n",
              "</style>\n",
              "<table border=\"1\" class=\"dataframe\">\n",
              "  <thead>\n",
              "    <tr style=\"text-align: right;\">\n",
              "      <th></th>\n",
              "      <th></th>\n",
              "      <th>0</th>\n",
              "    </tr>\n",
              "    <tr>\n",
              "      <th>Year</th>\n",
              "      <th>Month</th>\n",
              "      <th></th>\n",
              "    </tr>\n",
              "  </thead>\n",
              "  <tbody>\n",
              "    <tr>\n",
              "      <th rowspan=\"5\" valign=\"top\">2017</th>\n",
              "      <th>8</th>\n",
              "      <td>2</td>\n",
              "    </tr>\n",
              "    <tr>\n",
              "      <th>9</th>\n",
              "      <td>45</td>\n",
              "    </tr>\n",
              "    <tr>\n",
              "      <th>10</th>\n",
              "      <td>92</td>\n",
              "    </tr>\n",
              "    <tr>\n",
              "      <th>11</th>\n",
              "      <td>62</td>\n",
              "    </tr>\n",
              "    <tr>\n",
              "      <th>12</th>\n",
              "      <td>51</td>\n",
              "    </tr>\n",
              "    <tr>\n",
              "      <th>...</th>\n",
              "      <th>...</th>\n",
              "      <td>...</td>\n",
              "    </tr>\n",
              "    <tr>\n",
              "      <th rowspan=\"5\" valign=\"top\">2024</th>\n",
              "      <th>5</th>\n",
              "      <td>58</td>\n",
              "    </tr>\n",
              "    <tr>\n",
              "      <th>6</th>\n",
              "      <td>21</td>\n",
              "    </tr>\n",
              "    <tr>\n",
              "      <th>7</th>\n",
              "      <td>59</td>\n",
              "    </tr>\n",
              "    <tr>\n",
              "      <th>8</th>\n",
              "      <td>43</td>\n",
              "    </tr>\n",
              "    <tr>\n",
              "      <th>9</th>\n",
              "      <td>17</td>\n",
              "    </tr>\n",
              "  </tbody>\n",
              "</table>\n",
              "<p>86 rows × 1 columns</p>\n",
              "</div><br><label><b>dtype:</b> int64</label>"
            ]
          },
          "metadata": {},
          "execution_count": 25
        }
      ]
    },
    {
      "cell_type": "markdown",
      "source": [
        "### **1.2 Find the month with the Most and Least Viewing Activity**"
      ],
      "metadata": {
        "id": "b74OOUA6xMbm"
      }
    },
    {
      "cell_type": "code",
      "source": [
        "most_watched_month = content_per_month.idxmax()\n",
        "most_watched_count = content_per_month.max()\n",
        "\n",
        "least_watched_month = content_per_month.idxmin()\n",
        "least_watched_count = content_per_month.min()\n",
        "\n",
        "print(f\"The most watched month: {most_watched_month} with {most_watched_count} shows/movies watched.\")\n",
        "print(f\"The least watched month: {least_watched_month} with {least_watched_count} shows/movies watched.\")\n"
      ],
      "metadata": {
        "colab": {
          "base_uri": "https://localhost:8080/"
        },
        "id": "WbPOrYoOxUNN",
        "outputId": "7c743ca8-8c5b-434f-d40d-9ddc7fd8bb6f"
      },
      "execution_count": 26,
      "outputs": [
        {
          "output_type": "stream",
          "name": "stdout",
          "text": [
            "The most watched month: (2021, 1) with 157 shows/movies watched.\n",
            "The least watched month: (2017, 8) with 2 shows/movies watched.\n"
          ]
        }
      ]
    },
    {
      "cell_type": "markdown",
      "source": [
        "### **1.3 Find the Year with the Most and Least Viewing Activity**"
      ],
      "metadata": {
        "id": "2nsn7T5txnnT"
      }
    },
    {
      "cell_type": "code",
      "source": [
        "content_per_year = df_time_series.groupby('Year').size()\n",
        "\n",
        "most_watched_year = content_per_year.idxmax()\n",
        "most_watched_year_count = content_per_year.max()\n",
        "\n",
        "least_watched_year = content_per_year.idxmin()\n",
        "least_watched_year_count = content_per_year.min()\n",
        "\n",
        "print(f\"The year with the most viewing activity: {most_watched_year} with {most_watched_year_count} shows/movies watched.\")\n",
        "print(f\"The year with the least viewing activity: {least_watched_year} with {least_watched_year_count} shows/movies watched.\")"
      ],
      "metadata": {
        "colab": {
          "base_uri": "https://localhost:8080/"
        },
        "id": "4dSccVhtxqDe",
        "outputId": "e09b15da-7632-41d4-f372-7a4aee3071de"
      },
      "execution_count": 27,
      "outputs": [
        {
          "output_type": "stream",
          "name": "stdout",
          "text": [
            "The year with the most viewing activity: 2021 with 1008 shows/movies watched.\n",
            "The year with the least viewing activity: 2017 with 252 shows/movies watched.\n"
          ]
        }
      ]
    },
    {
      "cell_type": "markdown",
      "source": [
        "# **2. Genre Analysis**"
      ],
      "metadata": {
        "id": "_6BTmmpezIus"
      }
    },
    {
      "cell_type": "markdown",
      "source": [
        "**Summary:**\n",
        "\n",
        "Genre Count: Shows the total number of shows/movies watched for each genre.\n",
        "\n",
        "Most/Least Watched Genres: Identifies which genres you watched the most and least.\n",
        "\n",
        "Highest/Lowest Rated Genres: Compares IMDb ratings across genres.\n",
        "\n",
        "Listing the shows with IMDb ratings higher than 8.0 with their genres."
      ],
      "metadata": {
        "id": "t7dURBLizPEh"
      }
    },
    {
      "cell_type": "markdown",
      "source": [
        "## **Count of All Genres**\n",
        "This gives a full breakdown of how many shows or movies fall under each genre."
      ],
      "metadata": {
        "id": "Xgp1kALBz6pI"
      }
    },
    {
      "cell_type": "code",
      "source": [
        "genre_count = df_info_only['Genre'].value_counts()\n",
        "\n",
        "print(\"Count of all genres:\")\n",
        "genre_count"
      ],
      "metadata": {
        "colab": {
          "base_uri": "https://localhost:8080/",
          "height": 0
        },
        "id": "EgOFxkDI0CuX",
        "outputId": "25dfb83b-07a7-4e1f-a2df-31e2416bf435"
      },
      "execution_count": 28,
      "outputs": [
        {
          "output_type": "stream",
          "name": "stdout",
          "text": [
            "Count of all genres:\n"
          ]
        },
        {
          "output_type": "execute_result",
          "data": {
            "text/plain": [
              "Genre\n",
              "Romance        130\n",
              "Action         121\n",
              "Drama          113\n",
              "Comedy          97\n",
              "Fantasy         77\n",
              "Thriller        68\n",
              "Sci-Fi          44\n",
              "Crime           42\n",
              "Historical      19\n",
              "Animation       18\n",
              "Documentary     17\n",
              "Reality         14\n",
              "Mystery         14\n",
              "Unknown         12\n",
              "Adventure       10\n",
              "Horror           7\n",
              "Family           6\n",
              "Legal            5\n",
              "Medical          2\n",
              "Biography        2\n",
              "Sports           1\n",
              "Political        1\n",
              "Western          1\n",
              "War              1\n",
              "Talk Show        1\n",
              "Name: count, dtype: int64"
            ],
            "text/html": [
              "<div>\n",
              "<style scoped>\n",
              "    .dataframe tbody tr th:only-of-type {\n",
              "        vertical-align: middle;\n",
              "    }\n",
              "\n",
              "    .dataframe tbody tr th {\n",
              "        vertical-align: top;\n",
              "    }\n",
              "\n",
              "    .dataframe thead th {\n",
              "        text-align: right;\n",
              "    }\n",
              "</style>\n",
              "<table border=\"1\" class=\"dataframe\">\n",
              "  <thead>\n",
              "    <tr style=\"text-align: right;\">\n",
              "      <th></th>\n",
              "      <th>count</th>\n",
              "    </tr>\n",
              "    <tr>\n",
              "      <th>Genre</th>\n",
              "      <th></th>\n",
              "    </tr>\n",
              "  </thead>\n",
              "  <tbody>\n",
              "    <tr>\n",
              "      <th>Romance</th>\n",
              "      <td>130</td>\n",
              "    </tr>\n",
              "    <tr>\n",
              "      <th>Action</th>\n",
              "      <td>121</td>\n",
              "    </tr>\n",
              "    <tr>\n",
              "      <th>Drama</th>\n",
              "      <td>113</td>\n",
              "    </tr>\n",
              "    <tr>\n",
              "      <th>Comedy</th>\n",
              "      <td>97</td>\n",
              "    </tr>\n",
              "    <tr>\n",
              "      <th>Fantasy</th>\n",
              "      <td>77</td>\n",
              "    </tr>\n",
              "    <tr>\n",
              "      <th>Thriller</th>\n",
              "      <td>68</td>\n",
              "    </tr>\n",
              "    <tr>\n",
              "      <th>Sci-Fi</th>\n",
              "      <td>44</td>\n",
              "    </tr>\n",
              "    <tr>\n",
              "      <th>Crime</th>\n",
              "      <td>42</td>\n",
              "    </tr>\n",
              "    <tr>\n",
              "      <th>Historical</th>\n",
              "      <td>19</td>\n",
              "    </tr>\n",
              "    <tr>\n",
              "      <th>Animation</th>\n",
              "      <td>18</td>\n",
              "    </tr>\n",
              "    <tr>\n",
              "      <th>Documentary</th>\n",
              "      <td>17</td>\n",
              "    </tr>\n",
              "    <tr>\n",
              "      <th>Reality</th>\n",
              "      <td>14</td>\n",
              "    </tr>\n",
              "    <tr>\n",
              "      <th>Mystery</th>\n",
              "      <td>14</td>\n",
              "    </tr>\n",
              "    <tr>\n",
              "      <th>Unknown</th>\n",
              "      <td>12</td>\n",
              "    </tr>\n",
              "    <tr>\n",
              "      <th>Adventure</th>\n",
              "      <td>10</td>\n",
              "    </tr>\n",
              "    <tr>\n",
              "      <th>Horror</th>\n",
              "      <td>7</td>\n",
              "    </tr>\n",
              "    <tr>\n",
              "      <th>Family</th>\n",
              "      <td>6</td>\n",
              "    </tr>\n",
              "    <tr>\n",
              "      <th>Legal</th>\n",
              "      <td>5</td>\n",
              "    </tr>\n",
              "    <tr>\n",
              "      <th>Medical</th>\n",
              "      <td>2</td>\n",
              "    </tr>\n",
              "    <tr>\n",
              "      <th>Biography</th>\n",
              "      <td>2</td>\n",
              "    </tr>\n",
              "    <tr>\n",
              "      <th>Sports</th>\n",
              "      <td>1</td>\n",
              "    </tr>\n",
              "    <tr>\n",
              "      <th>Political</th>\n",
              "      <td>1</td>\n",
              "    </tr>\n",
              "    <tr>\n",
              "      <th>Western</th>\n",
              "      <td>1</td>\n",
              "    </tr>\n",
              "    <tr>\n",
              "      <th>War</th>\n",
              "      <td>1</td>\n",
              "    </tr>\n",
              "    <tr>\n",
              "      <th>Talk Show</th>\n",
              "      <td>1</td>\n",
              "    </tr>\n",
              "  </tbody>\n",
              "</table>\n",
              "</div><br><label><b>dtype:</b> int64</label>"
            ]
          },
          "metadata": {},
          "execution_count": 28
        }
      ]
    },
    {
      "cell_type": "markdown",
      "source": [
        "## **Most and Least Watched Genres**\n",
        "This identifies what I've watched the most and the least."
      ],
      "metadata": {
        "id": "ke0S6aix0Rku"
      }
    },
    {
      "cell_type": "code",
      "source": [
        "most_watched_genre = genre_count.idxmax()\n",
        "most_watched_genre_count = genre_count.max()\n",
        "\n",
        "least_watched_genre = genre_count.idxmin()\n",
        "least_watched_genre_count = genre_count.min()\n",
        "\n",
        "print(f\"\\nThe most watched genre: {most_watched_genre} with {most_watched_genre_count} shows/movies watched.\")\n",
        "print(f\"The least watched genre: {least_watched_genre} with {least_watched_genre_count} shows/movies watched.\")"
      ],
      "metadata": {
        "colab": {
          "base_uri": "https://localhost:8080/"
        },
        "id": "kgw1EGVl0V3I",
        "outputId": "55b45020-8d99-4d7d-e7ca-b3b59903334c"
      },
      "execution_count": 29,
      "outputs": [
        {
          "output_type": "stream",
          "name": "stdout",
          "text": [
            "\n",
            "The most watched genre: Romance with 130 shows/movies watched.\n",
            "The least watched genre: Sports with 1 shows/movies watched.\n"
          ]
        }
      ]
    },
    {
      "cell_type": "markdown",
      "source": [
        "## **Genres with Highest and Lowest IMDb Ratings (Excluding 0 Ratings)**\n"
      ],
      "metadata": {
        "id": "BMUUTSW809u9"
      }
    },
    {
      "cell_type": "code",
      "source": [
        "# Exclude rows where IMDb Rating is 0 (indicating unknown or not rated)\n",
        "df_rated = df_info_only[df_info_only['IMDb Rating'] != 0]\n",
        "\n",
        "# Convert 'IMDb Rating' to numeric if needed\n",
        "df_rated['IMDb Rating'] = pd.to_numeric(df_rated['IMDb Rating'], errors='coerce')\n",
        "\n",
        "# Group by Genre and calculate the mean IMDb Rating for each genre\n",
        "imdb_by_genre = df_rated.groupby('Genre')['IMDb Rating'].mean()\n",
        "\n",
        "# Find the genre with the highest IMDb rating\n",
        "highest_rated_genre = imdb_by_genre.idxmax()\n",
        "highest_imdb_rating = imdb_by_genre.max()\n",
        "\n",
        "# Find the genre with the lowest IMDb rating\n",
        "lowest_rated_genre = imdb_by_genre.idxmin()\n",
        "lowest_imdb_rating = imdb_by_genre.min()\n",
        "\n",
        "print(f\"\\nThe genre with the highest IMDb rating: {highest_rated_genre} with an average rating of {highest_imdb_rating}.\")\n",
        "print(f\"The genre with the lowest IMDb rating: {lowest_rated_genre} with an average rating of {lowest_imdb_rating}.\")"
      ],
      "metadata": {
        "colab": {
          "base_uri": "https://localhost:8080/"
        },
        "id": "0_2daVq_1EYI",
        "outputId": "2acfb632-c251-433c-ddae-80e51f870023"
      },
      "execution_count": 30,
      "outputs": [
        {
          "output_type": "stream",
          "name": "stdout",
          "text": [
            "\n",
            "The genre with the highest IMDb rating: Sports with an average rating of 8.4.\n",
            "The genre with the lowest IMDb rating: Reality with an average rating of 6.385714285714286.\n"
          ]
        },
        {
          "output_type": "stream",
          "name": "stderr",
          "text": [
            "<ipython-input-30-7d54abf45934>:5: SettingWithCopyWarning: \n",
            "A value is trying to be set on a copy of a slice from a DataFrame.\n",
            "Try using .loc[row_indexer,col_indexer] = value instead\n",
            "\n",
            "See the caveats in the documentation: https://pandas.pydata.org/pandas-docs/stable/user_guide/indexing.html#returning-a-view-versus-a-copy\n",
            "  df_rated['IMDb Rating'] = pd.to_numeric(df_rated['IMDb Rating'], errors='coerce')\n"
          ]
        }
      ]
    },
    {
      "cell_type": "markdown",
      "source": [
        "## **TV Series with Romance Genre and IMDb Rating > 8.0:**"
      ],
      "metadata": {
        "id": "e4Zbnap2PD2M"
      }
    },
    {
      "cell_type": "code",
      "source": [
        "high_rated_romance_tv = df_info_only[(df_info_only['IMDb Rating'] > 8.0) &\n",
        "                                     (df_info_only['Genre'].str.contains('Romance')) &\n",
        "                                     (df_info_only['Content Type'] == 'TV Series')]\n",
        "high_rated_romance_tv[['Title', 'Genre', 'IMDb Rating']]"
      ],
      "metadata": {
        "colab": {
          "base_uri": "https://localhost:8080/",
          "height": 0
        },
        "id": "sw1VOwvPPJGA",
        "outputId": "495a16b0-3ce4-4f79-b97c-355a466ff044"
      },
      "execution_count": 31,
      "outputs": [
        {
          "output_type": "execute_result",
          "data": {
            "text/plain": [
              "                             Title    Genre  IMDb Rating\n",
              "62          Twenty Five Twenty One  Romance          8.7\n",
              "73                   Coffee Prince  Romance          8.2\n",
              "176             Suspicious Partner  Romance          8.1\n",
              "290                   Youth of May  Romance          8.5\n",
              "317               Fight for My Way  Romance          8.1\n",
              "364          Something in the Rain  Romance          8.1\n",
              "439           Hometown Cha-Cha-Cha  Romance          8.4\n",
              "475  Because This Is My First Life  Romance          8.1\n",
              "490          My Love from the Star  Romance          8.2\n",
              "537          Strong Girl Bong-soon  Romance          8.2\n",
              "566                    Hidden Love  Romance          8.8\n",
              "594           Crash Landing on You  Romance          8.7\n",
              "646         Descendants of the Sun  Romance          8.3\n",
              "671             Our Beloved Summer  Romance          8.4\n",
              "674       It's Okay to Not Be Okay  Romance          8.6\n",
              "753              Business Proposal  Romance          8.1"
            ],
            "text/html": [
              "\n",
              "  <div id=\"df-dd1d7c53-1414-4f14-9a17-2d6c0b440155\" class=\"colab-df-container\">\n",
              "    <div>\n",
              "<style scoped>\n",
              "    .dataframe tbody tr th:only-of-type {\n",
              "        vertical-align: middle;\n",
              "    }\n",
              "\n",
              "    .dataframe tbody tr th {\n",
              "        vertical-align: top;\n",
              "    }\n",
              "\n",
              "    .dataframe thead th {\n",
              "        text-align: right;\n",
              "    }\n",
              "</style>\n",
              "<table border=\"1\" class=\"dataframe\">\n",
              "  <thead>\n",
              "    <tr style=\"text-align: right;\">\n",
              "      <th></th>\n",
              "      <th>Title</th>\n",
              "      <th>Genre</th>\n",
              "      <th>IMDb Rating</th>\n",
              "    </tr>\n",
              "  </thead>\n",
              "  <tbody>\n",
              "    <tr>\n",
              "      <th>62</th>\n",
              "      <td>Twenty Five Twenty One</td>\n",
              "      <td>Romance</td>\n",
              "      <td>8.7</td>\n",
              "    </tr>\n",
              "    <tr>\n",
              "      <th>73</th>\n",
              "      <td>Coffee Prince</td>\n",
              "      <td>Romance</td>\n",
              "      <td>8.2</td>\n",
              "    </tr>\n",
              "    <tr>\n",
              "      <th>176</th>\n",
              "      <td>Suspicious Partner</td>\n",
              "      <td>Romance</td>\n",
              "      <td>8.1</td>\n",
              "    </tr>\n",
              "    <tr>\n",
              "      <th>290</th>\n",
              "      <td>Youth of May</td>\n",
              "      <td>Romance</td>\n",
              "      <td>8.5</td>\n",
              "    </tr>\n",
              "    <tr>\n",
              "      <th>317</th>\n",
              "      <td>Fight for My Way</td>\n",
              "      <td>Romance</td>\n",
              "      <td>8.1</td>\n",
              "    </tr>\n",
              "    <tr>\n",
              "      <th>364</th>\n",
              "      <td>Something in the Rain</td>\n",
              "      <td>Romance</td>\n",
              "      <td>8.1</td>\n",
              "    </tr>\n",
              "    <tr>\n",
              "      <th>439</th>\n",
              "      <td>Hometown Cha-Cha-Cha</td>\n",
              "      <td>Romance</td>\n",
              "      <td>8.4</td>\n",
              "    </tr>\n",
              "    <tr>\n",
              "      <th>475</th>\n",
              "      <td>Because This Is My First Life</td>\n",
              "      <td>Romance</td>\n",
              "      <td>8.1</td>\n",
              "    </tr>\n",
              "    <tr>\n",
              "      <th>490</th>\n",
              "      <td>My Love from the Star</td>\n",
              "      <td>Romance</td>\n",
              "      <td>8.2</td>\n",
              "    </tr>\n",
              "    <tr>\n",
              "      <th>537</th>\n",
              "      <td>Strong Girl Bong-soon</td>\n",
              "      <td>Romance</td>\n",
              "      <td>8.2</td>\n",
              "    </tr>\n",
              "    <tr>\n",
              "      <th>566</th>\n",
              "      <td>Hidden Love</td>\n",
              "      <td>Romance</td>\n",
              "      <td>8.8</td>\n",
              "    </tr>\n",
              "    <tr>\n",
              "      <th>594</th>\n",
              "      <td>Crash Landing on You</td>\n",
              "      <td>Romance</td>\n",
              "      <td>8.7</td>\n",
              "    </tr>\n",
              "    <tr>\n",
              "      <th>646</th>\n",
              "      <td>Descendants of the Sun</td>\n",
              "      <td>Romance</td>\n",
              "      <td>8.3</td>\n",
              "    </tr>\n",
              "    <tr>\n",
              "      <th>671</th>\n",
              "      <td>Our Beloved Summer</td>\n",
              "      <td>Romance</td>\n",
              "      <td>8.4</td>\n",
              "    </tr>\n",
              "    <tr>\n",
              "      <th>674</th>\n",
              "      <td>It's Okay to Not Be Okay</td>\n",
              "      <td>Romance</td>\n",
              "      <td>8.6</td>\n",
              "    </tr>\n",
              "    <tr>\n",
              "      <th>753</th>\n",
              "      <td>Business Proposal</td>\n",
              "      <td>Romance</td>\n",
              "      <td>8.1</td>\n",
              "    </tr>\n",
              "  </tbody>\n",
              "</table>\n",
              "</div>\n",
              "    <div class=\"colab-df-buttons\">\n",
              "\n",
              "  <div class=\"colab-df-container\">\n",
              "    <button class=\"colab-df-convert\" onclick=\"convertToInteractive('df-dd1d7c53-1414-4f14-9a17-2d6c0b440155')\"\n",
              "            title=\"Convert this dataframe to an interactive table.\"\n",
              "            style=\"display:none;\">\n",
              "\n",
              "  <svg xmlns=\"http://www.w3.org/2000/svg\" height=\"24px\" viewBox=\"0 -960 960 960\">\n",
              "    <path d=\"M120-120v-720h720v720H120Zm60-500h600v-160H180v160Zm220 220h160v-160H400v160Zm0 220h160v-160H400v160ZM180-400h160v-160H180v160Zm440 0h160v-160H620v160ZM180-180h160v-160H180v160Zm440 0h160v-160H620v160Z\"/>\n",
              "  </svg>\n",
              "    </button>\n",
              "\n",
              "  <style>\n",
              "    .colab-df-container {\n",
              "      display:flex;\n",
              "      gap: 12px;\n",
              "    }\n",
              "\n",
              "    .colab-df-convert {\n",
              "      background-color: #E8F0FE;\n",
              "      border: none;\n",
              "      border-radius: 50%;\n",
              "      cursor: pointer;\n",
              "      display: none;\n",
              "      fill: #1967D2;\n",
              "      height: 32px;\n",
              "      padding: 0 0 0 0;\n",
              "      width: 32px;\n",
              "    }\n",
              "\n",
              "    .colab-df-convert:hover {\n",
              "      background-color: #E2EBFA;\n",
              "      box-shadow: 0px 1px 2px rgba(60, 64, 67, 0.3), 0px 1px 3px 1px rgba(60, 64, 67, 0.15);\n",
              "      fill: #174EA6;\n",
              "    }\n",
              "\n",
              "    .colab-df-buttons div {\n",
              "      margin-bottom: 4px;\n",
              "    }\n",
              "\n",
              "    [theme=dark] .colab-df-convert {\n",
              "      background-color: #3B4455;\n",
              "      fill: #D2E3FC;\n",
              "    }\n",
              "\n",
              "    [theme=dark] .colab-df-convert:hover {\n",
              "      background-color: #434B5C;\n",
              "      box-shadow: 0px 1px 3px 1px rgba(0, 0, 0, 0.15);\n",
              "      filter: drop-shadow(0px 1px 2px rgba(0, 0, 0, 0.3));\n",
              "      fill: #FFFFFF;\n",
              "    }\n",
              "  </style>\n",
              "\n",
              "    <script>\n",
              "      const buttonEl =\n",
              "        document.querySelector('#df-dd1d7c53-1414-4f14-9a17-2d6c0b440155 button.colab-df-convert');\n",
              "      buttonEl.style.display =\n",
              "        google.colab.kernel.accessAllowed ? 'block' : 'none';\n",
              "\n",
              "      async function convertToInteractive(key) {\n",
              "        const element = document.querySelector('#df-dd1d7c53-1414-4f14-9a17-2d6c0b440155');\n",
              "        const dataTable =\n",
              "          await google.colab.kernel.invokeFunction('convertToInteractive',\n",
              "                                                    [key], {});\n",
              "        if (!dataTable) return;\n",
              "\n",
              "        const docLinkHtml = 'Like what you see? Visit the ' +\n",
              "          '<a target=\"_blank\" href=https://colab.research.google.com/notebooks/data_table.ipynb>data table notebook</a>'\n",
              "          + ' to learn more about interactive tables.';\n",
              "        element.innerHTML = '';\n",
              "        dataTable['output_type'] = 'display_data';\n",
              "        await google.colab.output.renderOutput(dataTable, element);\n",
              "        const docLink = document.createElement('div');\n",
              "        docLink.innerHTML = docLinkHtml;\n",
              "        element.appendChild(docLink);\n",
              "      }\n",
              "    </script>\n",
              "  </div>\n",
              "\n",
              "\n",
              "<div id=\"df-7aa0a86e-9b63-4e3a-af2c-a0fff39a391a\">\n",
              "  <button class=\"colab-df-quickchart\" onclick=\"quickchart('df-7aa0a86e-9b63-4e3a-af2c-a0fff39a391a')\"\n",
              "            title=\"Suggest charts\"\n",
              "            style=\"display:none;\">\n",
              "\n",
              "<svg xmlns=\"http://www.w3.org/2000/svg\" height=\"24px\"viewBox=\"0 0 24 24\"\n",
              "     width=\"24px\">\n",
              "    <g>\n",
              "        <path d=\"M19 3H5c-1.1 0-2 .9-2 2v14c0 1.1.9 2 2 2h14c1.1 0 2-.9 2-2V5c0-1.1-.9-2-2-2zM9 17H7v-7h2v7zm4 0h-2V7h2v10zm4 0h-2v-4h2v4z\"/>\n",
              "    </g>\n",
              "</svg>\n",
              "  </button>\n",
              "\n",
              "<style>\n",
              "  .colab-df-quickchart {\n",
              "      --bg-color: #E8F0FE;\n",
              "      --fill-color: #1967D2;\n",
              "      --hover-bg-color: #E2EBFA;\n",
              "      --hover-fill-color: #174EA6;\n",
              "      --disabled-fill-color: #AAA;\n",
              "      --disabled-bg-color: #DDD;\n",
              "  }\n",
              "\n",
              "  [theme=dark] .colab-df-quickchart {\n",
              "      --bg-color: #3B4455;\n",
              "      --fill-color: #D2E3FC;\n",
              "      --hover-bg-color: #434B5C;\n",
              "      --hover-fill-color: #FFFFFF;\n",
              "      --disabled-bg-color: #3B4455;\n",
              "      --disabled-fill-color: #666;\n",
              "  }\n",
              "\n",
              "  .colab-df-quickchart {\n",
              "    background-color: var(--bg-color);\n",
              "    border: none;\n",
              "    border-radius: 50%;\n",
              "    cursor: pointer;\n",
              "    display: none;\n",
              "    fill: var(--fill-color);\n",
              "    height: 32px;\n",
              "    padding: 0;\n",
              "    width: 32px;\n",
              "  }\n",
              "\n",
              "  .colab-df-quickchart:hover {\n",
              "    background-color: var(--hover-bg-color);\n",
              "    box-shadow: 0 1px 2px rgba(60, 64, 67, 0.3), 0 1px 3px 1px rgba(60, 64, 67, 0.15);\n",
              "    fill: var(--button-hover-fill-color);\n",
              "  }\n",
              "\n",
              "  .colab-df-quickchart-complete:disabled,\n",
              "  .colab-df-quickchart-complete:disabled:hover {\n",
              "    background-color: var(--disabled-bg-color);\n",
              "    fill: var(--disabled-fill-color);\n",
              "    box-shadow: none;\n",
              "  }\n",
              "\n",
              "  .colab-df-spinner {\n",
              "    border: 2px solid var(--fill-color);\n",
              "    border-color: transparent;\n",
              "    border-bottom-color: var(--fill-color);\n",
              "    animation:\n",
              "      spin 1s steps(1) infinite;\n",
              "  }\n",
              "\n",
              "  @keyframes spin {\n",
              "    0% {\n",
              "      border-color: transparent;\n",
              "      border-bottom-color: var(--fill-color);\n",
              "      border-left-color: var(--fill-color);\n",
              "    }\n",
              "    20% {\n",
              "      border-color: transparent;\n",
              "      border-left-color: var(--fill-color);\n",
              "      border-top-color: var(--fill-color);\n",
              "    }\n",
              "    30% {\n",
              "      border-color: transparent;\n",
              "      border-left-color: var(--fill-color);\n",
              "      border-top-color: var(--fill-color);\n",
              "      border-right-color: var(--fill-color);\n",
              "    }\n",
              "    40% {\n",
              "      border-color: transparent;\n",
              "      border-right-color: var(--fill-color);\n",
              "      border-top-color: var(--fill-color);\n",
              "    }\n",
              "    60% {\n",
              "      border-color: transparent;\n",
              "      border-right-color: var(--fill-color);\n",
              "    }\n",
              "    80% {\n",
              "      border-color: transparent;\n",
              "      border-right-color: var(--fill-color);\n",
              "      border-bottom-color: var(--fill-color);\n",
              "    }\n",
              "    90% {\n",
              "      border-color: transparent;\n",
              "      border-bottom-color: var(--fill-color);\n",
              "    }\n",
              "  }\n",
              "</style>\n",
              "\n",
              "  <script>\n",
              "    async function quickchart(key) {\n",
              "      const quickchartButtonEl =\n",
              "        document.querySelector('#' + key + ' button');\n",
              "      quickchartButtonEl.disabled = true;  // To prevent multiple clicks.\n",
              "      quickchartButtonEl.classList.add('colab-df-spinner');\n",
              "      try {\n",
              "        const charts = await google.colab.kernel.invokeFunction(\n",
              "            'suggestCharts', [key], {});\n",
              "      } catch (error) {\n",
              "        console.error('Error during call to suggestCharts:', error);\n",
              "      }\n",
              "      quickchartButtonEl.classList.remove('colab-df-spinner');\n",
              "      quickchartButtonEl.classList.add('colab-df-quickchart-complete');\n",
              "    }\n",
              "    (() => {\n",
              "      let quickchartButtonEl =\n",
              "        document.querySelector('#df-7aa0a86e-9b63-4e3a-af2c-a0fff39a391a button');\n",
              "      quickchartButtonEl.style.display =\n",
              "        google.colab.kernel.accessAllowed ? 'block' : 'none';\n",
              "    })();\n",
              "  </script>\n",
              "</div>\n",
              "\n",
              "    </div>\n",
              "  </div>\n"
            ],
            "application/vnd.google.colaboratory.intrinsic+json": {
              "type": "dataframe",
              "summary": "{\n  \"name\": \"high_rated_romance_tv[['Title', 'Genre', 'IMDb Rating']]\",\n  \"rows\": 16,\n  \"fields\": [\n    {\n      \"column\": \"Title\",\n      \"properties\": {\n        \"dtype\": \"string\",\n        \"num_unique_values\": 16,\n        \"samples\": [\n          \"Twenty Five Twenty One\",\n          \"Coffee Prince\",\n          \"Something in the Rain\"\n        ],\n        \"semantic_type\": \"\",\n        \"description\": \"\"\n      }\n    },\n    {\n      \"column\": \"Genre\",\n      \"properties\": {\n        \"dtype\": \"category\",\n        \"num_unique_values\": 1,\n        \"samples\": [\n          \"Romance\"\n        ],\n        \"semantic_type\": \"\",\n        \"description\": \"\"\n      }\n    },\n    {\n      \"column\": \"IMDb Rating\",\n      \"properties\": {\n        \"dtype\": \"number\",\n        \"std\": 0.24757153848265095,\n        \"min\": 8.1,\n        \"max\": 8.8,\n        \"num_unique_values\": 8,\n        \"samples\": [\n          8.2\n        ],\n        \"semantic_type\": \"\",\n        \"description\": \"\"\n      }\n    }\n  ]\n}"
            }
          },
          "metadata": {},
          "execution_count": 31
        }
      ]
    },
    {
      "cell_type": "markdown",
      "source": [
        "## **TV Series with Crime Genre and IMDb Rating > 8.0:**"
      ],
      "metadata": {
        "id": "5CwB2wYA7ML7"
      }
    },
    {
      "cell_type": "code",
      "source": [
        "high_rated_crime_tv = df_info_only[(df_info_only['IMDb Rating'] > 8.0) &\n",
        "                                   (df_info_only['Genre'].str.contains('Crime')) &\n",
        "                                   (df_info_only['Content Type'] == 'TV Series')]\n",
        "high_rated_crime_tv[['Title', 'Genre', 'IMDb Rating']]"
      ],
      "metadata": {
        "colab": {
          "base_uri": "https://localhost:8080/",
          "height": 0
        },
        "id": "WYL8QwUl7Qq8",
        "outputId": "94474aec-12c4-47e1-ec81-1671d5b040c6"
      },
      "execution_count": 32,
      "outputs": [
        {
          "output_type": "execute_result",
          "data": {
            "text/plain": [
              "                   Title  Genre  IMDb Rating\n",
              "529          Money Heist  Crime          8.2\n",
              "613               Luther  Crime          8.4\n",
              "760              Top Boy  Crime          8.4\n",
              "1070               Power  Crime          8.1\n",
              "1310      Peaky Blinders  Crime          8.8\n",
              "1633               Ozark  Crime          8.5\n",
              "1889              Narcos  Crime          8.8\n",
              "3039            The Fall  Crime          8.1\n",
              "3103      Ashes to Ashes  Crime          8.2\n",
              "3131        White Collar  Crime          8.2\n",
              "3581        Line of Duty  Crime          8.7\n",
              "3597    When They See Us  Crime          8.9\n",
              "4152  Person of Interest  Crime          8.4\n",
              "4683          MINDHUNTER  Crime          8.6\n",
              "4779              Dexter  Crime          8.7"
            ],
            "text/html": [
              "\n",
              "  <div id=\"df-dd8df431-f1a3-435a-8e91-a0ba91773b7a\" class=\"colab-df-container\">\n",
              "    <div>\n",
              "<style scoped>\n",
              "    .dataframe tbody tr th:only-of-type {\n",
              "        vertical-align: middle;\n",
              "    }\n",
              "\n",
              "    .dataframe tbody tr th {\n",
              "        vertical-align: top;\n",
              "    }\n",
              "\n",
              "    .dataframe thead th {\n",
              "        text-align: right;\n",
              "    }\n",
              "</style>\n",
              "<table border=\"1\" class=\"dataframe\">\n",
              "  <thead>\n",
              "    <tr style=\"text-align: right;\">\n",
              "      <th></th>\n",
              "      <th>Title</th>\n",
              "      <th>Genre</th>\n",
              "      <th>IMDb Rating</th>\n",
              "    </tr>\n",
              "  </thead>\n",
              "  <tbody>\n",
              "    <tr>\n",
              "      <th>529</th>\n",
              "      <td>Money Heist</td>\n",
              "      <td>Crime</td>\n",
              "      <td>8.2</td>\n",
              "    </tr>\n",
              "    <tr>\n",
              "      <th>613</th>\n",
              "      <td>Luther</td>\n",
              "      <td>Crime</td>\n",
              "      <td>8.4</td>\n",
              "    </tr>\n",
              "    <tr>\n",
              "      <th>760</th>\n",
              "      <td>Top Boy</td>\n",
              "      <td>Crime</td>\n",
              "      <td>8.4</td>\n",
              "    </tr>\n",
              "    <tr>\n",
              "      <th>1070</th>\n",
              "      <td>Power</td>\n",
              "      <td>Crime</td>\n",
              "      <td>8.1</td>\n",
              "    </tr>\n",
              "    <tr>\n",
              "      <th>1310</th>\n",
              "      <td>Peaky Blinders</td>\n",
              "      <td>Crime</td>\n",
              "      <td>8.8</td>\n",
              "    </tr>\n",
              "    <tr>\n",
              "      <th>1633</th>\n",
              "      <td>Ozark</td>\n",
              "      <td>Crime</td>\n",
              "      <td>8.5</td>\n",
              "    </tr>\n",
              "    <tr>\n",
              "      <th>1889</th>\n",
              "      <td>Narcos</td>\n",
              "      <td>Crime</td>\n",
              "      <td>8.8</td>\n",
              "    </tr>\n",
              "    <tr>\n",
              "      <th>3039</th>\n",
              "      <td>The Fall</td>\n",
              "      <td>Crime</td>\n",
              "      <td>8.1</td>\n",
              "    </tr>\n",
              "    <tr>\n",
              "      <th>3103</th>\n",
              "      <td>Ashes to Ashes</td>\n",
              "      <td>Crime</td>\n",
              "      <td>8.2</td>\n",
              "    </tr>\n",
              "    <tr>\n",
              "      <th>3131</th>\n",
              "      <td>White Collar</td>\n",
              "      <td>Crime</td>\n",
              "      <td>8.2</td>\n",
              "    </tr>\n",
              "    <tr>\n",
              "      <th>3581</th>\n",
              "      <td>Line of Duty</td>\n",
              "      <td>Crime</td>\n",
              "      <td>8.7</td>\n",
              "    </tr>\n",
              "    <tr>\n",
              "      <th>3597</th>\n",
              "      <td>When They See Us</td>\n",
              "      <td>Crime</td>\n",
              "      <td>8.9</td>\n",
              "    </tr>\n",
              "    <tr>\n",
              "      <th>4152</th>\n",
              "      <td>Person of Interest</td>\n",
              "      <td>Crime</td>\n",
              "      <td>8.4</td>\n",
              "    </tr>\n",
              "    <tr>\n",
              "      <th>4683</th>\n",
              "      <td>MINDHUNTER</td>\n",
              "      <td>Crime</td>\n",
              "      <td>8.6</td>\n",
              "    </tr>\n",
              "    <tr>\n",
              "      <th>4779</th>\n",
              "      <td>Dexter</td>\n",
              "      <td>Crime</td>\n",
              "      <td>8.7</td>\n",
              "    </tr>\n",
              "  </tbody>\n",
              "</table>\n",
              "</div>\n",
              "    <div class=\"colab-df-buttons\">\n",
              "\n",
              "  <div class=\"colab-df-container\">\n",
              "    <button class=\"colab-df-convert\" onclick=\"convertToInteractive('df-dd8df431-f1a3-435a-8e91-a0ba91773b7a')\"\n",
              "            title=\"Convert this dataframe to an interactive table.\"\n",
              "            style=\"display:none;\">\n",
              "\n",
              "  <svg xmlns=\"http://www.w3.org/2000/svg\" height=\"24px\" viewBox=\"0 -960 960 960\">\n",
              "    <path d=\"M120-120v-720h720v720H120Zm60-500h600v-160H180v160Zm220 220h160v-160H400v160Zm0 220h160v-160H400v160ZM180-400h160v-160H180v160Zm440 0h160v-160H620v160ZM180-180h160v-160H180v160Zm440 0h160v-160H620v160Z\"/>\n",
              "  </svg>\n",
              "    </button>\n",
              "\n",
              "  <style>\n",
              "    .colab-df-container {\n",
              "      display:flex;\n",
              "      gap: 12px;\n",
              "    }\n",
              "\n",
              "    .colab-df-convert {\n",
              "      background-color: #E8F0FE;\n",
              "      border: none;\n",
              "      border-radius: 50%;\n",
              "      cursor: pointer;\n",
              "      display: none;\n",
              "      fill: #1967D2;\n",
              "      height: 32px;\n",
              "      padding: 0 0 0 0;\n",
              "      width: 32px;\n",
              "    }\n",
              "\n",
              "    .colab-df-convert:hover {\n",
              "      background-color: #E2EBFA;\n",
              "      box-shadow: 0px 1px 2px rgba(60, 64, 67, 0.3), 0px 1px 3px 1px rgba(60, 64, 67, 0.15);\n",
              "      fill: #174EA6;\n",
              "    }\n",
              "\n",
              "    .colab-df-buttons div {\n",
              "      margin-bottom: 4px;\n",
              "    }\n",
              "\n",
              "    [theme=dark] .colab-df-convert {\n",
              "      background-color: #3B4455;\n",
              "      fill: #D2E3FC;\n",
              "    }\n",
              "\n",
              "    [theme=dark] .colab-df-convert:hover {\n",
              "      background-color: #434B5C;\n",
              "      box-shadow: 0px 1px 3px 1px rgba(0, 0, 0, 0.15);\n",
              "      filter: drop-shadow(0px 1px 2px rgba(0, 0, 0, 0.3));\n",
              "      fill: #FFFFFF;\n",
              "    }\n",
              "  </style>\n",
              "\n",
              "    <script>\n",
              "      const buttonEl =\n",
              "        document.querySelector('#df-dd8df431-f1a3-435a-8e91-a0ba91773b7a button.colab-df-convert');\n",
              "      buttonEl.style.display =\n",
              "        google.colab.kernel.accessAllowed ? 'block' : 'none';\n",
              "\n",
              "      async function convertToInteractive(key) {\n",
              "        const element = document.querySelector('#df-dd8df431-f1a3-435a-8e91-a0ba91773b7a');\n",
              "        const dataTable =\n",
              "          await google.colab.kernel.invokeFunction('convertToInteractive',\n",
              "                                                    [key], {});\n",
              "        if (!dataTable) return;\n",
              "\n",
              "        const docLinkHtml = 'Like what you see? Visit the ' +\n",
              "          '<a target=\"_blank\" href=https://colab.research.google.com/notebooks/data_table.ipynb>data table notebook</a>'\n",
              "          + ' to learn more about interactive tables.';\n",
              "        element.innerHTML = '';\n",
              "        dataTable['output_type'] = 'display_data';\n",
              "        await google.colab.output.renderOutput(dataTable, element);\n",
              "        const docLink = document.createElement('div');\n",
              "        docLink.innerHTML = docLinkHtml;\n",
              "        element.appendChild(docLink);\n",
              "      }\n",
              "    </script>\n",
              "  </div>\n",
              "\n",
              "\n",
              "<div id=\"df-f8392b9b-577d-473d-9fc8-2e9c90546024\">\n",
              "  <button class=\"colab-df-quickchart\" onclick=\"quickchart('df-f8392b9b-577d-473d-9fc8-2e9c90546024')\"\n",
              "            title=\"Suggest charts\"\n",
              "            style=\"display:none;\">\n",
              "\n",
              "<svg xmlns=\"http://www.w3.org/2000/svg\" height=\"24px\"viewBox=\"0 0 24 24\"\n",
              "     width=\"24px\">\n",
              "    <g>\n",
              "        <path d=\"M19 3H5c-1.1 0-2 .9-2 2v14c0 1.1.9 2 2 2h14c1.1 0 2-.9 2-2V5c0-1.1-.9-2-2-2zM9 17H7v-7h2v7zm4 0h-2V7h2v10zm4 0h-2v-4h2v4z\"/>\n",
              "    </g>\n",
              "</svg>\n",
              "  </button>\n",
              "\n",
              "<style>\n",
              "  .colab-df-quickchart {\n",
              "      --bg-color: #E8F0FE;\n",
              "      --fill-color: #1967D2;\n",
              "      --hover-bg-color: #E2EBFA;\n",
              "      --hover-fill-color: #174EA6;\n",
              "      --disabled-fill-color: #AAA;\n",
              "      --disabled-bg-color: #DDD;\n",
              "  }\n",
              "\n",
              "  [theme=dark] .colab-df-quickchart {\n",
              "      --bg-color: #3B4455;\n",
              "      --fill-color: #D2E3FC;\n",
              "      --hover-bg-color: #434B5C;\n",
              "      --hover-fill-color: #FFFFFF;\n",
              "      --disabled-bg-color: #3B4455;\n",
              "      --disabled-fill-color: #666;\n",
              "  }\n",
              "\n",
              "  .colab-df-quickchart {\n",
              "    background-color: var(--bg-color);\n",
              "    border: none;\n",
              "    border-radius: 50%;\n",
              "    cursor: pointer;\n",
              "    display: none;\n",
              "    fill: var(--fill-color);\n",
              "    height: 32px;\n",
              "    padding: 0;\n",
              "    width: 32px;\n",
              "  }\n",
              "\n",
              "  .colab-df-quickchart:hover {\n",
              "    background-color: var(--hover-bg-color);\n",
              "    box-shadow: 0 1px 2px rgba(60, 64, 67, 0.3), 0 1px 3px 1px rgba(60, 64, 67, 0.15);\n",
              "    fill: var(--button-hover-fill-color);\n",
              "  }\n",
              "\n",
              "  .colab-df-quickchart-complete:disabled,\n",
              "  .colab-df-quickchart-complete:disabled:hover {\n",
              "    background-color: var(--disabled-bg-color);\n",
              "    fill: var(--disabled-fill-color);\n",
              "    box-shadow: none;\n",
              "  }\n",
              "\n",
              "  .colab-df-spinner {\n",
              "    border: 2px solid var(--fill-color);\n",
              "    border-color: transparent;\n",
              "    border-bottom-color: var(--fill-color);\n",
              "    animation:\n",
              "      spin 1s steps(1) infinite;\n",
              "  }\n",
              "\n",
              "  @keyframes spin {\n",
              "    0% {\n",
              "      border-color: transparent;\n",
              "      border-bottom-color: var(--fill-color);\n",
              "      border-left-color: var(--fill-color);\n",
              "    }\n",
              "    20% {\n",
              "      border-color: transparent;\n",
              "      border-left-color: var(--fill-color);\n",
              "      border-top-color: var(--fill-color);\n",
              "    }\n",
              "    30% {\n",
              "      border-color: transparent;\n",
              "      border-left-color: var(--fill-color);\n",
              "      border-top-color: var(--fill-color);\n",
              "      border-right-color: var(--fill-color);\n",
              "    }\n",
              "    40% {\n",
              "      border-color: transparent;\n",
              "      border-right-color: var(--fill-color);\n",
              "      border-top-color: var(--fill-color);\n",
              "    }\n",
              "    60% {\n",
              "      border-color: transparent;\n",
              "      border-right-color: var(--fill-color);\n",
              "    }\n",
              "    80% {\n",
              "      border-color: transparent;\n",
              "      border-right-color: var(--fill-color);\n",
              "      border-bottom-color: var(--fill-color);\n",
              "    }\n",
              "    90% {\n",
              "      border-color: transparent;\n",
              "      border-bottom-color: var(--fill-color);\n",
              "    }\n",
              "  }\n",
              "</style>\n",
              "\n",
              "  <script>\n",
              "    async function quickchart(key) {\n",
              "      const quickchartButtonEl =\n",
              "        document.querySelector('#' + key + ' button');\n",
              "      quickchartButtonEl.disabled = true;  // To prevent multiple clicks.\n",
              "      quickchartButtonEl.classList.add('colab-df-spinner');\n",
              "      try {\n",
              "        const charts = await google.colab.kernel.invokeFunction(\n",
              "            'suggestCharts', [key], {});\n",
              "      } catch (error) {\n",
              "        console.error('Error during call to suggestCharts:', error);\n",
              "      }\n",
              "      quickchartButtonEl.classList.remove('colab-df-spinner');\n",
              "      quickchartButtonEl.classList.add('colab-df-quickchart-complete');\n",
              "    }\n",
              "    (() => {\n",
              "      let quickchartButtonEl =\n",
              "        document.querySelector('#df-f8392b9b-577d-473d-9fc8-2e9c90546024 button');\n",
              "      quickchartButtonEl.style.display =\n",
              "        google.colab.kernel.accessAllowed ? 'block' : 'none';\n",
              "    })();\n",
              "  </script>\n",
              "</div>\n",
              "\n",
              "    </div>\n",
              "  </div>\n"
            ],
            "application/vnd.google.colaboratory.intrinsic+json": {
              "type": "dataframe",
              "summary": "{\n  \"name\": \"high_rated_crime_tv[['Title', 'Genre', 'IMDb Rating']]\",\n  \"rows\": 15,\n  \"fields\": [\n    {\n      \"column\": \"Title\",\n      \"properties\": {\n        \"dtype\": \"string\",\n        \"num_unique_values\": 15,\n        \"samples\": [\n          \"White Collar\",\n          \"When They See Us\",\n          \"Money Heist\"\n        ],\n        \"semantic_type\": \"\",\n        \"description\": \"\"\n      }\n    },\n    {\n      \"column\": \"Genre\",\n      \"properties\": {\n        \"dtype\": \"category\",\n        \"num_unique_values\": 1,\n        \"samples\": [\n          \"Crime\"\n        ],\n        \"semantic_type\": \"\",\n        \"description\": \"\"\n      }\n    },\n    {\n      \"column\": \"IMDb Rating\",\n      \"properties\": {\n        \"dtype\": \"number\",\n        \"std\": 0.2716790823923034,\n        \"min\": 8.1,\n        \"max\": 8.9,\n        \"num_unique_values\": 8,\n        \"samples\": [\n          8.4\n        ],\n        \"semantic_type\": \"\",\n        \"description\": \"\"\n      }\n    }\n  ]\n}"
            }
          },
          "metadata": {},
          "execution_count": 32
        }
      ]
    },
    {
      "cell_type": "markdown",
      "source": [
        "# **3. Ratings Analysis**"
      ],
      "metadata": {
        "id": "yGDWq4IH19cy"
      }
    },
    {
      "cell_type": "markdown",
      "source": [
        "**Summary:**\n",
        "\n",
        "IMDb Ratings Distribution: Provides an overview of how ratings are spread across the content you've watched, showing the frequency of each IMDb rating.\n",
        "\n",
        "Ratings by Content Type: Calculates the average IMDb rating for different content types (e.g., movies or TV series) to identify any trends."
      ],
      "metadata": {
        "id": "gndpuvyr2MZc"
      }
    },
    {
      "cell_type": "markdown",
      "source": [
        "## **IMDb Ratings Distribution**\n",
        "Analysing the overall distribution of IMDb ratings for the entire dataset (excluding any 0 ratings that represent unrated content). This gives us insight into how content is rated in general."
      ],
      "metadata": {
        "id": "MShu42DY2WVb"
      }
    },
    {
      "cell_type": "code",
      "source": [
        "# Exclude rows where IMDb Rating is 0 (indicating unknown or not rated)\n",
        "df_rated = df_info_only[df_info_only['IMDb Rating'] != 0]\n",
        "\n",
        "# Convert 'IMDb Rating' to numeric if needed\n",
        "df_rated['IMDb Rating'] = pd.to_numeric(df_rated['IMDb Rating'], errors='coerce')\n",
        "\n",
        "# Display the IMDb ratings distribution\n",
        "imdb_distribution = df_rated['IMDb Rating'].value_counts().sort_index()\n",
        "\n",
        "# Show the IMDb ratings distribution\n",
        "imdb_distribution\n"
      ],
      "metadata": {
        "colab": {
          "base_uri": "https://localhost:8080/",
          "height": 0
        },
        "id": "ypWGLXgh3Q0R",
        "outputId": "f8943cc3-b744-4a8e-c955-4c031eea12e7"
      },
      "execution_count": 33,
      "outputs": [
        {
          "output_type": "stream",
          "name": "stderr",
          "text": [
            "<ipython-input-33-bb734d75c94e>:5: SettingWithCopyWarning: \n",
            "A value is trying to be set on a copy of a slice from a DataFrame.\n",
            "Try using .loc[row_indexer,col_indexer] = value instead\n",
            "\n",
            "See the caveats in the documentation: https://pandas.pydata.org/pandas-docs/stable/user_guide/indexing.html#returning-a-view-versus-a-copy\n",
            "  df_rated['IMDb Rating'] = pd.to_numeric(df_rated['IMDb Rating'], errors='coerce')\n"
          ]
        },
        {
          "output_type": "execute_result",
          "data": {
            "text/plain": [
              "IMDb Rating\n",
              "2.8     1\n",
              "2.9     1\n",
              "3.1     1\n",
              "3.3     2\n",
              "3.8     1\n",
              "4.0     1\n",
              "4.3     6\n",
              "4.4     5\n",
              "4.5     5\n",
              "4.6     3\n",
              "4.7     4\n",
              "4.8     6\n",
              "4.9     2\n",
              "5.0     1\n",
              "5.1     4\n",
              "5.2     7\n",
              "5.3    17\n",
              "5.4    12\n",
              "5.5    12\n",
              "5.6    17\n",
              "5.7    20\n",
              "5.8    22\n",
              "5.9    15\n",
              "6.0    11\n",
              "6.1    18\n",
              "6.2    23\n",
              "6.3    35\n",
              "6.4    25\n",
              "6.5    26\n",
              "6.6    27\n",
              "6.7    30\n",
              "6.8    19\n",
              "6.9    26\n",
              "7.0    33\n",
              "7.1    20\n",
              "7.2    25\n",
              "7.3    22\n",
              "7.4    27\n",
              "7.5    23\n",
              "7.6    27\n",
              "7.7    26\n",
              "7.8    30\n",
              "7.9    15\n",
              "8.0    25\n",
              "8.1    21\n",
              "8.2    23\n",
              "8.3    13\n",
              "8.4    24\n",
              "8.5    14\n",
              "8.6     6\n",
              "8.7    13\n",
              "8.8     7\n",
              "8.9     3\n",
              "9.1     1\n",
              "9.2     1\n",
              "Name: count, dtype: int64"
            ],
            "text/html": [
              "<div>\n",
              "<style scoped>\n",
              "    .dataframe tbody tr th:only-of-type {\n",
              "        vertical-align: middle;\n",
              "    }\n",
              "\n",
              "    .dataframe tbody tr th {\n",
              "        vertical-align: top;\n",
              "    }\n",
              "\n",
              "    .dataframe thead th {\n",
              "        text-align: right;\n",
              "    }\n",
              "</style>\n",
              "<table border=\"1\" class=\"dataframe\">\n",
              "  <thead>\n",
              "    <tr style=\"text-align: right;\">\n",
              "      <th></th>\n",
              "      <th>count</th>\n",
              "    </tr>\n",
              "    <tr>\n",
              "      <th>IMDb Rating</th>\n",
              "      <th></th>\n",
              "    </tr>\n",
              "  </thead>\n",
              "  <tbody>\n",
              "    <tr>\n",
              "      <th>2.8</th>\n",
              "      <td>1</td>\n",
              "    </tr>\n",
              "    <tr>\n",
              "      <th>2.9</th>\n",
              "      <td>1</td>\n",
              "    </tr>\n",
              "    <tr>\n",
              "      <th>3.1</th>\n",
              "      <td>1</td>\n",
              "    </tr>\n",
              "    <tr>\n",
              "      <th>3.3</th>\n",
              "      <td>2</td>\n",
              "    </tr>\n",
              "    <tr>\n",
              "      <th>3.8</th>\n",
              "      <td>1</td>\n",
              "    </tr>\n",
              "    <tr>\n",
              "      <th>4.0</th>\n",
              "      <td>1</td>\n",
              "    </tr>\n",
              "    <tr>\n",
              "      <th>4.3</th>\n",
              "      <td>6</td>\n",
              "    </tr>\n",
              "    <tr>\n",
              "      <th>4.4</th>\n",
              "      <td>5</td>\n",
              "    </tr>\n",
              "    <tr>\n",
              "      <th>4.5</th>\n",
              "      <td>5</td>\n",
              "    </tr>\n",
              "    <tr>\n",
              "      <th>4.6</th>\n",
              "      <td>3</td>\n",
              "    </tr>\n",
              "    <tr>\n",
              "      <th>4.7</th>\n",
              "      <td>4</td>\n",
              "    </tr>\n",
              "    <tr>\n",
              "      <th>4.8</th>\n",
              "      <td>6</td>\n",
              "    </tr>\n",
              "    <tr>\n",
              "      <th>4.9</th>\n",
              "      <td>2</td>\n",
              "    </tr>\n",
              "    <tr>\n",
              "      <th>5.0</th>\n",
              "      <td>1</td>\n",
              "    </tr>\n",
              "    <tr>\n",
              "      <th>5.1</th>\n",
              "      <td>4</td>\n",
              "    </tr>\n",
              "    <tr>\n",
              "      <th>5.2</th>\n",
              "      <td>7</td>\n",
              "    </tr>\n",
              "    <tr>\n",
              "      <th>5.3</th>\n",
              "      <td>17</td>\n",
              "    </tr>\n",
              "    <tr>\n",
              "      <th>5.4</th>\n",
              "      <td>12</td>\n",
              "    </tr>\n",
              "    <tr>\n",
              "      <th>5.5</th>\n",
              "      <td>12</td>\n",
              "    </tr>\n",
              "    <tr>\n",
              "      <th>5.6</th>\n",
              "      <td>17</td>\n",
              "    </tr>\n",
              "    <tr>\n",
              "      <th>5.7</th>\n",
              "      <td>20</td>\n",
              "    </tr>\n",
              "    <tr>\n",
              "      <th>5.8</th>\n",
              "      <td>22</td>\n",
              "    </tr>\n",
              "    <tr>\n",
              "      <th>5.9</th>\n",
              "      <td>15</td>\n",
              "    </tr>\n",
              "    <tr>\n",
              "      <th>6.0</th>\n",
              "      <td>11</td>\n",
              "    </tr>\n",
              "    <tr>\n",
              "      <th>6.1</th>\n",
              "      <td>18</td>\n",
              "    </tr>\n",
              "    <tr>\n",
              "      <th>6.2</th>\n",
              "      <td>23</td>\n",
              "    </tr>\n",
              "    <tr>\n",
              "      <th>6.3</th>\n",
              "      <td>35</td>\n",
              "    </tr>\n",
              "    <tr>\n",
              "      <th>6.4</th>\n",
              "      <td>25</td>\n",
              "    </tr>\n",
              "    <tr>\n",
              "      <th>6.5</th>\n",
              "      <td>26</td>\n",
              "    </tr>\n",
              "    <tr>\n",
              "      <th>6.6</th>\n",
              "      <td>27</td>\n",
              "    </tr>\n",
              "    <tr>\n",
              "      <th>6.7</th>\n",
              "      <td>30</td>\n",
              "    </tr>\n",
              "    <tr>\n",
              "      <th>6.8</th>\n",
              "      <td>19</td>\n",
              "    </tr>\n",
              "    <tr>\n",
              "      <th>6.9</th>\n",
              "      <td>26</td>\n",
              "    </tr>\n",
              "    <tr>\n",
              "      <th>7.0</th>\n",
              "      <td>33</td>\n",
              "    </tr>\n",
              "    <tr>\n",
              "      <th>7.1</th>\n",
              "      <td>20</td>\n",
              "    </tr>\n",
              "    <tr>\n",
              "      <th>7.2</th>\n",
              "      <td>25</td>\n",
              "    </tr>\n",
              "    <tr>\n",
              "      <th>7.3</th>\n",
              "      <td>22</td>\n",
              "    </tr>\n",
              "    <tr>\n",
              "      <th>7.4</th>\n",
              "      <td>27</td>\n",
              "    </tr>\n",
              "    <tr>\n",
              "      <th>7.5</th>\n",
              "      <td>23</td>\n",
              "    </tr>\n",
              "    <tr>\n",
              "      <th>7.6</th>\n",
              "      <td>27</td>\n",
              "    </tr>\n",
              "    <tr>\n",
              "      <th>7.7</th>\n",
              "      <td>26</td>\n",
              "    </tr>\n",
              "    <tr>\n",
              "      <th>7.8</th>\n",
              "      <td>30</td>\n",
              "    </tr>\n",
              "    <tr>\n",
              "      <th>7.9</th>\n",
              "      <td>15</td>\n",
              "    </tr>\n",
              "    <tr>\n",
              "      <th>8.0</th>\n",
              "      <td>25</td>\n",
              "    </tr>\n",
              "    <tr>\n",
              "      <th>8.1</th>\n",
              "      <td>21</td>\n",
              "    </tr>\n",
              "    <tr>\n",
              "      <th>8.2</th>\n",
              "      <td>23</td>\n",
              "    </tr>\n",
              "    <tr>\n",
              "      <th>8.3</th>\n",
              "      <td>13</td>\n",
              "    </tr>\n",
              "    <tr>\n",
              "      <th>8.4</th>\n",
              "      <td>24</td>\n",
              "    </tr>\n",
              "    <tr>\n",
              "      <th>8.5</th>\n",
              "      <td>14</td>\n",
              "    </tr>\n",
              "    <tr>\n",
              "      <th>8.6</th>\n",
              "      <td>6</td>\n",
              "    </tr>\n",
              "    <tr>\n",
              "      <th>8.7</th>\n",
              "      <td>13</td>\n",
              "    </tr>\n",
              "    <tr>\n",
              "      <th>8.8</th>\n",
              "      <td>7</td>\n",
              "    </tr>\n",
              "    <tr>\n",
              "      <th>8.9</th>\n",
              "      <td>3</td>\n",
              "    </tr>\n",
              "    <tr>\n",
              "      <th>9.1</th>\n",
              "      <td>1</td>\n",
              "    </tr>\n",
              "    <tr>\n",
              "      <th>9.2</th>\n",
              "      <td>1</td>\n",
              "    </tr>\n",
              "  </tbody>\n",
              "</table>\n",
              "</div><br><label><b>dtype:</b> int64</label>"
            ]
          },
          "metadata": {},
          "execution_count": 33
        }
      ]
    },
    {
      "cell_type": "markdown",
      "source": [
        "## **Ratings by Content Type (Excluding Unknown Content Type and 0 IMDb Rating)**\n",
        "Analysing whether there’s a difference in IMDb ratings between various content types, such as TV series and movies. This helps us to understand whether certain types of content tend to have higher or lower ratings."
      ],
      "metadata": {
        "id": "YeW98zWw3abo"
      }
    },
    {
      "cell_type": "code",
      "source": [
        "# Exclude rows where 'Content Type' is 'Unknown' and 'IMDb Rating' is 0\n",
        "df_filtered = df_info_only[(df_info_only['Content Type'] != 'Unknown') & (df_info_only['IMDb Rating'] != 0)]\n",
        "\n",
        "# Convert 'IMDb Rating' to numeric if needed\n",
        "df_filtered['IMDb Rating'] = pd.to_numeric(df_filtered['IMDb Rating'], errors='coerce')\n",
        "\n",
        "# Display the IMDb ratings distribution\n",
        "imdb_distribution = df_filtered['IMDb Rating'].value_counts().sort_index()\n",
        "\n",
        "# Show the IMDb ratings distribution\n",
        "imdb_distribution\n"
      ],
      "metadata": {
        "id": "2pS7m-j34K0S",
        "colab": {
          "base_uri": "https://localhost:8080/",
          "height": 0
        },
        "outputId": "e41814cb-77db-444f-cc5a-7d3a7e56788d"
      },
      "execution_count": 34,
      "outputs": [
        {
          "output_type": "stream",
          "name": "stderr",
          "text": [
            "<ipython-input-34-963cf105f806>:5: SettingWithCopyWarning: \n",
            "A value is trying to be set on a copy of a slice from a DataFrame.\n",
            "Try using .loc[row_indexer,col_indexer] = value instead\n",
            "\n",
            "See the caveats in the documentation: https://pandas.pydata.org/pandas-docs/stable/user_guide/indexing.html#returning-a-view-versus-a-copy\n",
            "  df_filtered['IMDb Rating'] = pd.to_numeric(df_filtered['IMDb Rating'], errors='coerce')\n"
          ]
        },
        {
          "output_type": "execute_result",
          "data": {
            "text/plain": [
              "IMDb Rating\n",
              "2.8     1\n",
              "2.9     1\n",
              "3.1     1\n",
              "3.3     2\n",
              "3.8     1\n",
              "4.0     1\n",
              "4.3     6\n",
              "4.4     5\n",
              "4.5     5\n",
              "4.6     3\n",
              "4.7     4\n",
              "4.8     6\n",
              "4.9     2\n",
              "5.0     1\n",
              "5.1     4\n",
              "5.2     7\n",
              "5.3    17\n",
              "5.4    12\n",
              "5.5    12\n",
              "5.6    17\n",
              "5.7    20\n",
              "5.8    22\n",
              "5.9    15\n",
              "6.0    11\n",
              "6.1    18\n",
              "6.2    23\n",
              "6.3    35\n",
              "6.4    25\n",
              "6.5    26\n",
              "6.6    27\n",
              "6.7    30\n",
              "6.8    19\n",
              "6.9    26\n",
              "7.0    33\n",
              "7.1    20\n",
              "7.2    25\n",
              "7.3    22\n",
              "7.4    27\n",
              "7.5    23\n",
              "7.6    27\n",
              "7.7    26\n",
              "7.8    30\n",
              "7.9    15\n",
              "8.0    25\n",
              "8.1    21\n",
              "8.2    23\n",
              "8.3    13\n",
              "8.4    24\n",
              "8.5    14\n",
              "8.6     6\n",
              "8.7    13\n",
              "8.8     7\n",
              "8.9     3\n",
              "9.1     1\n",
              "9.2     1\n",
              "Name: count, dtype: int64"
            ],
            "text/html": [
              "<div>\n",
              "<style scoped>\n",
              "    .dataframe tbody tr th:only-of-type {\n",
              "        vertical-align: middle;\n",
              "    }\n",
              "\n",
              "    .dataframe tbody tr th {\n",
              "        vertical-align: top;\n",
              "    }\n",
              "\n",
              "    .dataframe thead th {\n",
              "        text-align: right;\n",
              "    }\n",
              "</style>\n",
              "<table border=\"1\" class=\"dataframe\">\n",
              "  <thead>\n",
              "    <tr style=\"text-align: right;\">\n",
              "      <th></th>\n",
              "      <th>count</th>\n",
              "    </tr>\n",
              "    <tr>\n",
              "      <th>IMDb Rating</th>\n",
              "      <th></th>\n",
              "    </tr>\n",
              "  </thead>\n",
              "  <tbody>\n",
              "    <tr>\n",
              "      <th>2.8</th>\n",
              "      <td>1</td>\n",
              "    </tr>\n",
              "    <tr>\n",
              "      <th>2.9</th>\n",
              "      <td>1</td>\n",
              "    </tr>\n",
              "    <tr>\n",
              "      <th>3.1</th>\n",
              "      <td>1</td>\n",
              "    </tr>\n",
              "    <tr>\n",
              "      <th>3.3</th>\n",
              "      <td>2</td>\n",
              "    </tr>\n",
              "    <tr>\n",
              "      <th>3.8</th>\n",
              "      <td>1</td>\n",
              "    </tr>\n",
              "    <tr>\n",
              "      <th>4.0</th>\n",
              "      <td>1</td>\n",
              "    </tr>\n",
              "    <tr>\n",
              "      <th>4.3</th>\n",
              "      <td>6</td>\n",
              "    </tr>\n",
              "    <tr>\n",
              "      <th>4.4</th>\n",
              "      <td>5</td>\n",
              "    </tr>\n",
              "    <tr>\n",
              "      <th>4.5</th>\n",
              "      <td>5</td>\n",
              "    </tr>\n",
              "    <tr>\n",
              "      <th>4.6</th>\n",
              "      <td>3</td>\n",
              "    </tr>\n",
              "    <tr>\n",
              "      <th>4.7</th>\n",
              "      <td>4</td>\n",
              "    </tr>\n",
              "    <tr>\n",
              "      <th>4.8</th>\n",
              "      <td>6</td>\n",
              "    </tr>\n",
              "    <tr>\n",
              "      <th>4.9</th>\n",
              "      <td>2</td>\n",
              "    </tr>\n",
              "    <tr>\n",
              "      <th>5.0</th>\n",
              "      <td>1</td>\n",
              "    </tr>\n",
              "    <tr>\n",
              "      <th>5.1</th>\n",
              "      <td>4</td>\n",
              "    </tr>\n",
              "    <tr>\n",
              "      <th>5.2</th>\n",
              "      <td>7</td>\n",
              "    </tr>\n",
              "    <tr>\n",
              "      <th>5.3</th>\n",
              "      <td>17</td>\n",
              "    </tr>\n",
              "    <tr>\n",
              "      <th>5.4</th>\n",
              "      <td>12</td>\n",
              "    </tr>\n",
              "    <tr>\n",
              "      <th>5.5</th>\n",
              "      <td>12</td>\n",
              "    </tr>\n",
              "    <tr>\n",
              "      <th>5.6</th>\n",
              "      <td>17</td>\n",
              "    </tr>\n",
              "    <tr>\n",
              "      <th>5.7</th>\n",
              "      <td>20</td>\n",
              "    </tr>\n",
              "    <tr>\n",
              "      <th>5.8</th>\n",
              "      <td>22</td>\n",
              "    </tr>\n",
              "    <tr>\n",
              "      <th>5.9</th>\n",
              "      <td>15</td>\n",
              "    </tr>\n",
              "    <tr>\n",
              "      <th>6.0</th>\n",
              "      <td>11</td>\n",
              "    </tr>\n",
              "    <tr>\n",
              "      <th>6.1</th>\n",
              "      <td>18</td>\n",
              "    </tr>\n",
              "    <tr>\n",
              "      <th>6.2</th>\n",
              "      <td>23</td>\n",
              "    </tr>\n",
              "    <tr>\n",
              "      <th>6.3</th>\n",
              "      <td>35</td>\n",
              "    </tr>\n",
              "    <tr>\n",
              "      <th>6.4</th>\n",
              "      <td>25</td>\n",
              "    </tr>\n",
              "    <tr>\n",
              "      <th>6.5</th>\n",
              "      <td>26</td>\n",
              "    </tr>\n",
              "    <tr>\n",
              "      <th>6.6</th>\n",
              "      <td>27</td>\n",
              "    </tr>\n",
              "    <tr>\n",
              "      <th>6.7</th>\n",
              "      <td>30</td>\n",
              "    </tr>\n",
              "    <tr>\n",
              "      <th>6.8</th>\n",
              "      <td>19</td>\n",
              "    </tr>\n",
              "    <tr>\n",
              "      <th>6.9</th>\n",
              "      <td>26</td>\n",
              "    </tr>\n",
              "    <tr>\n",
              "      <th>7.0</th>\n",
              "      <td>33</td>\n",
              "    </tr>\n",
              "    <tr>\n",
              "      <th>7.1</th>\n",
              "      <td>20</td>\n",
              "    </tr>\n",
              "    <tr>\n",
              "      <th>7.2</th>\n",
              "      <td>25</td>\n",
              "    </tr>\n",
              "    <tr>\n",
              "      <th>7.3</th>\n",
              "      <td>22</td>\n",
              "    </tr>\n",
              "    <tr>\n",
              "      <th>7.4</th>\n",
              "      <td>27</td>\n",
              "    </tr>\n",
              "    <tr>\n",
              "      <th>7.5</th>\n",
              "      <td>23</td>\n",
              "    </tr>\n",
              "    <tr>\n",
              "      <th>7.6</th>\n",
              "      <td>27</td>\n",
              "    </tr>\n",
              "    <tr>\n",
              "      <th>7.7</th>\n",
              "      <td>26</td>\n",
              "    </tr>\n",
              "    <tr>\n",
              "      <th>7.8</th>\n",
              "      <td>30</td>\n",
              "    </tr>\n",
              "    <tr>\n",
              "      <th>7.9</th>\n",
              "      <td>15</td>\n",
              "    </tr>\n",
              "    <tr>\n",
              "      <th>8.0</th>\n",
              "      <td>25</td>\n",
              "    </tr>\n",
              "    <tr>\n",
              "      <th>8.1</th>\n",
              "      <td>21</td>\n",
              "    </tr>\n",
              "    <tr>\n",
              "      <th>8.2</th>\n",
              "      <td>23</td>\n",
              "    </tr>\n",
              "    <tr>\n",
              "      <th>8.3</th>\n",
              "      <td>13</td>\n",
              "    </tr>\n",
              "    <tr>\n",
              "      <th>8.4</th>\n",
              "      <td>24</td>\n",
              "    </tr>\n",
              "    <tr>\n",
              "      <th>8.5</th>\n",
              "      <td>14</td>\n",
              "    </tr>\n",
              "    <tr>\n",
              "      <th>8.6</th>\n",
              "      <td>6</td>\n",
              "    </tr>\n",
              "    <tr>\n",
              "      <th>8.7</th>\n",
              "      <td>13</td>\n",
              "    </tr>\n",
              "    <tr>\n",
              "      <th>8.8</th>\n",
              "      <td>7</td>\n",
              "    </tr>\n",
              "    <tr>\n",
              "      <th>8.9</th>\n",
              "      <td>3</td>\n",
              "    </tr>\n",
              "    <tr>\n",
              "      <th>9.1</th>\n",
              "      <td>1</td>\n",
              "    </tr>\n",
              "    <tr>\n",
              "      <th>9.2</th>\n",
              "      <td>1</td>\n",
              "    </tr>\n",
              "  </tbody>\n",
              "</table>\n",
              "</div><br><label><b>dtype:</b> int64</label>"
            ]
          },
          "metadata": {},
          "execution_count": 34
        }
      ]
    },
    {
      "cell_type": "code",
      "source": [
        "# Group by Content Type and calculate the average IMDb rating (excluding 'Unknown' and '0' ratings)\n",
        "imdb_by_content_type = df_filtered.groupby('Content Type')['IMDb Rating'].mean()\n",
        "\n",
        "# Display the average IMDb rating by content type\n",
        "imdb_by_content_type"
      ],
      "metadata": {
        "colab": {
          "base_uri": "https://localhost:8080/",
          "height": 0
        },
        "id": "ouNhWXhk3jS2",
        "outputId": "c6c0536b-dead-4faa-f9e2-ce77be4ecbae"
      },
      "execution_count": 35,
      "outputs": [
        {
          "output_type": "execute_result",
          "data": {
            "text/plain": [
              "Content Type\n",
              "Movie        6.321090\n",
              "TV Series    7.495288\n",
              "Name: IMDb Rating, dtype: float64"
            ],
            "text/html": [
              "<div>\n",
              "<style scoped>\n",
              "    .dataframe tbody tr th:only-of-type {\n",
              "        vertical-align: middle;\n",
              "    }\n",
              "\n",
              "    .dataframe tbody tr th {\n",
              "        vertical-align: top;\n",
              "    }\n",
              "\n",
              "    .dataframe thead th {\n",
              "        text-align: right;\n",
              "    }\n",
              "</style>\n",
              "<table border=\"1\" class=\"dataframe\">\n",
              "  <thead>\n",
              "    <tr style=\"text-align: right;\">\n",
              "      <th></th>\n",
              "      <th>IMDb Rating</th>\n",
              "    </tr>\n",
              "    <tr>\n",
              "      <th>Content Type</th>\n",
              "      <th></th>\n",
              "    </tr>\n",
              "  </thead>\n",
              "  <tbody>\n",
              "    <tr>\n",
              "      <th>Movie</th>\n",
              "      <td>6.321090</td>\n",
              "    </tr>\n",
              "    <tr>\n",
              "      <th>TV Series</th>\n",
              "      <td>7.495288</td>\n",
              "    </tr>\n",
              "  </tbody>\n",
              "</table>\n",
              "</div><br><label><b>dtype:</b> float64</label>"
            ]
          },
          "metadata": {},
          "execution_count": 35
        }
      ]
    },
    {
      "cell_type": "markdown",
      "source": [
        "# **4. Viewing Trends Analysis**"
      ],
      "metadata": {
        "id": "Zu1KVojV4ron"
      }
    },
    {
      "cell_type": "markdown",
      "source": [
        "**Summary of Viewing Trends Analysis:**\n",
        "\n",
        "Unique Shows/Movies per Month: Shows how many distinct shows or movies you watched in each month.\n",
        "\n",
        "Unique Shows/Movies per Year: Provides a yearly summary of your unique viewing activity."
      ],
      "metadata": {
        "id": "8xySTI0Z4vLN"
      }
    },
    {
      "cell_type": "markdown",
      "source": [
        "### **Count of Unique Shows/Movies Watched per Month**"
      ],
      "metadata": {
        "id": "2UQsMfPs45Qc"
      }
    },
    {
      "cell_type": "code",
      "source": [
        "unique_shows_per_month = df_time_series.groupby(['Year', 'Month'])['Title'].nunique()\n",
        "\n",
        "unique_shows_per_month"
      ],
      "metadata": {
        "colab": {
          "base_uri": "https://localhost:8080/",
          "height": 0
        },
        "id": "p-c8gflo5dwS",
        "outputId": "8257aafe-aa1c-4a08-b860-86996d2c2256"
      },
      "execution_count": 36,
      "outputs": [
        {
          "output_type": "execute_result",
          "data": {
            "text/plain": [
              "Year  Month\n",
              "2017  8         1\n",
              "      9        10\n",
              "      10       14\n",
              "      11       14\n",
              "      12       31\n",
              "               ..\n",
              "2024  5        13\n",
              "      6         6\n",
              "      7        18\n",
              "      8        10\n",
              "      9         7\n",
              "Name: Title, Length: 86, dtype: int64"
            ],
            "text/html": [
              "<div>\n",
              "<style scoped>\n",
              "    .dataframe tbody tr th:only-of-type {\n",
              "        vertical-align: middle;\n",
              "    }\n",
              "\n",
              "    .dataframe tbody tr th {\n",
              "        vertical-align: top;\n",
              "    }\n",
              "\n",
              "    .dataframe thead th {\n",
              "        text-align: right;\n",
              "    }\n",
              "</style>\n",
              "<table border=\"1\" class=\"dataframe\">\n",
              "  <thead>\n",
              "    <tr style=\"text-align: right;\">\n",
              "      <th></th>\n",
              "      <th></th>\n",
              "      <th>Title</th>\n",
              "    </tr>\n",
              "    <tr>\n",
              "      <th>Year</th>\n",
              "      <th>Month</th>\n",
              "      <th></th>\n",
              "    </tr>\n",
              "  </thead>\n",
              "  <tbody>\n",
              "    <tr>\n",
              "      <th rowspan=\"5\" valign=\"top\">2017</th>\n",
              "      <th>8</th>\n",
              "      <td>1</td>\n",
              "    </tr>\n",
              "    <tr>\n",
              "      <th>9</th>\n",
              "      <td>10</td>\n",
              "    </tr>\n",
              "    <tr>\n",
              "      <th>10</th>\n",
              "      <td>14</td>\n",
              "    </tr>\n",
              "    <tr>\n",
              "      <th>11</th>\n",
              "      <td>14</td>\n",
              "    </tr>\n",
              "    <tr>\n",
              "      <th>12</th>\n",
              "      <td>31</td>\n",
              "    </tr>\n",
              "    <tr>\n",
              "      <th>...</th>\n",
              "      <th>...</th>\n",
              "      <td>...</td>\n",
              "    </tr>\n",
              "    <tr>\n",
              "      <th rowspan=\"5\" valign=\"top\">2024</th>\n",
              "      <th>5</th>\n",
              "      <td>13</td>\n",
              "    </tr>\n",
              "    <tr>\n",
              "      <th>6</th>\n",
              "      <td>6</td>\n",
              "    </tr>\n",
              "    <tr>\n",
              "      <th>7</th>\n",
              "      <td>18</td>\n",
              "    </tr>\n",
              "    <tr>\n",
              "      <th>8</th>\n",
              "      <td>10</td>\n",
              "    </tr>\n",
              "    <tr>\n",
              "      <th>9</th>\n",
              "      <td>7</td>\n",
              "    </tr>\n",
              "  </tbody>\n",
              "</table>\n",
              "<p>86 rows × 1 columns</p>\n",
              "</div><br><label><b>dtype:</b> int64</label>"
            ]
          },
          "metadata": {},
          "execution_count": 36
        }
      ]
    },
    {
      "cell_type": "markdown",
      "source": [
        "### **Count of Unique Shows/Movies Watched per Year**"
      ],
      "metadata": {
        "id": "1_rQsKTJ6ERr"
      }
    },
    {
      "cell_type": "code",
      "source": [
        "unique_shows_per_year = df_time_series.groupby('Year')['Title'].nunique()\n",
        "\n",
        "unique_shows_per_year"
      ],
      "metadata": {
        "colab": {
          "base_uri": "https://localhost:8080/",
          "height": 0
        },
        "id": "tqFQ0Ffq6G5W",
        "outputId": "25397f81-ef2f-4eb5-b45a-75790c8937e2"
      },
      "execution_count": 37,
      "outputs": [
        {
          "output_type": "execute_result",
          "data": {
            "text/plain": [
              "Year\n",
              "2017     63\n",
              "2018    112\n",
              "2019    105\n",
              "2020     95\n",
              "2021    197\n",
              "2022    105\n",
              "2023    150\n",
              "2024     94\n",
              "Name: Title, dtype: int64"
            ],
            "text/html": [
              "<div>\n",
              "<style scoped>\n",
              "    .dataframe tbody tr th:only-of-type {\n",
              "        vertical-align: middle;\n",
              "    }\n",
              "\n",
              "    .dataframe tbody tr th {\n",
              "        vertical-align: top;\n",
              "    }\n",
              "\n",
              "    .dataframe thead th {\n",
              "        text-align: right;\n",
              "    }\n",
              "</style>\n",
              "<table border=\"1\" class=\"dataframe\">\n",
              "  <thead>\n",
              "    <tr style=\"text-align: right;\">\n",
              "      <th></th>\n",
              "      <th>Title</th>\n",
              "    </tr>\n",
              "    <tr>\n",
              "      <th>Year</th>\n",
              "      <th></th>\n",
              "    </tr>\n",
              "  </thead>\n",
              "  <tbody>\n",
              "    <tr>\n",
              "      <th>2017</th>\n",
              "      <td>63</td>\n",
              "    </tr>\n",
              "    <tr>\n",
              "      <th>2018</th>\n",
              "      <td>112</td>\n",
              "    </tr>\n",
              "    <tr>\n",
              "      <th>2019</th>\n",
              "      <td>105</td>\n",
              "    </tr>\n",
              "    <tr>\n",
              "      <th>2020</th>\n",
              "      <td>95</td>\n",
              "    </tr>\n",
              "    <tr>\n",
              "      <th>2021</th>\n",
              "      <td>197</td>\n",
              "    </tr>\n",
              "    <tr>\n",
              "      <th>2022</th>\n",
              "      <td>105</td>\n",
              "    </tr>\n",
              "    <tr>\n",
              "      <th>2023</th>\n",
              "      <td>150</td>\n",
              "    </tr>\n",
              "    <tr>\n",
              "      <th>2024</th>\n",
              "      <td>94</td>\n",
              "    </tr>\n",
              "  </tbody>\n",
              "</table>\n",
              "</div><br><label><b>dtype:</b> int64</label>"
            ]
          },
          "metadata": {},
          "execution_count": 37
        }
      ]
    },
    {
      "cell_type": "markdown",
      "source": [
        "# **Downloading both dataframes**"
      ],
      "metadata": {
        "id": "JPM9ej6n-4V0"
      }
    },
    {
      "cell_type": "code",
      "source": [
        "from google.colab import files\n",
        "\n",
        "# Save the time series DataFrame (with duplicates and unknowns)\n",
        "df_time_series.to_csv('netflix_time_series_data.csv', index=False)\n",
        "\n",
        "# Save the info-only DataFrame (without duplicates and with cleaned data)\n",
        "df_info_only.to_csv('netflix_cleaned_info_data.csv', index=False)\n",
        "\n",
        "# Download the CSV files\n",
        "files.download('netflix_time_series_data.csv')\n",
        "files.download('netflix_cleaned_info_data.csv')"
      ],
      "metadata": {
        "colab": {
          "base_uri": "https://localhost:8080/",
          "height": 0
        },
        "id": "O_auiLow-8qI",
        "outputId": "22cbe56a-04f6-43d3-b660-b1a48c5f418f"
      },
      "execution_count": 38,
      "outputs": [
        {
          "output_type": "display_data",
          "data": {
            "text/plain": [
              "<IPython.core.display.Javascript object>"
            ],
            "application/javascript": [
              "\n",
              "    async function download(id, filename, size) {\n",
              "      if (!google.colab.kernel.accessAllowed) {\n",
              "        return;\n",
              "      }\n",
              "      const div = document.createElement('div');\n",
              "      const label = document.createElement('label');\n",
              "      label.textContent = `Downloading \"${filename}\": `;\n",
              "      div.appendChild(label);\n",
              "      const progress = document.createElement('progress');\n",
              "      progress.max = size;\n",
              "      div.appendChild(progress);\n",
              "      document.body.appendChild(div);\n",
              "\n",
              "      const buffers = [];\n",
              "      let downloaded = 0;\n",
              "\n",
              "      const channel = await google.colab.kernel.comms.open(id);\n",
              "      // Send a message to notify the kernel that we're ready.\n",
              "      channel.send({})\n",
              "\n",
              "      for await (const message of channel.messages) {\n",
              "        // Send a message to notify the kernel that we're ready.\n",
              "        channel.send({})\n",
              "        if (message.buffers) {\n",
              "          for (const buffer of message.buffers) {\n",
              "            buffers.push(buffer);\n",
              "            downloaded += buffer.byteLength;\n",
              "            progress.value = downloaded;\n",
              "          }\n",
              "        }\n",
              "      }\n",
              "      const blob = new Blob(buffers, {type: 'application/binary'});\n",
              "      const a = document.createElement('a');\n",
              "      a.href = window.URL.createObjectURL(blob);\n",
              "      a.download = filename;\n",
              "      div.appendChild(a);\n",
              "      a.click();\n",
              "      div.remove();\n",
              "    }\n",
              "  "
            ]
          },
          "metadata": {}
        },
        {
          "output_type": "display_data",
          "data": {
            "text/plain": [
              "<IPython.core.display.Javascript object>"
            ],
            "application/javascript": [
              "download(\"download_4b89411d-285a-4860-a727-1889f3524dee\", \"netflix_time_series_data.csv\", 518477)"
            ]
          },
          "metadata": {}
        },
        {
          "output_type": "display_data",
          "data": {
            "text/plain": [
              "<IPython.core.display.Javascript object>"
            ],
            "application/javascript": [
              "\n",
              "    async function download(id, filename, size) {\n",
              "      if (!google.colab.kernel.accessAllowed) {\n",
              "        return;\n",
              "      }\n",
              "      const div = document.createElement('div');\n",
              "      const label = document.createElement('label');\n",
              "      label.textContent = `Downloading \"${filename}\": `;\n",
              "      div.appendChild(label);\n",
              "      const progress = document.createElement('progress');\n",
              "      progress.max = size;\n",
              "      div.appendChild(progress);\n",
              "      document.body.appendChild(div);\n",
              "\n",
              "      const buffers = [];\n",
              "      let downloaded = 0;\n",
              "\n",
              "      const channel = await google.colab.kernel.comms.open(id);\n",
              "      // Send a message to notify the kernel that we're ready.\n",
              "      channel.send({})\n",
              "\n",
              "      for await (const message of channel.messages) {\n",
              "        // Send a message to notify the kernel that we're ready.\n",
              "        channel.send({})\n",
              "        if (message.buffers) {\n",
              "          for (const buffer of message.buffers) {\n",
              "            buffers.push(buffer);\n",
              "            downloaded += buffer.byteLength;\n",
              "            progress.value = downloaded;\n",
              "          }\n",
              "        }\n",
              "      }\n",
              "      const blob = new Blob(buffers, {type: 'application/binary'});\n",
              "      const a = document.createElement('a');\n",
              "      a.href = window.URL.createObjectURL(blob);\n",
              "      a.download = filename;\n",
              "      div.appendChild(a);\n",
              "      a.click();\n",
              "      div.remove();\n",
              "    }\n",
              "  "
            ]
          },
          "metadata": {}
        },
        {
          "output_type": "display_data",
          "data": {
            "text/plain": [
              "<IPython.core.display.Javascript object>"
            ],
            "application/javascript": [
              "download(\"download_21d70afc-c3da-48e9-9fc8-a0dc9b1f3112\", \"netflix_cleaned_info_data.csv\", 70798)"
            ]
          },
          "metadata": {}
        }
      ]
    }
  ]
}