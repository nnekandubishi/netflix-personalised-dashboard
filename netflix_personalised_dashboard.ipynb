{
  "nbformat": 4,
  "nbformat_minor": 0,
  "metadata": {
    "colab": {
      "provenance": []
    },
    "kernelspec": {
      "name": "python3",
      "display_name": "Python 3"
    },
    "language_info": {
      "name": "python"
    }
  },
  "cells": [
    {
      "cell_type": "code",
      "source": [
        "# Connecting My Drive to Colab\n",
        "\n",
        "USING_COLAB = True\n",
        "if USING_COLAB:\n",
        "  from google.colab import drive\n",
        "  drive.mount('/content/drive')"
      ],
      "metadata": {
        "id": "No79TA1imB5C",
        "colab": {
          "base_uri": "https://localhost:8080/"
        },
        "outputId": "d8511d82-85d0-4ea6-837f-73b5e5b4b64a"
      },
      "execution_count": 1,
      "outputs": [
        {
          "output_type": "stream",
          "name": "stdout",
          "text": [
            "Mounted at /content/drive\n"
          ]
        }
      ]
    },
    {
      "cell_type": "code",
      "source": [
        "import pandas as pd\n",
        "\n",
        "df = pd.read_csv('/content/drive/MyDrive/netflix_viewing_data.csv', encoding='ISO-8859-1')"
      ],
      "metadata": {
        "id": "SgaoL7oWIVRK"
      },
      "execution_count": 4,
      "outputs": []
    },
    {
      "cell_type": "markdown",
      "source": [
        "# **Data Cleaning**"
      ],
      "metadata": {
        "id": "HUZU7Q8JctgF"
      }
    },
    {
      "cell_type": "markdown",
      "source": [
        "## **1: Treating NULL Values**"
      ],
      "metadata": {
        "id": "uIDNDQu9c6hZ"
      }
    },
    {
      "cell_type": "markdown",
      "source": [
        "### 1.1 Checking for NULL Values:"
      ],
      "metadata": {
        "id": "89oLzhhldHX9"
      }
    },
    {
      "cell_type": "code",
      "source": [
        "df.head()"
      ],
      "metadata": {
        "colab": {
          "base_uri": "https://localhost:8080/",
          "height": 206
        },
        "id": "tiroaT5NpbXk",
        "outputId": "6816183e-ae1d-4165-80cd-a3a4a579b703"
      },
      "execution_count": 7,
      "outputs": [
        {
          "output_type": "execute_result",
          "data": {
            "text/plain": [
              "                Title    Genre        Director      Country  Release Year  \\\n",
              "0  You are My Destiny  Romance  Kim Myung-wook  South Korea        2014.0   \n",
              "1      Love Next Door  Romance             NaN  South Korea           NaN   \n",
              "2      Love Next Door  Romance             NaN  South Korea           NaN   \n",
              "3      Love Next Door  Romance             NaN  South Korea           NaN   \n",
              "4      Love Next Door  Romance             NaN  South Korea           NaN   \n",
              "\n",
              "  Content Type     Duration Rating  IMDb Rating Language Date Watched  \n",
              "0    TV Series  36 episodes  PG-13          7.1   Korean   24/09/2024  \n",
              "1    TV Series          NaN    NaN          NaN   Korean   22/09/2024  \n",
              "2    TV Series          NaN    NaN          NaN   Korean   22/09/2024  \n",
              "3    TV Series          NaN    NaN          NaN   Korean   22/09/2024  \n",
              "4    TV Series          NaN    NaN          NaN   Korean   22/09/2024  "
            ],
            "text/html": [
              "\n",
              "  <div id=\"df-113fb258-2c40-454e-99dd-e772aa53bce2\" class=\"colab-df-container\">\n",
              "    <div>\n",
              "<style scoped>\n",
              "    .dataframe tbody tr th:only-of-type {\n",
              "        vertical-align: middle;\n",
              "    }\n",
              "\n",
              "    .dataframe tbody tr th {\n",
              "        vertical-align: top;\n",
              "    }\n",
              "\n",
              "    .dataframe thead th {\n",
              "        text-align: right;\n",
              "    }\n",
              "</style>\n",
              "<table border=\"1\" class=\"dataframe\">\n",
              "  <thead>\n",
              "    <tr style=\"text-align: right;\">\n",
              "      <th></th>\n",
              "      <th>Title</th>\n",
              "      <th>Genre</th>\n",
              "      <th>Director</th>\n",
              "      <th>Country</th>\n",
              "      <th>Release Year</th>\n",
              "      <th>Content Type</th>\n",
              "      <th>Duration</th>\n",
              "      <th>Rating</th>\n",
              "      <th>IMDb Rating</th>\n",
              "      <th>Language</th>\n",
              "      <th>Date Watched</th>\n",
              "    </tr>\n",
              "  </thead>\n",
              "  <tbody>\n",
              "    <tr>\n",
              "      <th>0</th>\n",
              "      <td>You are My Destiny</td>\n",
              "      <td>Romance</td>\n",
              "      <td>Kim Myung-wook</td>\n",
              "      <td>South Korea</td>\n",
              "      <td>2014.0</td>\n",
              "      <td>TV Series</td>\n",
              "      <td>36 episodes</td>\n",
              "      <td>PG-13</td>\n",
              "      <td>7.1</td>\n",
              "      <td>Korean</td>\n",
              "      <td>24/09/2024</td>\n",
              "    </tr>\n",
              "    <tr>\n",
              "      <th>1</th>\n",
              "      <td>Love Next Door</td>\n",
              "      <td>Romance</td>\n",
              "      <td>NaN</td>\n",
              "      <td>South Korea</td>\n",
              "      <td>NaN</td>\n",
              "      <td>TV Series</td>\n",
              "      <td>NaN</td>\n",
              "      <td>NaN</td>\n",
              "      <td>NaN</td>\n",
              "      <td>Korean</td>\n",
              "      <td>22/09/2024</td>\n",
              "    </tr>\n",
              "    <tr>\n",
              "      <th>2</th>\n",
              "      <td>Love Next Door</td>\n",
              "      <td>Romance</td>\n",
              "      <td>NaN</td>\n",
              "      <td>South Korea</td>\n",
              "      <td>NaN</td>\n",
              "      <td>TV Series</td>\n",
              "      <td>NaN</td>\n",
              "      <td>NaN</td>\n",
              "      <td>NaN</td>\n",
              "      <td>Korean</td>\n",
              "      <td>22/09/2024</td>\n",
              "    </tr>\n",
              "    <tr>\n",
              "      <th>3</th>\n",
              "      <td>Love Next Door</td>\n",
              "      <td>Romance</td>\n",
              "      <td>NaN</td>\n",
              "      <td>South Korea</td>\n",
              "      <td>NaN</td>\n",
              "      <td>TV Series</td>\n",
              "      <td>NaN</td>\n",
              "      <td>NaN</td>\n",
              "      <td>NaN</td>\n",
              "      <td>Korean</td>\n",
              "      <td>22/09/2024</td>\n",
              "    </tr>\n",
              "    <tr>\n",
              "      <th>4</th>\n",
              "      <td>Love Next Door</td>\n",
              "      <td>Romance</td>\n",
              "      <td>NaN</td>\n",
              "      <td>South Korea</td>\n",
              "      <td>NaN</td>\n",
              "      <td>TV Series</td>\n",
              "      <td>NaN</td>\n",
              "      <td>NaN</td>\n",
              "      <td>NaN</td>\n",
              "      <td>Korean</td>\n",
              "      <td>22/09/2024</td>\n",
              "    </tr>\n",
              "  </tbody>\n",
              "</table>\n",
              "</div>\n",
              "    <div class=\"colab-df-buttons\">\n",
              "\n",
              "  <div class=\"colab-df-container\">\n",
              "    <button class=\"colab-df-convert\" onclick=\"convertToInteractive('df-113fb258-2c40-454e-99dd-e772aa53bce2')\"\n",
              "            title=\"Convert this dataframe to an interactive table.\"\n",
              "            style=\"display:none;\">\n",
              "\n",
              "  <svg xmlns=\"http://www.w3.org/2000/svg\" height=\"24px\" viewBox=\"0 -960 960 960\">\n",
              "    <path d=\"M120-120v-720h720v720H120Zm60-500h600v-160H180v160Zm220 220h160v-160H400v160Zm0 220h160v-160H400v160ZM180-400h160v-160H180v160Zm440 0h160v-160H620v160ZM180-180h160v-160H180v160Zm440 0h160v-160H620v160Z\"/>\n",
              "  </svg>\n",
              "    </button>\n",
              "\n",
              "  <style>\n",
              "    .colab-df-container {\n",
              "      display:flex;\n",
              "      gap: 12px;\n",
              "    }\n",
              "\n",
              "    .colab-df-convert {\n",
              "      background-color: #E8F0FE;\n",
              "      border: none;\n",
              "      border-radius: 50%;\n",
              "      cursor: pointer;\n",
              "      display: none;\n",
              "      fill: #1967D2;\n",
              "      height: 32px;\n",
              "      padding: 0 0 0 0;\n",
              "      width: 32px;\n",
              "    }\n",
              "\n",
              "    .colab-df-convert:hover {\n",
              "      background-color: #E2EBFA;\n",
              "      box-shadow: 0px 1px 2px rgba(60, 64, 67, 0.3), 0px 1px 3px 1px rgba(60, 64, 67, 0.15);\n",
              "      fill: #174EA6;\n",
              "    }\n",
              "\n",
              "    .colab-df-buttons div {\n",
              "      margin-bottom: 4px;\n",
              "    }\n",
              "\n",
              "    [theme=dark] .colab-df-convert {\n",
              "      background-color: #3B4455;\n",
              "      fill: #D2E3FC;\n",
              "    }\n",
              "\n",
              "    [theme=dark] .colab-df-convert:hover {\n",
              "      background-color: #434B5C;\n",
              "      box-shadow: 0px 1px 3px 1px rgba(0, 0, 0, 0.15);\n",
              "      filter: drop-shadow(0px 1px 2px rgba(0, 0, 0, 0.3));\n",
              "      fill: #FFFFFF;\n",
              "    }\n",
              "  </style>\n",
              "\n",
              "    <script>\n",
              "      const buttonEl =\n",
              "        document.querySelector('#df-113fb258-2c40-454e-99dd-e772aa53bce2 button.colab-df-convert');\n",
              "      buttonEl.style.display =\n",
              "        google.colab.kernel.accessAllowed ? 'block' : 'none';\n",
              "\n",
              "      async function convertToInteractive(key) {\n",
              "        const element = document.querySelector('#df-113fb258-2c40-454e-99dd-e772aa53bce2');\n",
              "        const dataTable =\n",
              "          await google.colab.kernel.invokeFunction('convertToInteractive',\n",
              "                                                    [key], {});\n",
              "        if (!dataTable) return;\n",
              "\n",
              "        const docLinkHtml = 'Like what you see? Visit the ' +\n",
              "          '<a target=\"_blank\" href=https://colab.research.google.com/notebooks/data_table.ipynb>data table notebook</a>'\n",
              "          + ' to learn more about interactive tables.';\n",
              "        element.innerHTML = '';\n",
              "        dataTable['output_type'] = 'display_data';\n",
              "        await google.colab.output.renderOutput(dataTable, element);\n",
              "        const docLink = document.createElement('div');\n",
              "        docLink.innerHTML = docLinkHtml;\n",
              "        element.appendChild(docLink);\n",
              "      }\n",
              "    </script>\n",
              "  </div>\n",
              "\n",
              "\n",
              "<div id=\"df-eed24f9d-3862-4f9c-8ffb-c94ed1abf90d\">\n",
              "  <button class=\"colab-df-quickchart\" onclick=\"quickchart('df-eed24f9d-3862-4f9c-8ffb-c94ed1abf90d')\"\n",
              "            title=\"Suggest charts\"\n",
              "            style=\"display:none;\">\n",
              "\n",
              "<svg xmlns=\"http://www.w3.org/2000/svg\" height=\"24px\"viewBox=\"0 0 24 24\"\n",
              "     width=\"24px\">\n",
              "    <g>\n",
              "        <path d=\"M19 3H5c-1.1 0-2 .9-2 2v14c0 1.1.9 2 2 2h14c1.1 0 2-.9 2-2V5c0-1.1-.9-2-2-2zM9 17H7v-7h2v7zm4 0h-2V7h2v10zm4 0h-2v-4h2v4z\"/>\n",
              "    </g>\n",
              "</svg>\n",
              "  </button>\n",
              "\n",
              "<style>\n",
              "  .colab-df-quickchart {\n",
              "      --bg-color: #E8F0FE;\n",
              "      --fill-color: #1967D2;\n",
              "      --hover-bg-color: #E2EBFA;\n",
              "      --hover-fill-color: #174EA6;\n",
              "      --disabled-fill-color: #AAA;\n",
              "      --disabled-bg-color: #DDD;\n",
              "  }\n",
              "\n",
              "  [theme=dark] .colab-df-quickchart {\n",
              "      --bg-color: #3B4455;\n",
              "      --fill-color: #D2E3FC;\n",
              "      --hover-bg-color: #434B5C;\n",
              "      --hover-fill-color: #FFFFFF;\n",
              "      --disabled-bg-color: #3B4455;\n",
              "      --disabled-fill-color: #666;\n",
              "  }\n",
              "\n",
              "  .colab-df-quickchart {\n",
              "    background-color: var(--bg-color);\n",
              "    border: none;\n",
              "    border-radius: 50%;\n",
              "    cursor: pointer;\n",
              "    display: none;\n",
              "    fill: var(--fill-color);\n",
              "    height: 32px;\n",
              "    padding: 0;\n",
              "    width: 32px;\n",
              "  }\n",
              "\n",
              "  .colab-df-quickchart:hover {\n",
              "    background-color: var(--hover-bg-color);\n",
              "    box-shadow: 0 1px 2px rgba(60, 64, 67, 0.3), 0 1px 3px 1px rgba(60, 64, 67, 0.15);\n",
              "    fill: var(--button-hover-fill-color);\n",
              "  }\n",
              "\n",
              "  .colab-df-quickchart-complete:disabled,\n",
              "  .colab-df-quickchart-complete:disabled:hover {\n",
              "    background-color: var(--disabled-bg-color);\n",
              "    fill: var(--disabled-fill-color);\n",
              "    box-shadow: none;\n",
              "  }\n",
              "\n",
              "  .colab-df-spinner {\n",
              "    border: 2px solid var(--fill-color);\n",
              "    border-color: transparent;\n",
              "    border-bottom-color: var(--fill-color);\n",
              "    animation:\n",
              "      spin 1s steps(1) infinite;\n",
              "  }\n",
              "\n",
              "  @keyframes spin {\n",
              "    0% {\n",
              "      border-color: transparent;\n",
              "      border-bottom-color: var(--fill-color);\n",
              "      border-left-color: var(--fill-color);\n",
              "    }\n",
              "    20% {\n",
              "      border-color: transparent;\n",
              "      border-left-color: var(--fill-color);\n",
              "      border-top-color: var(--fill-color);\n",
              "    }\n",
              "    30% {\n",
              "      border-color: transparent;\n",
              "      border-left-color: var(--fill-color);\n",
              "      border-top-color: var(--fill-color);\n",
              "      border-right-color: var(--fill-color);\n",
              "    }\n",
              "    40% {\n",
              "      border-color: transparent;\n",
              "      border-right-color: var(--fill-color);\n",
              "      border-top-color: var(--fill-color);\n",
              "    }\n",
              "    60% {\n",
              "      border-color: transparent;\n",
              "      border-right-color: var(--fill-color);\n",
              "    }\n",
              "    80% {\n",
              "      border-color: transparent;\n",
              "      border-right-color: var(--fill-color);\n",
              "      border-bottom-color: var(--fill-color);\n",
              "    }\n",
              "    90% {\n",
              "      border-color: transparent;\n",
              "      border-bottom-color: var(--fill-color);\n",
              "    }\n",
              "  }\n",
              "</style>\n",
              "\n",
              "  <script>\n",
              "    async function quickchart(key) {\n",
              "      const quickchartButtonEl =\n",
              "        document.querySelector('#' + key + ' button');\n",
              "      quickchartButtonEl.disabled = true;  // To prevent multiple clicks.\n",
              "      quickchartButtonEl.classList.add('colab-df-spinner');\n",
              "      try {\n",
              "        const charts = await google.colab.kernel.invokeFunction(\n",
              "            'suggestCharts', [key], {});\n",
              "      } catch (error) {\n",
              "        console.error('Error during call to suggestCharts:', error);\n",
              "      }\n",
              "      quickchartButtonEl.classList.remove('colab-df-spinner');\n",
              "      quickchartButtonEl.classList.add('colab-df-quickchart-complete');\n",
              "    }\n",
              "    (() => {\n",
              "      let quickchartButtonEl =\n",
              "        document.querySelector('#df-eed24f9d-3862-4f9c-8ffb-c94ed1abf90d button');\n",
              "      quickchartButtonEl.style.display =\n",
              "        google.colab.kernel.accessAllowed ? 'block' : 'none';\n",
              "    })();\n",
              "  </script>\n",
              "</div>\n",
              "\n",
              "    </div>\n",
              "  </div>\n"
            ],
            "application/vnd.google.colaboratory.intrinsic+json": {
              "type": "dataframe",
              "variable_name": "df",
              "summary": "{\n  \"name\": \"df\",\n  \"rows\": 4804,\n  \"fields\": [\n    {\n      \"column\": \"Title\",\n      \"properties\": {\n        \"dtype\": \"category\",\n        \"num_unique_values\": 823,\n        \"samples\": [\n          \"A Simple Favour\",\n          \"Harry Potter and the Half-Blood Prince\",\n          \"Youth of May\"\n        ],\n        \"semantic_type\": \"\",\n        \"description\": \"\"\n      }\n    },\n    {\n      \"column\": \"Genre\",\n      \"properties\": {\n        \"dtype\": \"category\",\n        \"num_unique_values\": 24,\n        \"samples\": [\n          \"Crime\",\n          \"Documentary\",\n          \"Romance\"\n        ],\n        \"semantic_type\": \"\",\n        \"description\": \"\"\n      }\n    },\n    {\n      \"column\": \"Director\",\n      \"properties\": {\n        \"dtype\": \"category\",\n        \"num_unique_values\": 694,\n        \"samples\": [\n          \"Josie Rourke\",\n          \"Mark Palansky\",\n          \"Neil Burger\"\n        ],\n        \"semantic_type\": \"\",\n        \"description\": \"\"\n      }\n    },\n    {\n      \"column\": \"Country\",\n      \"properties\": {\n        \"dtype\": \"category\",\n        \"num_unique_values\": 34,\n        \"samples\": [\n          \"Turkey\",\n          \"USA, Australia\",\n          \"Italy\"\n        ],\n        \"semantic_type\": \"\",\n        \"description\": \"\"\n      }\n    },\n    {\n      \"column\": \"Release Year\",\n      \"properties\": {\n        \"dtype\": \"number\",\n        \"std\": 7.911362402017432,\n        \"min\": 1979.0,\n        \"max\": 2023.0,\n        \"num_unique_values\": 36,\n        \"samples\": [\n          1989.0,\n          2017.0,\n          2012.0\n        ],\n        \"semantic_type\": \"\",\n        \"description\": \"\"\n      }\n    },\n    {\n      \"column\": \"Content Type\",\n      \"properties\": {\n        \"dtype\": \"category\",\n        \"num_unique_values\": 2,\n        \"samples\": [\n          \"Movie\",\n          \"TV Series\"\n        ],\n        \"semantic_type\": \"\",\n        \"description\": \"\"\n      }\n    },\n    {\n      \"column\": \"Duration\",\n      \"properties\": {\n        \"dtype\": \"category\",\n        \"num_unique_values\": 169,\n        \"samples\": [\n          \"236 episodes\",\n          \"9 episodes\"\n        ],\n        \"semantic_type\": \"\",\n        \"description\": \"\"\n      }\n    },\n    {\n      \"column\": \"Rating\",\n      \"properties\": {\n        \"dtype\": \"category\",\n        \"num_unique_values\": 7,\n        \"samples\": [\n          \"PG-13\",\n          \"18+\"\n        ],\n        \"semantic_type\": \"\",\n        \"description\": \"\"\n      }\n    },\n    {\n      \"column\": \"IMDb Rating\",\n      \"properties\": {\n        \"dtype\": \"number\",\n        \"std\": 0.9327412372942739,\n        \"min\": 2.8,\n        \"max\": 9.2,\n        \"num_unique_values\": 55,\n        \"samples\": [\n          5.8,\n          8.3\n        ],\n        \"semantic_type\": \"\",\n        \"description\": \"\"\n      }\n    },\n    {\n      \"column\": \"Language\",\n      \"properties\": {\n        \"dtype\": \"category\",\n        \"num_unique_values\": 19,\n        \"samples\": [\n          \"Korean\",\n          \"French\"\n        ],\n        \"semantic_type\": \"\",\n        \"description\": \"\"\n      }\n    },\n    {\n      \"column\": \"Date Watched\",\n      \"properties\": {\n        \"dtype\": \"object\",\n        \"num_unique_values\": 1423,\n        \"samples\": [\n          \"01/11/2018\",\n          \"28/04/2021\"\n        ],\n        \"semantic_type\": \"\",\n        \"description\": \"\"\n      }\n    }\n  ]\n}"
            }
          },
          "metadata": {},
          "execution_count": 7
        }
      ]
    },
    {
      "cell_type": "code",
      "source": [
        "print(df.isnull().sum())"
      ],
      "metadata": {
        "colab": {
          "base_uri": "https://localhost:8080/"
        },
        "id": "UEdVSRBzdLqX",
        "outputId": "00300e79-aa49-48e6-a434-634c3c337f62"
      },
      "execution_count": 8,
      "outputs": [
        {
          "output_type": "stream",
          "name": "stdout",
          "text": [
            "Title             0\n",
            "Genre            49\n",
            "Director        129\n",
            "Country          58\n",
            "Release Year     89\n",
            "Content Type     59\n",
            "Duration        109\n",
            "Rating          192\n",
            "IMDb Rating     118\n",
            "Language         58\n",
            "Date Watched      0\n",
            "dtype: int64\n"
          ]
        }
      ]
    },
    {
      "cell_type": "markdown",
      "source": [
        "### 1.2 Handling NULL Values:"
      ],
      "metadata": {
        "id": "NqDi-1SJd-sH"
      }
    },
    {
      "cell_type": "markdown",
      "source": [
        "**1.2.1: Director**\n",
        "\n",
        "The Director column has 129 missing values. Missing values will be filled with \"Unknown\" as a placeholder to ensure completeness of the dataset."
      ],
      "metadata": {
        "id": "yy57KzBQevfu"
      }
    },
    {
      "cell_type": "code",
      "source": [
        "df['Director'] = df['Director'].fillna('Unknown')"
      ],
      "metadata": {
        "id": "QzOpw7j5eTh8"
      },
      "execution_count": 11,
      "outputs": []
    },
    {
      "cell_type": "markdown",
      "source": [
        "**1.2.2: Genre**\n",
        "\n",
        "The Genre column has 49 missing values. Missing values in the Genre column will be filled with \"Unknown\" to account for any unavailable data."
      ],
      "metadata": {
        "id": "4IYZxwdHfIT1"
      }
    },
    {
      "cell_type": "code",
      "source": [
        "df['Genre'] = df['Genre'].fillna('Unknown')"
      ],
      "metadata": {
        "id": "PhZ7JSWtfNPv"
      },
      "execution_count": 13,
      "outputs": []
    },
    {
      "cell_type": "markdown",
      "source": [
        "**1.2.3: Country**\n",
        "\n",
        "The Country column has 58 missing values. The missing values in this column will be replaced with \"Unknown\" to indicate that the country of origin is not specified."
      ],
      "metadata": {
        "id": "4jWtT4I9f-fr"
      }
    },
    {
      "cell_type": "code",
      "source": [
        "df['Country'] = df['Country'].fillna('Unknown')"
      ],
      "metadata": {
        "id": "9CoIKN3ugC7P"
      },
      "execution_count": 14,
      "outputs": []
    },
    {
      "cell_type": "markdown",
      "source": [
        "**1.2.4: Release Year**\n",
        "\n",
        "The Release Year column has 89 missing values. We will fill these missing values with \"0\" to represent cases where the release year is not available."
      ],
      "metadata": {
        "id": "E_X6G1pdgDNu"
      }
    },
    {
      "cell_type": "code",
      "source": [
        "df['Release Year'] = df['Release Year'].fillna(0)"
      ],
      "metadata": {
        "id": "FKKvRtibgIG_"
      },
      "execution_count": 15,
      "outputs": []
    },
    {
      "cell_type": "markdown",
      "source": [
        "**1.2.5: Content Type**\n",
        "\n",
        "The Content Type column has 59 missing values. Missing values will be filled with \"Unknown\" to represent cases where the content type (e.g., movie or TV show) is not available."
      ],
      "metadata": {
        "id": "N6xycR6CgIRY"
      }
    },
    {
      "cell_type": "code",
      "source": [
        "df['Content Type'] = df['Content Type'].fillna('Unknown')"
      ],
      "metadata": {
        "id": "6lmtD36TgMAg"
      },
      "execution_count": 16,
      "outputs": []
    },
    {
      "cell_type": "markdown",
      "source": [
        "**1.2.6: Duration**\n",
        "\n",
        "The Duration column has 109 missing values. Missing values in this column will be filled with \"Unknown\" as a placeholder for cases where the duration is unavailable."
      ],
      "metadata": {
        "id": "Vl1Doqz5gMQJ"
      }
    },
    {
      "cell_type": "code",
      "source": [
        "df['Duration'] = df['Duration'].fillna('Unknown')"
      ],
      "metadata": {
        "id": "4uwsotvDgQP3"
      },
      "execution_count": 17,
      "outputs": []
    },
    {
      "cell_type": "markdown",
      "source": [
        "**1.2.7: Rating**\n",
        "\n",
        "The Rating column has 192 missing values. Missing ratings will be filled with \"Not Rated\" to indicate that no rating information is available for these entries."
      ],
      "metadata": {
        "id": "tBiSFh6SgQb1"
      }
    },
    {
      "cell_type": "code",
      "source": [
        "df['Rating'] = df['Rating'].fillna('Not Rated')"
      ],
      "metadata": {
        "id": "kZboj00fgVpj"
      },
      "execution_count": 18,
      "outputs": []
    },
    {
      "cell_type": "markdown",
      "source": [
        "**1.2.8: IMDb Rating**\n",
        "\n",
        "The IMDb Rating column has 118 missing values. These missing values will be filled with \"0\" to represent cases where IMDb ratings are unavailable."
      ],
      "metadata": {
        "id": "vHbO8Z3tgVyc"
      }
    },
    {
      "cell_type": "code",
      "source": [
        "df['IMDb Rating'] = df['IMDb Rating'].fillna(0)"
      ],
      "metadata": {
        "id": "JGMSIFL7gacY"
      },
      "execution_count": 19,
      "outputs": []
    },
    {
      "cell_type": "markdown",
      "source": [
        "**1.2.9: Language**\n",
        "\n",
        "The Language column has 58 missing values. Missing values will be filled with \"Unknown\" to account for cases where the language information is not specified."
      ],
      "metadata": {
        "id": "ry0hkTIWgao5"
      }
    },
    {
      "cell_type": "code",
      "source": [
        "df['Language'] = df['Language'].fillna('Unknown')"
      ],
      "metadata": {
        "id": "QUJn8Pa_hf45"
      },
      "execution_count": 20,
      "outputs": []
    },
    {
      "cell_type": "markdown",
      "source": [
        "## **2. Unique Entries in the Country Column**"
      ],
      "metadata": {
        "id": "7wpWHG8PIoPB"
      }
    },
    {
      "cell_type": "markdown",
      "source": [
        "### **Identifying all the entries in the Country Column**"
      ],
      "metadata": {
        "id": "eveKbNWQMNaG"
      }
    },
    {
      "cell_type": "code",
      "source": [
        "# Display unique country entries\n",
        "unique_countries = df['Country'].unique()\n",
        "print(unique_countries)"
      ],
      "metadata": {
        "colab": {
          "base_uri": "https://localhost:8080/"
        },
        "id": "NOcy7GMALdVj",
        "outputId": "447a8d43-8b4c-4321-8b86-7d641a731786"
      },
      "execution_count": 21,
      "outputs": [
        {
          "output_type": "stream",
          "name": "stdout",
          "text": [
            "['South Korea' 'Japan' 'Unknown' 'China' 'USA' 'Spain' 'France' 'UK'\n",
            " 'Belgium' 'USA, Poland' 'Nigeria' 'India' 'UK, USA' 'South Africa'\n",
            " 'Kenya' 'Ireland, Canada' 'Turkey' 'Czech Republic' 'USA, UK' 'Germany'\n",
            " 'USA, Australia' 'Poland' 'USA, Canada' 'New Zealand' 'Norway' 'Mexico'\n",
            " 'Ghana' 'Canada' 'Italy' 'Russia' 'Hong Kong' 'Vietnam' 'Philippines'\n",
            " 'Australia' 'Colombia']\n"
          ]
        }
      ]
    },
    {
      "cell_type": "markdown",
      "source": [
        "### **Split Multiple Countries**\n",
        "Keeping only the first country mentioned:"
      ],
      "metadata": {
        "id": "DdDQB5piMTjT"
      }
    },
    {
      "cell_type": "code",
      "source": [
        "# Split by commas and keep the first country\n",
        "df['Country'] = df['Country'].apply(lambda x: x.split(',')[0].strip() if ',' in x else x)\n"
      ],
      "metadata": {
        "id": "hN83JXH0MWy9"
      },
      "execution_count": 22,
      "outputs": []
    },
    {
      "cell_type": "code",
      "source": [
        "# Verify the changes\n",
        "cleaned_unique_countries = df['Country'].unique()\n",
        "print(cleaned_unique_countries)"
      ],
      "metadata": {
        "colab": {
          "base_uri": "https://localhost:8080/"
        },
        "id": "mL3af-gsMjsd",
        "outputId": "271a7579-9d32-4839-a457-545217ae13d8"
      },
      "execution_count": 23,
      "outputs": [
        {
          "output_type": "stream",
          "name": "stdout",
          "text": [
            "['South Korea' 'Japan' 'Unknown' 'China' 'USA' 'Spain' 'France' 'UK'\n",
            " 'Belgium' 'Nigeria' 'India' 'South Africa' 'Kenya' 'Ireland' 'Turkey'\n",
            " 'Czech Republic' 'Germany' 'Poland' 'New Zealand' 'Norway' 'Mexico'\n",
            " 'Ghana' 'Canada' 'Italy' 'Russia' 'Hong Kong' 'Vietnam' 'Philippines'\n",
            " 'Australia' 'Colombia']\n"
          ]
        }
      ]
    },
    {
      "cell_type": "markdown",
      "source": [
        "# **DataFrame Creation for Informational Analysis**"
      ],
      "metadata": {
        "id": "G3Y9Lu5Wm4Kw"
      }
    },
    {
      "cell_type": "markdown",
      "source": [
        "To ensure that analyses such as genre distribution, IMDb ratings, and content type breakdowns are not affected by duplicate entries, we created a new DataFrame, df_info_only. This DataFrame focuses solely on the informational aspects of the dataset and excludes any time-based data.\n",
        "\n",
        "**Key steps:**\n",
        "\n",
        "Dropped the 'Date Watched' column: Since time-based analysis is not relevant for this DataFrame, the Date Watched column was removed.\n",
        "\n",
        "Removed duplicates based on 'Title': To avoid multiple entries of the same show or movie, duplicates were removed, keeping only the first occurrence of each unique title.\n",
        "\n",
        "This cleaned DataFrame will be used for various analyses, including genre, ratings, and content type distribution, without the influence of duplicate records."
      ],
      "metadata": {
        "id": "q0RsY0Y4m9m3"
      }
    },
    {
      "cell_type": "code",
      "source": [
        "df_info_only = df.drop(columns=['Date Watched']).drop_duplicates(subset=['Title'])\n",
        "\n",
        "print(df_info_only.head())"
      ],
      "metadata": {
        "colab": {
          "base_uri": "https://localhost:8080/"
        },
        "id": "dF-bqzVEnBv9",
        "outputId": "26858bdd-ffc1-48f9-8122-4ca6d7b9c5f2"
      },
      "execution_count": 24,
      "outputs": [
        {
          "output_type": "stream",
          "name": "stdout",
          "text": [
            "                Title     Genre        Director      Country  Release Year  \\\n",
            "0  You are My Destiny   Romance  Kim Myung-wook  South Korea        2014.0   \n",
            "1      Love Next Door   Romance         Unknown  South Korea           0.0   \n",
            "5                 Eve  Thriller  Park Bong-seop  South Korea        2022.0   \n",
            "8       Chastity High   Unknown         Unknown  South Korea           0.0   \n",
            "9      Hotel Del Luna   Fantasy  Oh Choong-hwan  South Korea        2019.0   \n",
            "\n",
            "  Content Type     Duration     Rating  IMDb Rating Language  \n",
            "0    TV Series  36 episodes      PG-13          7.1   Korean  \n",
            "1    TV Series      Unknown  Not Rated          0.0   Korean  \n",
            "5    TV Series  16 episodes        18+          7.5   Korean  \n",
            "8    TV Series      Unknown  Not Rated          0.0   Korean  \n",
            "9    TV Series  16 episodes      PG-13          8.2   Korean  \n"
          ]
        }
      ]
    },
    {
      "cell_type": "markdown",
      "source": [
        "# **Visualisations!!!**"
      ],
      "metadata": {
        "id": "C8R5l0y_qb1w"
      }
    },
    {
      "cell_type": "markdown",
      "source": [
        "### **1. Genre Popularity**"
      ],
      "metadata": {
        "id": "Q98Lmw3ktN89"
      }
    },
    {
      "cell_type": "code",
      "source": [
        "# Filter out rows with 'Unknown' in 'Genre'\n",
        "genre_data = df_info_only[df_info_only['Genre'] != 'Unknown']\n",
        "\n",
        "# Create the bar chart\n",
        "import matplotlib.pyplot as plt\n",
        "import seaborn as sns\n",
        "\n",
        "genre_counts = genre_data['Genre'].value_counts()\n",
        "plt.figure(figsize=(12, 6))\n",
        "sns.barplot(x=genre_counts.index, y=genre_counts.values, palette=\"viridis\")\n",
        "plt.xticks(rotation=90)\n",
        "plt.title(\"Genre Popularity\")\n",
        "plt.xlabel(\"Genre\")\n",
        "plt.ylabel(\"Count\")\n",
        "plt.show()\n"
      ],
      "metadata": {
        "colab": {
          "base_uri": "https://localhost:8080/",
          "height": 0
        },
        "id": "tfYJFDo9qgjD",
        "outputId": "d5363a49-d54c-4e91-d1fe-28b101ee697a"
      },
      "execution_count": 47,
      "outputs": [
        {
          "output_type": "stream",
          "name": "stderr",
          "text": [
            "<ipython-input-47-c221f2426e90>:10: FutureWarning: \n",
            "\n",
            "Passing `palette` without assigning `hue` is deprecated and will be removed in v0.14.0. Assign the `x` variable to `hue` and set `legend=False` for the same effect.\n",
            "\n",
            "  sns.barplot(x=genre_counts.index, y=genre_counts.values, palette=\"viridis\")\n"
          ]
        },
        {
          "output_type": "display_data",
          "data": {
            "text/plain": [
              "<Figure size 1200x600 with 1 Axes>"
            ],
            "image/png": "[encoded data removed]"
          },
          "metadata": {}
        }
      ]
    },
    {
      "cell_type": "markdown",
      "source": [
        "### **2. Time Series Analysis of Viewing Trends**"
      ],
      "metadata": {
        "id": "THZ19pBhtRja"
      }
    },
    {
      "cell_type": "code",
      "source": [
        "import matplotlib.pyplot as plt\n",
        "import seaborn as sns\n",
        "import pandas as pd\n",
        "\n",
        "# Use 'seaborn-v0_8-whitegrid' style\n",
        "plt.style.use('seaborn-v0_8-whitegrid')\n",
        "\n",
        "# Convert 'Date Watched' to datetime if it's not already\n",
        "df_time_series['Date Watched'] = pd.to_datetime(df_time_series['Date Watched'])\n",
        "\n",
        "# Ensure 'IMDb Rating' is numeric, converting non-numeric entries to NaN\n",
        "# The errors='coerce' argument will replace invalid parsing with NaN\n",
        "df_time_series['IMDb Rating'] = pd.to_numeric(df_time_series['IMDb Rating'], errors='coerce')\n",
        "\n",
        "# Drop rows where 'IMDb Rating' is NaN\n",
        "df_time_series_cleaned = df_time_series.dropna(subset=['IMDb Rating'])\n",
        "\n",
        "# Resample data to get the average IMDb rating per month\n",
        "# 'MS' for month start frequency\n",
        "monthly_data = df_time_series_cleaned.resample('MS', on='Date Watched')['IMDb Rating'].mean()\n",
        "\n",
        "# Plotting with a smoother line and reduced transparency\n",
        "plt.figure(figsize=(14, 6))\n",
        "plt.plot(monthly_data.index, monthly_data.values, color='blue', alpha=0.6) # Access the values for plotting\n",
        "plt.scatter(monthly_data.index, monthly_data.values, color='blue', s=10, alpha=0.8)  # Adding points for clarity\n",
        "\n",
        "# Improve aesthetics\n",
        "plt.title(\"Monthly Average IMDb Rating Over Time\")\n",
        "plt.xlabel(\"Date Watched\")\n",
        "plt.ylabel(\"Average IMDb Rating\")\n",
        "plt.xticks(rotation=45)\n",
        "plt.ylim(0, 10)  # IMDb ratings generally range from 0 to 10\n",
        "\n",
        "plt.show()"
      ],
      "metadata": {
        "colab": {
          "base_uri": "https://localhost:8080/",
          "height": 575
        },
        "id": "ERAUzNohvf3j",
        "outputId": "54a3c3d6-4533-4b81-d331-26a0db9f93cb"
      },
      "execution_count": 59,
      "outputs": [
        {
          "output_type": "display_data",
          "data": {
            "text/plain": [
              "<Figure size 1400x600 with 1 Axes>"
            ],
            "image/png": "[encoded data removed]"
          },
          "metadata": {}
        }
      ]
    },
    {
      "cell_type": "markdown",
      "source": [
        "### **3. Heatmap of Viewing Trends by Month and Year**\n",
        "This heatmap shows the average IMDb rating by Month and Year, providing insights into trends over time."
      ],
      "metadata": {
        "id": "jmBBaYySw031"
      }
    },
    {
      "cell_type": "code",
      "source": [
        "import numpy as np\n",
        "\n",
        "# Filter out rows with '0' in 'Release Year' or 'Rating'\n",
        "df_time_series_filtered = df_time_series[(df_time_series['Release Year'] != 0) & (df_time_series['Rating'] != 0)]\n",
        "\n",
        "# Pivot table for heatmap data\n",
        "heatmap_data = df_time_series_filtered.pivot_table(values='IMDb Rating', index='Year', columns='Month', aggfunc=np.mean)\n",
        "\n",
        "# Plotting the heatmap\n",
        "plt.figure(figsize=(12, 6))\n",
        "sns.heatmap(heatmap_data, cmap=\"YlGnBu\", annot=True, fmt=\".1f\")\n",
        "plt.title(\"Average IMDb Rating by Year and Month\")\n",
        "plt.xlabel(\"Month\")\n",
        "plt.ylabel(\"Year\")\n",
        "plt.show()"
      ],
      "metadata": {
        "colab": {
          "base_uri": "https://localhost:8080/",
          "height": 613
        },
        "id": "b-YugrzXwtzG",
        "outputId": "2f2a4f64-5205-423e-8ad4-c670bdca9f6f"
      },
      "execution_count": 60,
      "outputs": [
        {
          "output_type": "stream",
          "name": "stderr",
          "text": [
            "<ipython-input-60-ea54f6406de2>:7: FutureWarning: The provided callable <function mean at 0x7a98f1301000> is currently using DataFrameGroupBy.mean. In a future version of pandas, the provided callable will be used directly. To keep current behavior pass the string \"mean\" instead.\n",
            "  heatmap_data = df_time_series_filtered.pivot_table(values='IMDb Rating', index='Year', columns='Month', aggfunc=np.mean)\n"
          ]
        },
        {
          "output_type": "display_data",
          "data": {
            "text/plain": [
              "<Figure size 1200x600 with 2 Axes>"
            ],
            "image/png": "[encoded data removed]"
          },
          "metadata": {}
        }
      ]
    },
    {
      "cell_type": "markdown",
      "source": [
        "### **4. IMDb Rating Distribution by Content Type**\n",
        "This box plot shows the distribution of IMDb ratings across different content types, allowing for a comparison between movies and series in terms of viewer ratings."
      ],
      "metadata": {
        "id": "iukXffoEw9aK"
      }
    },
    {
      "cell_type": "code",
      "source": [
        "# Filter out rows with 'Unknown' in 'Content Type'\n",
        "rating_data = df_info_only[df_info_only['Content Type'] != 'Unknown']\n",
        "\n",
        "# Plot IMDb rating distribution by content type\n",
        "plt.figure(figsize=(10, 6))\n",
        "sns.boxplot(data=rating_data, x='Content Type', y='IMDb Rating', palette=\"Set2\")\n",
        "plt.title(\"IMDb Rating Distribution by Content Type\")\n",
        "plt.xlabel(\"Content Type\")\n",
        "plt.ylabel(\"IMDb Rating\")\n",
        "plt.ylim(0, 10)  # IMDb ratings generally range from 0 to 10\n",
        "plt.show()\n"
      ],
      "metadata": {
        "colab": {
          "base_uri": "https://localhost:8080/",
          "height": 0
        },
        "id": "kp-veUydxDqj",
        "outputId": "3b740ca5-b1b7-4604-e97c-ad80326f2edc"
      },
      "execution_count": 64,
      "outputs": [
        {
          "output_type": "stream",
          "name": "stderr",
          "text": [
            "<ipython-input-64-845f1e1d4968>:6: FutureWarning: \n",
            "\n",
            "Passing `palette` without assigning `hue` is deprecated and will be removed in v0.14.0. Assign the `x` variable to `hue` and set `legend=False` for the same effect.\n",
            "\n",
            "  sns.boxplot(data=rating_data, x='Content Type', y='IMDb Rating', palette=\"Set2\")\n"
          ]
        },
        {
          "output_type": "display_data",
          "data": {
            "text/plain": [
              "<Figure size 1000x600 with 1 Axes>"
            ],
            "image/png": "[encoded data removed]"
          },
          "metadata": {}
        }
      ]
    },
    {
      "cell_type": "markdown",
      "source": [
        "The box plot compares IMDb ratings between Movies and TV Series. The median rating for TV Series is slightly higher than for Movies, suggesting that TV Series tend to be rated more favourably. The interquartile range (IQR) for TV Series is narrower, indicating a more consistent rating distribution, while Movies show a broader range. Both content types have outliers, but Movies have several low-rated outliers, which pull down their overall rating spread. This visualisation highlights that TV Series generally maintain higher and more consistent IMDb ratings compared to Movies."
      ],
      "metadata": {
        "id": "aYv5LIkwxzxv"
      }
    },
    {
      "cell_type": "markdown",
      "source": [
        "### **5. Top Countries by IMDb Rating**\n",
        "\n",
        "This bar chart shows the average IMDb rating for the top countries, allowing us to identify which countries tend to have the highest-rated content."
      ],
      "metadata": {
        "id": "B_C46ipIyyNK"
      }
    },
    {
      "cell_type": "code",
      "source": [
        "# Filter out rows with 'Unknown' in 'Country'\n",
        "country_data = df_info_only[df_info_only['Country'] != 'Unknown']\n",
        "\n",
        "# Calculate average IMDb rating by country\n",
        "top_countries = country_data.groupby('Country')['IMDb Rating'].mean().sort_values(ascending=False).head(10)\n",
        "\n",
        "# Plot\n",
        "plt.figure(figsize=(12, 6))\n",
        "sns.barplot(x=top_countries.values, y=top_countries.index, palette=\"mako\")\n",
        "plt.title(\"Top 10 Countries by Average IMDb Rating\")\n",
        "plt.xlabel(\"Average IMDb Rating\")\n",
        "plt.ylabel(\"Country\")\n",
        "plt.xlim(0, 10)\n",
        "plt.show()"
      ],
      "metadata": {
        "colab": {
          "base_uri": "https://localhost:8080/",
          "height": 0
        },
        "id": "uyGzTLSRyrmL",
        "outputId": "ac2ab5a1-803e-4fb8-a1a9-de01d402aa3b"
      },
      "execution_count": 65,
      "outputs": [
        {
          "output_type": "stream",
          "name": "stderr",
          "text": [
            "<ipython-input-65-165aa390ca5c>:9: FutureWarning: \n",
            "\n",
            "Passing `palette` without assigning `hue` is deprecated and will be removed in v0.14.0. Assign the `y` variable to `hue` and set `legend=False` for the same effect.\n",
            "\n",
            "  sns.barplot(x=top_countries.values, y=top_countries.index, palette=\"mako\")\n"
          ]
        },
        {
          "output_type": "display_data",
          "data": {
            "text/plain": [
              "<Figure size 1200x600 with 1 Axes>"
            ],
            "image/png": "[encoded data removed]"
          },
          "metadata": {}
        }
      ]
    },
    {
      "cell_type": "markdown",
      "source": [
        "### **6. Content Type by Country**\n",
        "This stacked bar chart shows the distribution of Movies and TV Series by country, highlighting which countries favour each content type."
      ],
      "metadata": {
        "id": "k9N2PgjHzsUQ"
      }
    },
    {
      "cell_type": "code",
      "source": [
        "import matplotlib.pyplot as plt\n",
        "\n",
        "# Sort countries by total content count\n",
        "top_countries = country_content_counts.loc[country_content_counts.sum(axis=1).sort_values(ascending=False).head(15).index]\n",
        "\n",
        "# Adjust plot settings\n",
        "plt.figure(figsize=(16, 6))\n",
        "ax = top_countries.plot(kind='bar', stacked=True, width=0.8, colormap=\"tab20\")\n",
        "plt.title(\"Content Type Distribution by Top 15 Countries\")\n",
        "plt.xlabel(\"Country\")\n",
        "plt.ylabel(\"Count\")\n",
        "plt.xticks(rotation=45, ha='right')\n",
        "plt.legend(title=\"Content Type\", loc=\"upper right\")\n",
        "\n",
        "# Add value labels on top of each bar\n",
        "for container in ax.containers:\n",
        "    ax.bar_label(container, label_type='center', fontsize=8, fmt='%d', padding=3)\n",
        "\n",
        "plt.show()"
      ],
      "metadata": {
        "colab": {
          "base_uri": "https://localhost:8080/",
          "height": 0
        },
        "id": "oMfm5p85zEC2",
        "outputId": "2ebaecb3-f2b9-446c-a46d-3a0661b1f2a1"
      },
      "execution_count": 71,
      "outputs": [
        {
          "output_type": "display_data",
          "data": {
            "text/plain": [
              "<Figure size 1600x600 with 0 Axes>"
            ]
          },
          "metadata": {}
        },
        {
          "output_type": "display_data",
          "data": {
            "text/plain": [
              "<Figure size 640x480 with 1 Axes>"
            ],
            "image/png": "[encoded data removed]"
          },
          "metadata": {}
        }
      ]
    },
    {
      "cell_type": "markdown",
      "source": [
        "### **7. Language Distribution of Top Content (Grouped <2% as 'Other')**\n",
        "This pie chart shows the distribution of languages in the top content, with English and Korean as the most prominent. Languages with less than 2% representation are grouped into \"Other\" to maintain clarity."
      ],
      "metadata": {
        "id": "l3v8CjvE5DT1"
      }
    },
    {
      "cell_type": "code",
      "source": [
        "import matplotlib.pyplot as plt\n",
        "\n",
        "# Calculate the top languages with a threshold of 2%\n",
        "language_counts = language_data['Language'].value_counts(normalize=True) * 100\n",
        "top_languages = language_counts[language_counts >= 2]\n",
        "top_languages['Other'] = language_counts[language_counts < 2].sum()\n",
        "\n",
        "# Plot with enhanced settings\n",
        "plt.figure(figsize=(8, 8))\n",
        "explode = [0.1 if lang == 'English' else 0 for lang in top_languages.index]  # Explode the largest segment\n",
        "colors = sns.color_palette(\"Paired\", len(top_languages))\n",
        "\n",
        "plt.pie(top_languages, labels=top_languages.index, autopct='%1.1f%%', startangle=140,\n",
        "        explode=explode, colors=colors, pctdistance=0.85, textprops={'fontsize': 10})\n",
        "\n",
        "# Draw circle in the center to make it a donut chart for style\n",
        "centre_circle = plt.Circle((0, 0), 0.70, fc='white')\n",
        "plt.gca().add_artist(centre_circle)\n",
        "\n",
        "plt.title(\"Top Languages Distribution (Grouped <2% as 'Other')\")\n",
        "plt.show()\n"
      ],
      "metadata": {
        "colab": {
          "base_uri": "https://localhost:8080/",
          "height": 673
        },
        "id": "C7Ox8i264Dhe",
        "outputId": "873cc0ff-36db-4c23-849a-cc36c2cf07ad"
      },
      "execution_count": 75,
      "outputs": [
        {
          "output_type": "display_data",
          "data": {
            "text/plain": [
              "<Figure size 800x800 with 1 Axes>"
            ],
            "image/png": "[encoded data removed]"
          },
          "metadata": {}
        }
      ]
    },
    {
      "cell_type": "markdown",
      "source": [
        "### **8. Yearly Content Consumption by Content Type**\n",
        "Tracks the number of Movies vs. TV Series watched each year, showing trends in content consumption over time."
      ],
      "metadata": {
        "id": "RTCLoqm46fU4"
      }
    },
    {
      "cell_type": "code",
      "source": [
        "# Convert 'Date Watched' to datetime\n",
        "df_time_series['Date Watched'] = pd.to_datetime(df_time_series['Date Watched'])\n",
        "\n",
        "# remove unknown\n",
        "df_time_series = df_time_series[df_time_series['Content Type'] != 'Unknown']\n",
        "\n",
        "# Count content type by month\n",
        "content_trend = df_time_series.groupby([df_time_series['Date Watched'].dt.to_period('M'), 'Content Type']).size().unstack()\n",
        "\n",
        "# Plot\n",
        "plt.figure(figsize=(14, 8))\n",
        "content_trend.plot(kind='line', ax=plt.gca())\n",
        "plt.title(\"Yearly Content Consumption by Content Type\")\n",
        "plt.xlabel(\"Year\")\n",
        "plt.ylabel(\"Count\")\n",
        "plt.xticks(rotation=45)\n",
        "plt.show()\n"
      ],
      "metadata": {
        "colab": {
          "base_uri": "https://localhost:8080/",
          "height": 729
        },
        "id": "0mWqMSWt5dop",
        "outputId": "16bfb427-f213-4896-b1b2-b1f71243f4cc"
      },
      "execution_count": 81,
      "outputs": [
        {
          "output_type": "display_data",
          "data": {
            "text/plain": [
              "<Figure size 1400x800 with 1 Axes>"
            ],
            "image/png": "[encoded data removed]"
          },
          "metadata": {}
        }
      ]
    },
    {
      "cell_type": "markdown",
      "source": [
        "# **1. Time-Based Analysis**"
      ],
      "metadata": {
        "id": "d-pDSkqriYia"
      }
    },
    {
      "cell_type": "markdown",
      "source": [
        "**Summary:**\n",
        "\n",
        "Most Watched Month: Shows the month with the highest viewing activity.\n",
        "\n",
        "Least Watched Month: Shows the month with the lowest viewing activity.\n",
        "\n",
        "Most Watched Year: Shows the year with the most content watched.\n",
        "\n",
        "Least Watched Year: Shows the year with the least content watched."
      ],
      "metadata": {
        "id": "1hrnNpsijaLc"
      }
    },
    {
      "cell_type": "markdown",
      "source": [
        "### **1.1 Extract the Month and Year**\n",
        "\n",
        "Extracting the month and year from the Date Watched column to group the content watched by month."
      ],
      "metadata": {
        "id": "TAAB1nxopKGI"
      }
    },
    {
      "cell_type": "code",
      "source": [
        "# Rename df to df_time_series\n",
        "df_time_series = df.copy()"
      ],
      "metadata": {
        "id": "9rVfcO-kpkGO"
      },
      "execution_count": 25,
      "outputs": []
    },
    {
      "cell_type": "code",
      "source": [
        "# Convert 'Date Watched' to datetime format\n",
        "df_time_series['Date Watched'] = pd.to_datetime(df_time_series['Date Watched'], format='%d/%m/%Y', errors='coerce')"
      ],
      "metadata": {
        "id": "I0GbYFaWpUSE"
      },
      "execution_count": 26,
      "outputs": []
    },
    {
      "cell_type": "code",
      "source": [
        "# Extract month and year from 'Date Watched'\n",
        "df_time_series['Month'] = df_time_series['Date Watched'].dt.month\n",
        "df_time_series['Year'] = df_time_series['Date Watched'].dt.year"
      ],
      "metadata": {
        "id": "aygpMOJnp3cg"
      },
      "execution_count": 27,
      "outputs": []
    },
    {
      "cell_type": "code",
      "source": [
        "# Group by Year and Month and count the number of shows/movies watched\n",
        "content_per_month = df_time_series.groupby(['Year', 'Month']).size()\n",
        "\n",
        "content_per_month"
      ],
      "metadata": {
        "colab": {
          "base_uri": "https://localhost:8080/",
          "height": 489
        },
        "id": "lPCiAs4Gp9VL",
        "outputId": "99ba5eb6-5cad-45c7-e1be-f586deaa3734"
      },
      "execution_count": 28,
      "outputs": [
        {
          "output_type": "execute_result",
          "data": {
            "text/plain": [
              "Year  Month\n",
              "2017  8         2\n",
              "      9        45\n",
              "      10       92\n",
              "      11       62\n",
              "      12       51\n",
              "               ..\n",
              "2024  5        58\n",
              "      6        21\n",
              "      7        59\n",
              "      8        43\n",
              "      9        17\n",
              "Length: 86, dtype: int64"
            ],
            "text/html": [
              "<div>\n",
              "<style scoped>\n",
              "    .dataframe tbody tr th:only-of-type {\n",
              "        vertical-align: middle;\n",
              "    }\n",
              "\n",
              "    .dataframe tbody tr th {\n",
              "        vertical-align: top;\n",
              "    }\n",
              "\n",
              "    .dataframe thead th {\n",
              "        text-align: right;\n",
              "    }\n",
              "</style>\n",
              "<table border=\"1\" class=\"dataframe\">\n",
              "  <thead>\n",
              "    <tr style=\"text-align: right;\">\n",
              "      <th></th>\n",
              "      <th></th>\n",
              "      <th>0</th>\n",
              "    </tr>\n",
              "    <tr>\n",
              "      <th>Year</th>\n",
              "      <th>Month</th>\n",
              "      <th></th>\n",
              "    </tr>\n",
              "  </thead>\n",
              "  <tbody>\n",
              "    <tr>\n",
              "      <th rowspan=\"5\" valign=\"top\">2017</th>\n",
              "      <th>8</th>\n",
              "      <td>2</td>\n",
              "    </tr>\n",
              "    <tr>\n",
              "      <th>9</th>\n",
              "      <td>45</td>\n",
              "    </tr>\n",
              "    <tr>\n",
              "      <th>10</th>\n",
              "      <td>92</td>\n",
              "    </tr>\n",
              "    <tr>\n",
              "      <th>11</th>\n",
              "      <td>62</td>\n",
              "    </tr>\n",
              "    <tr>\n",
              "      <th>12</th>\n",
              "      <td>51</td>\n",
              "    </tr>\n",
              "    <tr>\n",
              "      <th>...</th>\n",
              "      <th>...</th>\n",
              "      <td>...</td>\n",
              "    </tr>\n",
              "    <tr>\n",
              "      <th rowspan=\"5\" valign=\"top\">2024</th>\n",
              "      <th>5</th>\n",
              "      <td>58</td>\n",
              "    </tr>\n",
              "    <tr>\n",
              "      <th>6</th>\n",
              "      <td>21</td>\n",
              "    </tr>\n",
              "    <tr>\n",
              "      <th>7</th>\n",
              "      <td>59</td>\n",
              "    </tr>\n",
              "    <tr>\n",
              "      <th>8</th>\n",
              "      <td>43</td>\n",
              "    </tr>\n",
              "    <tr>\n",
              "      <th>9</th>\n",
              "      <td>17</td>\n",
              "    </tr>\n",
              "  </tbody>\n",
              "</table>\n",
              "<p>86 rows × 1 columns</p>\n",
              "</div><br><label><b>dtype:</b> int64</label>"
            ]
          },
          "metadata": {},
          "execution_count": 28
        }
      ]
    },
    {
      "cell_type": "markdown",
      "source": [
        "### **1.2 Find the month with the Most and Least Viewing Activity**"
      ],
      "metadata": {
        "id": "b74OOUA6xMbm"
      }
    },
    {
      "cell_type": "code",
      "source": [
        "most_watched_month = content_per_month.idxmax()\n",
        "most_watched_count = content_per_month.max()\n",
        "\n",
        "least_watched_month = content_per_month.idxmin()\n",
        "least_watched_count = content_per_month.min()\n",
        "\n",
        "print(f\"The most watched month: {most_watched_month} with {most_watched_count} shows/movies watched.\")\n",
        "print(f\"The least watched month: {least_watched_month} with {least_watched_count} shows/movies watched.\")\n"
      ],
      "metadata": {
        "colab": {
          "base_uri": "https://localhost:8080/"
        },
        "id": "WbPOrYoOxUNN",
        "outputId": "7642d8ef-fc5c-4493-a780-a2ca124d8fb5"
      },
      "execution_count": 29,
      "outputs": [
        {
          "output_type": "stream",
          "name": "stdout",
          "text": [
            "The most watched month: (2021, 1) with 157 shows/movies watched.\n",
            "The least watched month: (2017, 8) with 2 shows/movies watched.\n"
          ]
        }
      ]
    },
    {
      "cell_type": "markdown",
      "source": [
        "### **1.3 Find the Year with the Most and Least Viewing Activity**"
      ],
      "metadata": {
        "id": "2nsn7T5txnnT"
      }
    },
    {
      "cell_type": "code",
      "source": [
        "content_per_year = df_time_series.groupby('Year').size()\n",
        "\n",
        "most_watched_year = content_per_year.idxmax()\n",
        "most_watched_year_count = content_per_year.max()\n",
        "\n",
        "least_watched_year = content_per_year.idxmin()\n",
        "least_watched_year_count = content_per_year.min()\n",
        "\n",
        "print(f\"The year with the most viewing activity: {most_watched_year} with {most_watched_year_count} shows/movies watched.\")\n",
        "print(f\"The year with the least viewing activity: {least_watched_year} with {least_watched_year_count} shows/movies watched.\")"
      ],
      "metadata": {
        "colab": {
          "base_uri": "https://localhost:8080/"
        },
        "id": "4dSccVhtxqDe",
        "outputId": "2a4c2439-47c1-4a0c-f777-329a6a3f7559"
      },
      "execution_count": 30,
      "outputs": [
        {
          "output_type": "stream",
          "name": "stdout",
          "text": [
            "The year with the most viewing activity: 2021 with 1008 shows/movies watched.\n",
            "The year with the least viewing activity: 2017 with 252 shows/movies watched.\n"
          ]
        }
      ]
    },
    {
      "cell_type": "markdown",
      "source": [
        "# **2. Genre Analysis**"
      ],
      "metadata": {
        "id": "_6BTmmpezIus"
      }
    },
    {
      "cell_type": "markdown",
      "source": [
        "**Summary:**\n",
        "\n",
        "Genre Count: Shows the total number of shows/movies watched for each genre.\n",
        "\n",
        "Most/Least Watched Genres: Identifies which genres you watched the most and least.\n",
        "\n",
        "Highest/Lowest Rated Genres: Compares IMDb ratings across genres.\n",
        "\n",
        "Listing the shows with IMDb ratings higher than 8.0 with their genres."
      ],
      "metadata": {
        "id": "t7dURBLizPEh"
      }
    },
    {
      "cell_type": "markdown",
      "source": [
        "## **Count of All Genres**\n",
        "This gives a full breakdown of how many shows or movies fall under each genre."
      ],
      "metadata": {
        "id": "Xgp1kALBz6pI"
      }
    },
    {
      "cell_type": "code",
      "source": [
        "genre_count = df_info_only['Genre'].value_counts()\n",
        "\n",
        "print(\"Count of all genres:\")\n",
        "genre_count"
      ],
      "metadata": {
        "colab": {
          "base_uri": "https://localhost:8080/",
          "height": 917
        },
        "id": "EgOFxkDI0CuX",
        "outputId": "c55aed33-d82a-44ee-bc7f-2c00869d432e"
      },
      "execution_count": 31,
      "outputs": [
        {
          "output_type": "stream",
          "name": "stdout",
          "text": [
            "Count of all genres:\n"
          ]
        },
        {
          "output_type": "execute_result",
          "data": {
            "text/plain": [
              "Genre\n",
              "Romance        130\n",
              "Action         121\n",
              "Drama          113\n",
              "Comedy          97\n",
              "Fantasy         77\n",
              "Thriller        68\n",
              "Sci-Fi          44\n",
              "Crime           42\n",
              "Historical      19\n",
              "Animation       18\n",
              "Documentary     17\n",
              "Reality         14\n",
              "Mystery         14\n",
              "Unknown         12\n",
              "Adventure       10\n",
              "Horror           7\n",
              "Family           6\n",
              "Legal            5\n",
              "Medical          2\n",
              "Biography        2\n",
              "Sports           1\n",
              "Political        1\n",
              "Western          1\n",
              "War              1\n",
              "Talk Show        1\n",
              "Name: count, dtype: int64"
            ],
            "text/html": [
              "<div>\n",
              "<style scoped>\n",
              "    .dataframe tbody tr th:only-of-type {\n",
              "        vertical-align: middle;\n",
              "    }\n",
              "\n",
              "    .dataframe tbody tr th {\n",
              "        vertical-align: top;\n",
              "    }\n",
              "\n",
              "    .dataframe thead th {\n",
              "        text-align: right;\n",
              "    }\n",
              "</style>\n",
              "<table border=\"1\" class=\"dataframe\">\n",
              "  <thead>\n",
              "    <tr style=\"text-align: right;\">\n",
              "      <th></th>\n",
              "      <th>count</th>\n",
              "    </tr>\n",
              "    <tr>\n",
              "      <th>Genre</th>\n",
              "      <th></th>\n",
              "    </tr>\n",
              "  </thead>\n",
              "  <tbody>\n",
              "    <tr>\n",
              "      <th>Romance</th>\n",
              "      <td>130</td>\n",
              "    </tr>\n",
              "    <tr>\n",
              "      <th>Action</th>\n",
              "      <td>121</td>\n",
              "    </tr>\n",
              "    <tr>\n",
              "      <th>Drama</th>\n",
              "      <td>113</td>\n",
              "    </tr>\n",
              "    <tr>\n",
              "      <th>Comedy</th>\n",
              "      <td>97</td>\n",
              "    </tr>\n",
              "    <tr>\n",
              "      <th>Fantasy</th>\n",
              "      <td>77</td>\n",
              "    </tr>\n",
              "    <tr>\n",
              "      <th>Thriller</th>\n",
              "      <td>68</td>\n",
              "    </tr>\n",
              "    <tr>\n",
              "      <th>Sci-Fi</th>\n",
              "      <td>44</td>\n",
              "    </tr>\n",
              "    <tr>\n",
              "      <th>Crime</th>\n",
              "      <td>42</td>\n",
              "    </tr>\n",
              "    <tr>\n",
              "      <th>Historical</th>\n",
              "      <td>19</td>\n",
              "    </tr>\n",
              "    <tr>\n",
              "      <th>Animation</th>\n",
              "      <td>18</td>\n",
              "    </tr>\n",
              "    <tr>\n",
              "      <th>Documentary</th>\n",
              "      <td>17</td>\n",
              "    </tr>\n",
              "    <tr>\n",
              "      <th>Reality</th>\n",
              "      <td>14</td>\n",
              "    </tr>\n",
              "    <tr>\n",
              "      <th>Mystery</th>\n",
              "      <td>14</td>\n",
              "    </tr>\n",
              "    <tr>\n",
              "      <th>Unknown</th>\n",
              "      <td>12</td>\n",
              "    </tr>\n",
              "    <tr>\n",
              "      <th>Adventure</th>\n",
              "      <td>10</td>\n",
              "    </tr>\n",
              "    <tr>\n",
              "      <th>Horror</th>\n",
              "      <td>7</td>\n",
              "    </tr>\n",
              "    <tr>\n",
              "      <th>Family</th>\n",
              "      <td>6</td>\n",
              "    </tr>\n",
              "    <tr>\n",
              "      <th>Legal</th>\n",
              "      <td>5</td>\n",
              "    </tr>\n",
              "    <tr>\n",
              "      <th>Medical</th>\n",
              "      <td>2</td>\n",
              "    </tr>\n",
              "    <tr>\n",
              "      <th>Biography</th>\n",
              "      <td>2</td>\n",
              "    </tr>\n",
              "    <tr>\n",
              "      <th>Sports</th>\n",
              "      <td>1</td>\n",
              "    </tr>\n",
              "    <tr>\n",
              "      <th>Political</th>\n",
              "      <td>1</td>\n",
              "    </tr>\n",
              "    <tr>\n",
              "      <th>Western</th>\n",
              "      <td>1</td>\n",
              "    </tr>\n",
              "    <tr>\n",
              "      <th>War</th>\n",
              "      <td>1</td>\n",
              "    </tr>\n",
              "    <tr>\n",
              "      <th>Talk Show</th>\n",
              "      <td>1</td>\n",
              "    </tr>\n",
              "  </tbody>\n",
              "</table>\n",
              "</div><br><label><b>dtype:</b> int64</label>"
            ]
          },
          "metadata": {},
          "execution_count": 31
        }
      ]
    },
    {
      "cell_type": "markdown",
      "source": [
        "## **Most and Least Watched Genres**\n",
        "This identifies what I've watched the most and the least."
      ],
      "metadata": {
        "id": "ke0S6aix0Rku"
      }
    },
    {
      "cell_type": "code",
      "source": [
        "most_watched_genre = genre_count.idxmax()\n",
        "most_watched_genre_count = genre_count.max()\n",
        "\n",
        "least_watched_genre = genre_count.idxmin()\n",
        "least_watched_genre_count = genre_count.min()\n",
        "\n",
        "print(f\"\\nThe most watched genre: {most_watched_genre} with {most_watched_genre_count} shows/movies watched.\")\n",
        "print(f\"The least watched genre: {least_watched_genre} with {least_watched_genre_count} shows/movies watched.\")"
      ],
      "metadata": {
        "colab": {
          "base_uri": "https://localhost:8080/"
        },
        "id": "kgw1EGVl0V3I",
        "outputId": "a0f30521-32a7-4a35-ed49-1454cf29c45d"
      },
      "execution_count": 32,
      "outputs": [
        {
          "output_type": "stream",
          "name": "stdout",
          "text": [
            "\n",
            "The most watched genre: Romance with 130 shows/movies watched.\n",
            "The least watched genre: Sports with 1 shows/movies watched.\n"
          ]
        }
      ]
    },
    {
      "cell_type": "markdown",
      "source": [
        "## **Genres with Highest and Lowest IMDb Ratings (Excluding 0 Ratings)**\n"
      ],
      "metadata": {
        "id": "BMUUTSW809u9"
      }
    },
    {
      "cell_type": "code",
      "source": [
        "# Exclude rows where IMDb Rating is 0 (indicating unknown or not rated)\n",
        "df_rated = df_info_only[df_info_only['IMDb Rating'] != 0]\n",
        "\n",
        "# Convert 'IMDb Rating' to numeric if needed\n",
        "df_rated['IMDb Rating'] = pd.to_numeric(df_rated['IMDb Rating'], errors='coerce')\n",
        "\n",
        "# Group by Genre and calculate the mean IMDb Rating for each genre\n",
        "imdb_by_genre = df_rated.groupby('Genre')['IMDb Rating'].mean()\n",
        "\n",
        "# Find the genre with the highest IMDb rating\n",
        "highest_rated_genre = imdb_by_genre.idxmax()\n",
        "highest_imdb_rating = imdb_by_genre.max()\n",
        "\n",
        "# Find the genre with the lowest IMDb rating\n",
        "lowest_rated_genre = imdb_by_genre.idxmin()\n",
        "lowest_imdb_rating = imdb_by_genre.min()\n",
        "\n",
        "print(f\"\\nThe genre with the highest IMDb rating: {highest_rated_genre} with an average rating of {highest_imdb_rating}.\")\n",
        "print(f\"The genre with the lowest IMDb rating: {lowest_rated_genre} with an average rating of {lowest_imdb_rating}.\")"
      ],
      "metadata": {
        "colab": {
          "base_uri": "https://localhost:8080/"
        },
        "id": "0_2daVq_1EYI",
        "outputId": "76133e82-74f6-4760-b92c-f2f141222ce0"
      },
      "execution_count": 33,
      "outputs": [
        {
          "output_type": "stream",
          "name": "stdout",
          "text": [
            "\n",
            "The genre with the highest IMDb rating: Sports with an average rating of 8.4.\n",
            "The genre with the lowest IMDb rating: Reality with an average rating of 6.385714285714286.\n"
          ]
        },
        {
          "output_type": "stream",
          "name": "stderr",
          "text": [
            "<ipython-input-33-7d54abf45934>:5: SettingWithCopyWarning: \n",
            "A value is trying to be set on a copy of a slice from a DataFrame.\n",
            "Try using .loc[row_indexer,col_indexer] = value instead\n",
            "\n",
            "See the caveats in the documentation: https://pandas.pydata.org/pandas-docs/stable/user_guide/indexing.html#returning-a-view-versus-a-copy\n",
            "  df_rated['IMDb Rating'] = pd.to_numeric(df_rated['IMDb Rating'], errors='coerce')\n"
          ]
        }
      ]
    },
    {
      "cell_type": "markdown",
      "source": [
        "## **TV Series with Romance Genre and IMDb Rating > 8.0:**"
      ],
      "metadata": {
        "id": "e4Zbnap2PD2M"
      }
    },
    {
      "cell_type": "code",
      "source": [
        "high_rated_romance_tv = df_info_only[(df_info_only['IMDb Rating'] > 8.0) &\n",
        "                                     (df_info_only['Genre'].str.contains('Romance')) &\n",
        "                                     (df_info_only['Content Type'] == 'TV Series')]\n",
        "high_rated_romance_tv[['Title', 'Genre', 'IMDb Rating']]"
      ],
      "metadata": {
        "colab": {
          "base_uri": "https://localhost:8080/",
          "height": 551
        },
        "id": "sw1VOwvPPJGA",
        "outputId": "1c6e973d-25d0-46eb-9d91-adf2781b1860"
      },
      "execution_count": 34,
      "outputs": [
        {
          "output_type": "execute_result",
          "data": {
            "text/plain": [
              "                             Title    Genre  IMDb Rating\n",
              "62          Twenty Five Twenty One  Romance          8.7\n",
              "73                   Coffee Prince  Romance          8.2\n",
              "176             Suspicious Partner  Romance          8.1\n",
              "290                   Youth of May  Romance          8.5\n",
              "317               Fight for My Way  Romance          8.1\n",
              "364          Something in the Rain  Romance          8.1\n",
              "439           Hometown Cha-Cha-Cha  Romance          8.4\n",
              "475  Because This Is My First Life  Romance          8.1\n",
              "490          My Love from the Star  Romance          8.2\n",
              "537          Strong Girl Bong-soon  Romance          8.2\n",
              "566                    Hidden Love  Romance          8.8\n",
              "594           Crash Landing on You  Romance          8.7\n",
              "646         Descendants of the Sun  Romance          8.3\n",
              "671             Our Beloved Summer  Romance          8.4\n",
              "674       It's Okay to Not Be Okay  Romance          8.6\n",
              "753              Business Proposal  Romance          8.1"
            ],
            "text/html": [
              "\n",
              "  <div id=\"df-f8516c2c-1b4f-41cc-9d8e-8d6d8386d2c1\" class=\"colab-df-container\">\n",
              "    <div>\n",
              "<style scoped>\n",
              "    .dataframe tbody tr th:only-of-type {\n",
              "        vertical-align: middle;\n",
              "    }\n",
              "\n",
              "    .dataframe tbody tr th {\n",
              "        vertical-align: top;\n",
              "    }\n",
              "\n",
              "    .dataframe thead th {\n",
              "        text-align: right;\n",
              "    }\n",
              "</style>\n",
              "<table border=\"1\" class=\"dataframe\">\n",
              "  <thead>\n",
              "    <tr style=\"text-align: right;\">\n",
              "      <th></th>\n",
              "      <th>Title</th>\n",
              "      <th>Genre</th>\n",
              "      <th>IMDb Rating</th>\n",
              "    </tr>\n",
              "  </thead>\n",
              "  <tbody>\n",
              "    <tr>\n",
              "      <th>62</th>\n",
              "      <td>Twenty Five Twenty One</td>\n",
              "      <td>Romance</td>\n",
              "      <td>8.7</td>\n",
              "    </tr>\n",
              "    <tr>\n",
              "      <th>73</th>\n",
              "      <td>Coffee Prince</td>\n",
              "      <td>Romance</td>\n",
              "      <td>8.2</td>\n",
              "    </tr>\n",
              "    <tr>\n",
              "      <th>176</th>\n",
              "      <td>Suspicious Partner</td>\n",
              "      <td>Romance</td>\n",
              "      <td>8.1</td>\n",
              "    </tr>\n",
              "    <tr>\n",
              "      <th>290</th>\n",
              "      <td>Youth of May</td>\n",
              "      <td>Romance</td>\n",
              "      <td>8.5</td>\n",
              "    </tr>\n",
              "    <tr>\n",
              "      <th>317</th>\n",
              "      <td>Fight for My Way</td>\n",
              "      <td>Romance</td>\n",
              "      <td>8.1</td>\n",
              "    </tr>\n",
              "    <tr>\n",
              "      <th>364</th>\n",
              "      <td>Something in the Rain</td>\n",
              "      <td>Romance</td>\n",
              "      <td>8.1</td>\n",
              "    </tr>\n",
              "    <tr>\n",
              "      <th>439</th>\n",
              "      <td>Hometown Cha-Cha-Cha</td>\n",
              "      <td>Romance</td>\n",
              "      <td>8.4</td>\n",
              "    </tr>\n",
              "    <tr>\n",
              "      <th>475</th>\n",
              "      <td>Because This Is My First Life</td>\n",
              "      <td>Romance</td>\n",
              "      <td>8.1</td>\n",
              "    </tr>\n",
              "    <tr>\n",
              "      <th>490</th>\n",
              "      <td>My Love from the Star</td>\n",
              "      <td>Romance</td>\n",
              "      <td>8.2</td>\n",
              "    </tr>\n",
              "    <tr>\n",
              "      <th>537</th>\n",
              "      <td>Strong Girl Bong-soon</td>\n",
              "      <td>Romance</td>\n",
              "      <td>8.2</td>\n",
              "    </tr>\n",
              "    <tr>\n",
              "      <th>566</th>\n",
              "      <td>Hidden Love</td>\n",
              "      <td>Romance</td>\n",
              "      <td>8.8</td>\n",
              "    </tr>\n",
              "    <tr>\n",
              "      <th>594</th>\n",
              "      <td>Crash Landing on You</td>\n",
              "      <td>Romance</td>\n",
              "      <td>8.7</td>\n",
              "    </tr>\n",
              "    <tr>\n",
              "      <th>646</th>\n",
              "      <td>Descendants of the Sun</td>\n",
              "      <td>Romance</td>\n",
              "      <td>8.3</td>\n",
              "    </tr>\n",
              "    <tr>\n",
              "      <th>671</th>\n",
              "      <td>Our Beloved Summer</td>\n",
              "      <td>Romance</td>\n",
              "      <td>8.4</td>\n",
              "    </tr>\n",
              "    <tr>\n",
              "      <th>674</th>\n",
              "      <td>It's Okay to Not Be Okay</td>\n",
              "      <td>Romance</td>\n",
              "      <td>8.6</td>\n",
              "    </tr>\n",
              "    <tr>\n",
              "      <th>753</th>\n",
              "      <td>Business Proposal</td>\n",
              "      <td>Romance</td>\n",
              "      <td>8.1</td>\n",
              "    </tr>\n",
              "  </tbody>\n",
              "</table>\n",
              "</div>\n",
              "    <div class=\"colab-df-buttons\">\n",
              "\n",
              "  <div class=\"colab-df-container\">\n",
              "    <button class=\"colab-df-convert\" onclick=\"convertToInteractive('df-f8516c2c-1b4f-41cc-9d8e-8d6d8386d2c1')\"\n",
              "            title=\"Convert this dataframe to an interactive table.\"\n",
              "            style=\"display:none;\">\n",
              "\n",
              "  <svg xmlns=\"http://www.w3.org/2000/svg\" height=\"24px\" viewBox=\"0 -960 960 960\">\n",
              "    <path d=\"M120-120v-720h720v720H120Zm60-500h600v-160H180v160Zm220 220h160v-160H400v160Zm0 220h160v-160H400v160ZM180-400h160v-160H180v160Zm440 0h160v-160H620v160ZM180-180h160v-160H180v160Zm440 0h160v-160H620v160Z\"/>\n",
              "  </svg>\n",
              "    </button>\n",
              "\n",
              "  <style>\n",
              "    .colab-df-container {\n",
              "      display:flex;\n",
              "      gap: 12px;\n",
              "    }\n",
              "\n",
              "    .colab-df-convert {\n",
              "      background-color: #E8F0FE;\n",
              "      border: none;\n",
              "      border-radius: 50%;\n",
              "      cursor: pointer;\n",
              "      display: none;\n",
              "      fill: #1967D2;\n",
              "      height: 32px;\n",
              "      padding: 0 0 0 0;\n",
              "      width: 32px;\n",
              "    }\n",
              "\n",
              "    .colab-df-convert:hover {\n",
              "      background-color: #E2EBFA;\n",
              "      box-shadow: 0px 1px 2px rgba(60, 64, 67, 0.3), 0px 1px 3px 1px rgba(60, 64, 67, 0.15);\n",
              "      fill: #174EA6;\n",
              "    }\n",
              "\n",
              "    .colab-df-buttons div {\n",
              "      margin-bottom: 4px;\n",
              "    }\n",
              "\n",
              "    [theme=dark] .colab-df-convert {\n",
              "      background-color: #3B4455;\n",
              "      fill: #D2E3FC;\n",
              "    }\n",
              "\n",
              "    [theme=dark] .colab-df-convert:hover {\n",
              "      background-color: #434B5C;\n",
              "      box-shadow: 0px 1px 3px 1px rgba(0, 0, 0, 0.15);\n",
              "      filter: drop-shadow(0px 1px 2px rgba(0, 0, 0, 0.3));\n",
              "      fill: #FFFFFF;\n",
              "    }\n",
              "  </style>\n",
              "\n",
              "    <script>\n",
              "      const buttonEl =\n",
              "        document.querySelector('#df-f8516c2c-1b4f-41cc-9d8e-8d6d8386d2c1 button.colab-df-convert');\n",
              "      buttonEl.style.display =\n",
              "        google.colab.kernel.accessAllowed ? 'block' : 'none';\n",
              "\n",
              "      async function convertToInteractive(key) {\n",
              "        const element = document.querySelector('#df-f8516c2c-1b4f-41cc-9d8e-8d6d8386d2c1');\n",
              "        const dataTable =\n",
              "          await google.colab.kernel.invokeFunction('convertToInteractive',\n",
              "                                                    [key], {});\n",
              "        if (!dataTable) return;\n",
              "\n",
              "        const docLinkHtml = 'Like what you see? Visit the ' +\n",
              "          '<a target=\"_blank\" href=https://colab.research.google.com/notebooks/data_table.ipynb>data table notebook</a>'\n",
              "          + ' to learn more about interactive tables.';\n",
              "        element.innerHTML = '';\n",
              "        dataTable['output_type'] = 'display_data';\n",
              "        await google.colab.output.renderOutput(dataTable, element);\n",
              "        const docLink = document.createElement('div');\n",
              "        docLink.innerHTML = docLinkHtml;\n",
              "        element.appendChild(docLink);\n",
              "      }\n",
              "    </script>\n",
              "  </div>\n",
              "\n",
              "\n",
              "<div id=\"df-161eecbf-6a54-4125-a7f5-7f8911eae859\">\n",
              "  <button class=\"colab-df-quickchart\" onclick=\"quickchart('df-161eecbf-6a54-4125-a7f5-7f8911eae859')\"\n",
              "            title=\"Suggest charts\"\n",
              "            style=\"display:none;\">\n",
              "\n",
              "<svg xmlns=\"http://www.w3.org/2000/svg\" height=\"24px\"viewBox=\"0 0 24 24\"\n",
              "     width=\"24px\">\n",
              "    <g>\n",
              "        <path d=\"M19 3H5c-1.1 0-2 .9-2 2v14c0 1.1.9 2 2 2h14c1.1 0 2-.9 2-2V5c0-1.1-.9-2-2-2zM9 17H7v-7h2v7zm4 0h-2V7h2v10zm4 0h-2v-4h2v4z\"/>\n",
              "    </g>\n",
              "</svg>\n",
              "  </button>\n",
              "\n",
              "<style>\n",
              "  .colab-df-quickchart {\n",
              "      --bg-color: #E8F0FE;\n",
              "      --fill-color: #1967D2;\n",
              "      --hover-bg-color: #E2EBFA;\n",
              "      --hover-fill-color: #174EA6;\n",
              "      --disabled-fill-color: #AAA;\n",
              "      --disabled-bg-color: #DDD;\n",
              "  }\n",
              "\n",
              "  [theme=dark] .colab-df-quickchart {\n",
              "      --bg-color: #3B4455;\n",
              "      --fill-color: #D2E3FC;\n",
              "      --hover-bg-color: #434B5C;\n",
              "      --hover-fill-color: #FFFFFF;\n",
              "      --disabled-bg-color: #3B4455;\n",
              "      --disabled-fill-color: #666;\n",
              "  }\n",
              "\n",
              "  .colab-df-quickchart {\n",
              "    background-color: var(--bg-color);\n",
              "    border: none;\n",
              "    border-radius: 50%;\n",
              "    cursor: pointer;\n",
              "    display: none;\n",
              "    fill: var(--fill-color);\n",
              "    height: 32px;\n",
              "    padding: 0;\n",
              "    width: 32px;\n",
              "  }\n",
              "\n",
              "  .colab-df-quickchart:hover {\n",
              "    background-color: var(--hover-bg-color);\n",
              "    box-shadow: 0 1px 2px rgba(60, 64, 67, 0.3), 0 1px 3px 1px rgba(60, 64, 67, 0.15);\n",
              "    fill: var(--button-hover-fill-color);\n",
              "  }\n",
              "\n",
              "  .colab-df-quickchart-complete:disabled,\n",
              "  .colab-df-quickchart-complete:disabled:hover {\n",
              "    background-color: var(--disabled-bg-color);\n",
              "    fill: var(--disabled-fill-color);\n",
              "    box-shadow: none;\n",
              "  }\n",
              "\n",
              "  .colab-df-spinner {\n",
              "    border: 2px solid var(--fill-color);\n",
              "    border-color: transparent;\n",
              "    border-bottom-color: var(--fill-color);\n",
              "    animation:\n",
              "      spin 1s steps(1) infinite;\n",
              "  }\n",
              "\n",
              "  @keyframes spin {\n",
              "    0% {\n",
              "      border-color: transparent;\n",
              "      border-bottom-color: var(--fill-color);\n",
              "      border-left-color: var(--fill-color);\n",
              "    }\n",
              "    20% {\n",
              "      border-color: transparent;\n",
              "      border-left-color: var(--fill-color);\n",
              "      border-top-color: var(--fill-color);\n",
              "    }\n",
              "    30% {\n",
              "      border-color: transparent;\n",
              "      border-left-color: var(--fill-color);\n",
              "      border-top-color: var(--fill-color);\n",
              "      border-right-color: var(--fill-color);\n",
              "    }\n",
              "    40% {\n",
              "      border-color: transparent;\n",
              "      border-right-color: var(--fill-color);\n",
              "      border-top-color: var(--fill-color);\n",
              "    }\n",
              "    60% {\n",
              "      border-color: transparent;\n",
              "      border-right-color: var(--fill-color);\n",
              "    }\n",
              "    80% {\n",
              "      border-color: transparent;\n",
              "      border-right-color: var(--fill-color);\n",
              "      border-bottom-color: var(--fill-color);\n",
              "    }\n",
              "    90% {\n",
              "      border-color: transparent;\n",
              "      border-bottom-color: var(--fill-color);\n",
              "    }\n",
              "  }\n",
              "</style>\n",
              "\n",
              "  <script>\n",
              "    async function quickchart(key) {\n",
              "      const quickchartButtonEl =\n",
              "        document.querySelector('#' + key + ' button');\n",
              "      quickchartButtonEl.disabled = true;  // To prevent multiple clicks.\n",
              "      quickchartButtonEl.classList.add('colab-df-spinner');\n",
              "      try {\n",
              "        const charts = await google.colab.kernel.invokeFunction(\n",
              "            'suggestCharts', [key], {});\n",
              "      } catch (error) {\n",
              "        console.error('Error during call to suggestCharts:', error);\n",
              "      }\n",
              "      quickchartButtonEl.classList.remove('colab-df-spinner');\n",
              "      quickchartButtonEl.classList.add('colab-df-quickchart-complete');\n",
              "    }\n",
              "    (() => {\n",
              "      let quickchartButtonEl =\n",
              "        document.querySelector('#df-161eecbf-6a54-4125-a7f5-7f8911eae859 button');\n",
              "      quickchartButtonEl.style.display =\n",
              "        google.colab.kernel.accessAllowed ? 'block' : 'none';\n",
              "    })();\n",
              "  </script>\n",
              "</div>\n",
              "\n",
              "    </div>\n",
              "  </div>\n"
            ],
            "application/vnd.google.colaboratory.intrinsic+json": {
              "type": "dataframe",
              "summary": "{\n  \"name\": \"high_rated_romance_tv[['Title', 'Genre', 'IMDb Rating']]\",\n  \"rows\": 16,\n  \"fields\": [\n    {\n      \"column\": \"Title\",\n      \"properties\": {\n        \"dtype\": \"string\",\n        \"num_unique_values\": 16,\n        \"samples\": [\n          \"Twenty Five Twenty One\",\n          \"Coffee Prince\",\n          \"Something in the Rain\"\n        ],\n        \"semantic_type\": \"\",\n        \"description\": \"\"\n      }\n    },\n    {\n      \"column\": \"Genre\",\n      \"properties\": {\n        \"dtype\": \"category\",\n        \"num_unique_values\": 1,\n        \"samples\": [\n          \"Romance\"\n        ],\n        \"semantic_type\": \"\",\n        \"description\": \"\"\n      }\n    },\n    {\n      \"column\": \"IMDb Rating\",\n      \"properties\": {\n        \"dtype\": \"number\",\n        \"std\": 0.24757153848265095,\n        \"min\": 8.1,\n        \"max\": 8.8,\n        \"num_unique_values\": 8,\n        \"samples\": [\n          8.2\n        ],\n        \"semantic_type\": \"\",\n        \"description\": \"\"\n      }\n    }\n  ]\n}"
            }
          },
          "metadata": {},
          "execution_count": 34
        }
      ]
    },
    {
      "cell_type": "markdown",
      "source": [
        "## **TV Series with Crime Genre and IMDb Rating > 8.0:**"
      ],
      "metadata": {
        "id": "5CwB2wYA7ML7"
      }
    },
    {
      "cell_type": "code",
      "source": [
        "high_rated_crime_tv = df_info_only[(df_info_only['IMDb Rating'] > 8.0) &\n",
        "                                   (df_info_only['Genre'].str.contains('Crime')) &\n",
        "                                   (df_info_only['Content Type'] == 'TV Series')]\n",
        "high_rated_crime_tv[['Title', 'Genre', 'IMDb Rating']]"
      ],
      "metadata": {
        "colab": {
          "base_uri": "https://localhost:8080/",
          "height": 519
        },
        "id": "WYL8QwUl7Qq8",
        "outputId": "6528e4dc-7928-4cd1-b43a-e001962b068c"
      },
      "execution_count": 35,
      "outputs": [
        {
          "output_type": "execute_result",
          "data": {
            "text/plain": [
              "                   Title  Genre  IMDb Rating\n",
              "529          Money Heist  Crime          8.2\n",
              "613               Luther  Crime          8.4\n",
              "760              Top Boy  Crime          8.4\n",
              "1070               Power  Crime          8.1\n",
              "1310      Peaky Blinders  Crime          8.8\n",
              "1633               Ozark  Crime          8.5\n",
              "1889              Narcos  Crime          8.8\n",
              "3039            The Fall  Crime          8.1\n",
              "3103      Ashes to Ashes  Crime          8.2\n",
              "3131        White Collar  Crime          8.2\n",
              "3581        Line of Duty  Crime          8.7\n",
              "3597    When They See Us  Crime          8.9\n",
              "4152  Person of Interest  Crime          8.4\n",
              "4683          MINDHUNTER  Crime          8.6\n",
              "4779              Dexter  Crime          8.7"
            ],
            "text/html": [
              "\n",
              "  <div id=\"df-91edaadf-2941-45e7-8d1f-f732e07aa322\" class=\"colab-df-container\">\n",
              "    <div>\n",
              "<style scoped>\n",
              "    .dataframe tbody tr th:only-of-type {\n",
              "        vertical-align: middle;\n",
              "    }\n",
              "\n",
              "    .dataframe tbody tr th {\n",
              "        vertical-align: top;\n",
              "    }\n",
              "\n",
              "    .dataframe thead th {\n",
              "        text-align: right;\n",
              "    }\n",
              "</style>\n",
              "<table border=\"1\" class=\"dataframe\">\n",
              "  <thead>\n",
              "    <tr style=\"text-align: right;\">\n",
              "      <th></th>\n",
              "      <th>Title</th>\n",
              "      <th>Genre</th>\n",
              "      <th>IMDb Rating</th>\n",
              "    </tr>\n",
              "  </thead>\n",
              "  <tbody>\n",
              "    <tr>\n",
              "      <th>529</th>\n",
              "      <td>Money Heist</td>\n",
              "      <td>Crime</td>\n",
              "      <td>8.2</td>\n",
              "    </tr>\n",
              "    <tr>\n",
              "      <th>613</th>\n",
              "      <td>Luther</td>\n",
              "      <td>Crime</td>\n",
              "      <td>8.4</td>\n",
              "    </tr>\n",
              "    <tr>\n",
              "      <th>760</th>\n",
              "      <td>Top Boy</td>\n",
              "      <td>Crime</td>\n",
              "      <td>8.4</td>\n",
              "    </tr>\n",
              "    <tr>\n",
              "      <th>1070</th>\n",
              "      <td>Power</td>\n",
              "      <td>Crime</td>\n",
              "      <td>8.1</td>\n",
              "    </tr>\n",
              "    <tr>\n",
              "      <th>1310</th>\n",
              "      <td>Peaky Blinders</td>\n",
              "      <td>Crime</td>\n",
              "      <td>8.8</td>\n",
              "    </tr>\n",
              "    <tr>\n",
              "      <th>1633</th>\n",
              "      <td>Ozark</td>\n",
              "      <td>Crime</td>\n",
              "      <td>8.5</td>\n",
              "    </tr>\n",
              "    <tr>\n",
              "      <th>1889</th>\n",
              "      <td>Narcos</td>\n",
              "      <td>Crime</td>\n",
              "      <td>8.8</td>\n",
              "    </tr>\n",
              "    <tr>\n",
              "      <th>3039</th>\n",
              "      <td>The Fall</td>\n",
              "      <td>Crime</td>\n",
              "      <td>8.1</td>\n",
              "    </tr>\n",
              "    <tr>\n",
              "      <th>3103</th>\n",
              "      <td>Ashes to Ashes</td>\n",
              "      <td>Crime</td>\n",
              "      <td>8.2</td>\n",
              "    </tr>\n",
              "    <tr>\n",
              "      <th>3131</th>\n",
              "      <td>White Collar</td>\n",
              "      <td>Crime</td>\n",
              "      <td>8.2</td>\n",
              "    </tr>\n",
              "    <tr>\n",
              "      <th>3581</th>\n",
              "      <td>Line of Duty</td>\n",
              "      <td>Crime</td>\n",
              "      <td>8.7</td>\n",
              "    </tr>\n",
              "    <tr>\n",
              "      <th>3597</th>\n",
              "      <td>When They See Us</td>\n",
              "      <td>Crime</td>\n",
              "      <td>8.9</td>\n",
              "    </tr>\n",
              "    <tr>\n",
              "      <th>4152</th>\n",
              "      <td>Person of Interest</td>\n",
              "      <td>Crime</td>\n",
              "      <td>8.4</td>\n",
              "    </tr>\n",
              "    <tr>\n",
              "      <th>4683</th>\n",
              "      <td>MINDHUNTER</td>\n",
              "      <td>Crime</td>\n",
              "      <td>8.6</td>\n",
              "    </tr>\n",
              "    <tr>\n",
              "      <th>4779</th>\n",
              "      <td>Dexter</td>\n",
              "      <td>Crime</td>\n",
              "      <td>8.7</td>\n",
              "    </tr>\n",
              "  </tbody>\n",
              "</table>\n",
              "</div>\n",
              "    <div class=\"colab-df-buttons\">\n",
              "\n",
              "  <div class=\"colab-df-container\">\n",
              "    <button class=\"colab-df-convert\" onclick=\"convertToInteractive('df-91edaadf-2941-45e7-8d1f-f732e07aa322')\"\n",
              "            title=\"Convert this dataframe to an interactive table.\"\n",
              "            style=\"display:none;\">\n",
              "\n",
              "  <svg xmlns=\"http://www.w3.org/2000/svg\" height=\"24px\" viewBox=\"0 -960 960 960\">\n",
              "    <path d=\"M120-120v-720h720v720H120Zm60-500h600v-160H180v160Zm220 220h160v-160H400v160Zm0 220h160v-160H400v160ZM180-400h160v-160H180v160Zm440 0h160v-160H620v160ZM180-180h160v-160H180v160Zm440 0h160v-160H620v160Z\"/>\n",
              "  </svg>\n",
              "    </button>\n",
              "\n",
              "  <style>\n",
              "    .colab-df-container {\n",
              "      display:flex;\n",
              "      gap: 12px;\n",
              "    }\n",
              "\n",
              "    .colab-df-convert {\n",
              "      background-color: #E8F0FE;\n",
              "      border: none;\n",
              "      border-radius: 50%;\n",
              "      cursor: pointer;\n",
              "      display: none;\n",
              "      fill: #1967D2;\n",
              "      height: 32px;\n",
              "      padding: 0 0 0 0;\n",
              "      width: 32px;\n",
              "    }\n",
              "\n",
              "    .colab-df-convert:hover {\n",
              "      background-color: #E2EBFA;\n",
              "      box-shadow: 0px 1px 2px rgba(60, 64, 67, 0.3), 0px 1px 3px 1px rgba(60, 64, 67, 0.15);\n",
              "      fill: #174EA6;\n",
              "    }\n",
              "\n",
              "    .colab-df-buttons div {\n",
              "      margin-bottom: 4px;\n",
              "    }\n",
              "\n",
              "    [theme=dark] .colab-df-convert {\n",
              "      background-color: #3B4455;\n",
              "      fill: #D2E3FC;\n",
              "    }\n",
              "\n",
              "    [theme=dark] .colab-df-convert:hover {\n",
              "      background-color: #434B5C;\n",
              "      box-shadow: 0px 1px 3px 1px rgba(0, 0, 0, 0.15);\n",
              "      filter: drop-shadow(0px 1px 2px rgba(0, 0, 0, 0.3));\n",
              "      fill: #FFFFFF;\n",
              "    }\n",
              "  </style>\n",
              "\n",
              "    <script>\n",
              "      const buttonEl =\n",
              "        document.querySelector('#df-91edaadf-2941-45e7-8d1f-f732e07aa322 button.colab-df-convert');\n",
              "      buttonEl.style.display =\n",
              "        google.colab.kernel.accessAllowed ? 'block' : 'none';\n",
              "\n",
              "      async function convertToInteractive(key) {\n",
              "        const element = document.querySelector('#df-91edaadf-2941-45e7-8d1f-f732e07aa322');\n",
              "        const dataTable =\n",
              "          await google.colab.kernel.invokeFunction('convertToInteractive',\n",
              "                                                    [key], {});\n",
              "        if (!dataTable) return;\n",
              "\n",
              "        const docLinkHtml = 'Like what you see? Visit the ' +\n",
              "          '<a target=\"_blank\" href=https://colab.research.google.com/notebooks/data_table.ipynb>data table notebook</a>'\n",
              "          + ' to learn more about interactive tables.';\n",
              "        element.innerHTML = '';\n",
              "        dataTable['output_type'] = 'display_data';\n",
              "        await google.colab.output.renderOutput(dataTable, element);\n",
              "        const docLink = document.createElement('div');\n",
              "        docLink.innerHTML = docLinkHtml;\n",
              "        element.appendChild(docLink);\n",
              "      }\n",
              "    </script>\n",
              "  </div>\n",
              "\n",
              "\n",
              "<div id=\"df-3a38d3c3-1be3-42c5-9e6f-0aa72c3b38b8\">\n",
              "  <button class=\"colab-df-quickchart\" onclick=\"quickchart('df-3a38d3c3-1be3-42c5-9e6f-0aa72c3b38b8')\"\n",
              "            title=\"Suggest charts\"\n",
              "            style=\"display:none;\">\n",
              "\n",
              "<svg xmlns=\"http://www.w3.org/2000/svg\" height=\"24px\"viewBox=\"0 0 24 24\"\n",
              "     width=\"24px\">\n",
              "    <g>\n",
              "        <path d=\"M19 3H5c-1.1 0-2 .9-2 2v14c0 1.1.9 2 2 2h14c1.1 0 2-.9 2-2V5c0-1.1-.9-2-2-2zM9 17H7v-7h2v7zm4 0h-2V7h2v10zm4 0h-2v-4h2v4z\"/>\n",
              "    </g>\n",
              "</svg>\n",
              "  </button>\n",
              "\n",
              "<style>\n",
              "  .colab-df-quickchart {\n",
              "      --bg-color: #E8F0FE;\n",
              "      --fill-color: #1967D2;\n",
              "      --hover-bg-color: #E2EBFA;\n",
              "      --hover-fill-color: #174EA6;\n",
              "      --disabled-fill-color: #AAA;\n",
              "      --disabled-bg-color: #DDD;\n",
              "  }\n",
              "\n",
              "  [theme=dark] .colab-df-quickchart {\n",
              "      --bg-color: #3B4455;\n",
              "      --fill-color: #D2E3FC;\n",
              "      --hover-bg-color: #434B5C;\n",
              "      --hover-fill-color: #FFFFFF;\n",
              "      --disabled-bg-color: #3B4455;\n",
              "      --disabled-fill-color: #666;\n",
              "  }\n",
              "\n",
              "  .colab-df-quickchart {\n",
              "    background-color: var(--bg-color);\n",
              "    border: none;\n",
              "    border-radius: 50%;\n",
              "    cursor: pointer;\n",
              "    display: none;\n",
              "    fill: var(--fill-color);\n",
              "    height: 32px;\n",
              "    padding: 0;\n",
              "    width: 32px;\n",
              "  }\n",
              "\n",
              "  .colab-df-quickchart:hover {\n",
              "    background-color: var(--hover-bg-color);\n",
              "    box-shadow: 0 1px 2px rgba(60, 64, 67, 0.3), 0 1px 3px 1px rgba(60, 64, 67, 0.15);\n",
              "    fill: var(--button-hover-fill-color);\n",
              "  }\n",
              "\n",
              "  .colab-df-quickchart-complete:disabled,\n",
              "  .colab-df-quickchart-complete:disabled:hover {\n",
              "    background-color: var(--disabled-bg-color);\n",
              "    fill: var(--disabled-fill-color);\n",
              "    box-shadow: none;\n",
              "  }\n",
              "\n",
              "  .colab-df-spinner {\n",
              "    border: 2px solid var(--fill-color);\n",
              "    border-color: transparent;\n",
              "    border-bottom-color: var(--fill-color);\n",
              "    animation:\n",
              "      spin 1s steps(1) infinite;\n",
              "  }\n",
              "\n",
              "  @keyframes spin {\n",
              "    0% {\n",
              "      border-color: transparent;\n",
              "      border-bottom-color: var(--fill-color);\n",
              "      border-left-color: var(--fill-color);\n",
              "    }\n",
              "    20% {\n",
              "      border-color: transparent;\n",
              "      border-left-color: var(--fill-color);\n",
              "      border-top-color: var(--fill-color);\n",
              "    }\n",
              "    30% {\n",
              "      border-color: transparent;\n",
              "      border-left-color: var(--fill-color);\n",
              "      border-top-color: var(--fill-color);\n",
              "      border-right-color: var(--fill-color);\n",
              "    }\n",
              "    40% {\n",
              "      border-color: transparent;\n",
              "      border-right-color: var(--fill-color);\n",
              "      border-top-color: var(--fill-color);\n",
              "    }\n",
              "    60% {\n",
              "      border-color: transparent;\n",
              "      border-right-color: var(--fill-color);\n",
              "    }\n",
              "    80% {\n",
              "      border-color: transparent;\n",
              "      border-right-color: var(--fill-color);\n",
              "      border-bottom-color: var(--fill-color);\n",
              "    }\n",
              "    90% {\n",
              "      border-color: transparent;\n",
              "      border-bottom-color: var(--fill-color);\n",
              "    }\n",
              "  }\n",
              "</style>\n",
              "\n",
              "  <script>\n",
              "    async function quickchart(key) {\n",
              "      const quickchartButtonEl =\n",
              "        document.querySelector('#' + key + ' button');\n",
              "      quickchartButtonEl.disabled = true;  // To prevent multiple clicks.\n",
              "      quickchartButtonEl.classList.add('colab-df-spinner');\n",
              "      try {\n",
              "        const charts = await google.colab.kernel.invokeFunction(\n",
              "            'suggestCharts', [key], {});\n",
              "      } catch (error) {\n",
              "        console.error('Error during call to suggestCharts:', error);\n",
              "      }\n",
              "      quickchartButtonEl.classList.remove('colab-df-spinner');\n",
              "      quickchartButtonEl.classList.add('colab-df-quickchart-complete');\n",
              "    }\n",
              "    (() => {\n",
              "      let quickchartButtonEl =\n",
              "        document.querySelector('#df-3a38d3c3-1be3-42c5-9e6f-0aa72c3b38b8 button');\n",
              "      quickchartButtonEl.style.display =\n",
              "        google.colab.kernel.accessAllowed ? 'block' : 'none';\n",
              "    })();\n",
              "  </script>\n",
              "</div>\n",
              "\n",
              "    </div>\n",
              "  </div>\n"
            ],
            "application/vnd.google.colaboratory.intrinsic+json": {
              "type": "dataframe",
              "summary": "{\n  \"name\": \"high_rated_crime_tv[['Title', 'Genre', 'IMDb Rating']]\",\n  \"rows\": 15,\n  \"fields\": [\n    {\n      \"column\": \"Title\",\n      \"properties\": {\n        \"dtype\": \"string\",\n        \"num_unique_values\": 15,\n        \"samples\": [\n          \"White Collar\",\n          \"When They See Us\",\n          \"Money Heist\"\n        ],\n        \"semantic_type\": \"\",\n        \"description\": \"\"\n      }\n    },\n    {\n      \"column\": \"Genre\",\n      \"properties\": {\n        \"dtype\": \"category\",\n        \"num_unique_values\": 1,\n        \"samples\": [\n          \"Crime\"\n        ],\n        \"semantic_type\": \"\",\n        \"description\": \"\"\n      }\n    },\n    {\n      \"column\": \"IMDb Rating\",\n      \"properties\": {\n        \"dtype\": \"number\",\n        \"std\": 0.2716790823923034,\n        \"min\": 8.1,\n        \"max\": 8.9,\n        \"num_unique_values\": 8,\n        \"samples\": [\n          8.4\n        ],\n        \"semantic_type\": \"\",\n        \"description\": \"\"\n      }\n    }\n  ]\n}"
            }
          },
          "metadata": {},
          "execution_count": 35
        }
      ]
    },
    {
      "cell_type": "markdown",
      "source": [
        "# **3. Ratings Analysis**"
      ],
      "metadata": {
        "id": "yGDWq4IH19cy"
      }
    },
    {
      "cell_type": "markdown",
      "source": [
        "**Summary:**\n",
        "\n",
        "IMDb Ratings Distribution: Provides an overview of how ratings are spread across the content you've watched, showing the frequency of each IMDb rating.\n",
        "\n",
        "Ratings by Content Type: Calculates the average IMDb rating for different content types (e.g., movies or TV series) to identify any trends."
      ],
      "metadata": {
        "id": "gndpuvyr2MZc"
      }
    },
    {
      "cell_type": "markdown",
      "source": [
        "## **IMDb Ratings Distribution**\n",
        "Analysing the overall distribution of IMDb ratings for the entire dataset (excluding any 0 ratings that represent unrated content). This gives us insight into how content is rated in general."
      ],
      "metadata": {
        "id": "MShu42DY2WVb"
      }
    },
    {
      "cell_type": "code",
      "source": [
        "# Exclude rows where IMDb Rating is 0 (indicating unknown or not rated)\n",
        "df_rated = df_info_only[df_info_only['IMDb Rating'] != 0]\n",
        "\n",
        "# Convert 'IMDb Rating' to numeric if needed\n",
        "df_rated['IMDb Rating'] = pd.to_numeric(df_rated['IMDb Rating'], errors='coerce')\n",
        "\n",
        "# Display the IMDb ratings distribution\n",
        "imdb_distribution = df_rated['IMDb Rating'].value_counts().sort_index()\n",
        "\n",
        "# Show the IMDb ratings distribution\n",
        "imdb_distribution\n"
      ],
      "metadata": {
        "colab": {
          "base_uri": "https://localhost:8080/",
          "height": 0
        },
        "id": "ypWGLXgh3Q0R",
        "outputId": "394323bc-6ca3-4b8a-9ae4-d09b9f9a5513"
      },
      "execution_count": 41,
      "outputs": [
        {
          "output_type": "stream",
          "name": "stderr",
          "text": [
            "<ipython-input-41-bb734d75c94e>:5: SettingWithCopyWarning: \n",
            "A value is trying to be set on a copy of a slice from a DataFrame.\n",
            "Try using .loc[row_indexer,col_indexer] = value instead\n",
            "\n",
            "See the caveats in the documentation: https://pandas.pydata.org/pandas-docs/stable/user_guide/indexing.html#returning-a-view-versus-a-copy\n",
            "  df_rated['IMDb Rating'] = pd.to_numeric(df_rated['IMDb Rating'], errors='coerce')\n"
          ]
        },
        {
          "output_type": "execute_result",
          "data": {
            "text/plain": [
              "IMDb Rating\n",
              "2.8     1\n",
              "2.9     1\n",
              "3.1     1\n",
              "3.3     2\n",
              "3.8     1\n",
              "4.0     1\n",
              "4.3     6\n",
              "4.4     5\n",
              "4.5     5\n",
              "4.6     3\n",
              "4.7     4\n",
              "4.8     6\n",
              "4.9     2\n",
              "5.0     1\n",
              "5.1     4\n",
              "5.2     7\n",
              "5.3    17\n",
              "5.4    12\n",
              "5.5    12\n",
              "5.6    17\n",
              "5.7    20\n",
              "5.8    22\n",
              "5.9    15\n",
              "6.0    11\n",
              "6.1    18\n",
              "6.2    23\n",
              "6.3    35\n",
              "6.4    25\n",
              "6.5    26\n",
              "6.6    27\n",
              "6.7    30\n",
              "6.8    19\n",
              "6.9    26\n",
              "7.0    33\n",
              "7.1    20\n",
              "7.2    25\n",
              "7.3    22\n",
              "7.4    27\n",
              "7.5    23\n",
              "7.6    27\n",
              "7.7    26\n",
              "7.8    30\n",
              "7.9    15\n",
              "8.0    25\n",
              "8.1    21\n",
              "8.2    23\n",
              "8.3    13\n",
              "8.4    24\n",
              "8.5    14\n",
              "8.6     6\n",
              "8.7    13\n",
              "8.8     7\n",
              "8.9     3\n",
              "9.1     1\n",
              "9.2     1\n",
              "Name: count, dtype: int64"
            ],
            "text/html": [
              "<div>\n",
              "<style scoped>\n",
              "    .dataframe tbody tr th:only-of-type {\n",
              "        vertical-align: middle;\n",
              "    }\n",
              "\n",
              "    .dataframe tbody tr th {\n",
              "        vertical-align: top;\n",
              "    }\n",
              "\n",
              "    .dataframe thead th {\n",
              "        text-align: right;\n",
              "    }\n",
              "</style>\n",
              "<table border=\"1\" class=\"dataframe\">\n",
              "  <thead>\n",
              "    <tr style=\"text-align: right;\">\n",
              "      <th></th>\n",
              "      <th>count</th>\n",
              "    </tr>\n",
              "    <tr>\n",
              "      <th>IMDb Rating</th>\n",
              "      <th></th>\n",
              "    </tr>\n",
              "  </thead>\n",
              "  <tbody>\n",
              "    <tr>\n",
              "      <th>2.8</th>\n",
              "      <td>1</td>\n",
              "    </tr>\n",
              "    <tr>\n",
              "      <th>2.9</th>\n",
              "      <td>1</td>\n",
              "    </tr>\n",
              "    <tr>\n",
              "      <th>3.1</th>\n",
              "      <td>1</td>\n",
              "    </tr>\n",
              "    <tr>\n",
              "      <th>3.3</th>\n",
              "      <td>2</td>\n",
              "    </tr>\n",
              "    <tr>\n",
              "      <th>3.8</th>\n",
              "      <td>1</td>\n",
              "    </tr>\n",
              "    <tr>\n",
              "      <th>4.0</th>\n",
              "      <td>1</td>\n",
              "    </tr>\n",
              "    <tr>\n",
              "      <th>4.3</th>\n",
              "      <td>6</td>\n",
              "    </tr>\n",
              "    <tr>\n",
              "      <th>4.4</th>\n",
              "      <td>5</td>\n",
              "    </tr>\n",
              "    <tr>\n",
              "      <th>4.5</th>\n",
              "      <td>5</td>\n",
              "    </tr>\n",
              "    <tr>\n",
              "      <th>4.6</th>\n",
              "      <td>3</td>\n",
              "    </tr>\n",
              "    <tr>\n",
              "      <th>4.7</th>\n",
              "      <td>4</td>\n",
              "    </tr>\n",
              "    <tr>\n",
              "      <th>4.8</th>\n",
              "      <td>6</td>\n",
              "    </tr>\n",
              "    <tr>\n",
              "      <th>4.9</th>\n",
              "      <td>2</td>\n",
              "    </tr>\n",
              "    <tr>\n",
              "      <th>5.0</th>\n",
              "      <td>1</td>\n",
              "    </tr>\n",
              "    <tr>\n",
              "      <th>5.1</th>\n",
              "      <td>4</td>\n",
              "    </tr>\n",
              "    <tr>\n",
              "      <th>5.2</th>\n",
              "      <td>7</td>\n",
              "    </tr>\n",
              "    <tr>\n",
              "      <th>5.3</th>\n",
              "      <td>17</td>\n",
              "    </tr>\n",
              "    <tr>\n",
              "      <th>5.4</th>\n",
              "      <td>12</td>\n",
              "    </tr>\n",
              "    <tr>\n",
              "      <th>5.5</th>\n",
              "      <td>12</td>\n",
              "    </tr>\n",
              "    <tr>\n",
              "      <th>5.6</th>\n",
              "      <td>17</td>\n",
              "    </tr>\n",
              "    <tr>\n",
              "      <th>5.7</th>\n",
              "      <td>20</td>\n",
              "    </tr>\n",
              "    <tr>\n",
              "      <th>5.8</th>\n",
              "      <td>22</td>\n",
              "    </tr>\n",
              "    <tr>\n",
              "      <th>5.9</th>\n",
              "      <td>15</td>\n",
              "    </tr>\n",
              "    <tr>\n",
              "      <th>6.0</th>\n",
              "      <td>11</td>\n",
              "    </tr>\n",
              "    <tr>\n",
              "      <th>6.1</th>\n",
              "      <td>18</td>\n",
              "    </tr>\n",
              "    <tr>\n",
              "      <th>6.2</th>\n",
              "      <td>23</td>\n",
              "    </tr>\n",
              "    <tr>\n",
              "      <th>6.3</th>\n",
              "      <td>35</td>\n",
              "    </tr>\n",
              "    <tr>\n",
              "      <th>6.4</th>\n",
              "      <td>25</td>\n",
              "    </tr>\n",
              "    <tr>\n",
              "      <th>6.5</th>\n",
              "      <td>26</td>\n",
              "    </tr>\n",
              "    <tr>\n",
              "      <th>6.6</th>\n",
              "      <td>27</td>\n",
              "    </tr>\n",
              "    <tr>\n",
              "      <th>6.7</th>\n",
              "      <td>30</td>\n",
              "    </tr>\n",
              "    <tr>\n",
              "      <th>6.8</th>\n",
              "      <td>19</td>\n",
              "    </tr>\n",
              "    <tr>\n",
              "      <th>6.9</th>\n",
              "      <td>26</td>\n",
              "    </tr>\n",
              "    <tr>\n",
              "      <th>7.0</th>\n",
              "      <td>33</td>\n",
              "    </tr>\n",
              "    <tr>\n",
              "      <th>7.1</th>\n",
              "      <td>20</td>\n",
              "    </tr>\n",
              "    <tr>\n",
              "      <th>7.2</th>\n",
              "      <td>25</td>\n",
              "    </tr>\n",
              "    <tr>\n",
              "      <th>7.3</th>\n",
              "      <td>22</td>\n",
              "    </tr>\n",
              "    <tr>\n",
              "      <th>7.4</th>\n",
              "      <td>27</td>\n",
              "    </tr>\n",
              "    <tr>\n",
              "      <th>7.5</th>\n",
              "      <td>23</td>\n",
              "    </tr>\n",
              "    <tr>\n",
              "      <th>7.6</th>\n",
              "      <td>27</td>\n",
              "    </tr>\n",
              "    <tr>\n",
              "      <th>7.7</th>\n",
              "      <td>26</td>\n",
              "    </tr>\n",
              "    <tr>\n",
              "      <th>7.8</th>\n",
              "      <td>30</td>\n",
              "    </tr>\n",
              "    <tr>\n",
              "      <th>7.9</th>\n",
              "      <td>15</td>\n",
              "    </tr>\n",
              "    <tr>\n",
              "      <th>8.0</th>\n",
              "      <td>25</td>\n",
              "    </tr>\n",
              "    <tr>\n",
              "      <th>8.1</th>\n",
              "      <td>21</td>\n",
              "    </tr>\n",
              "    <tr>\n",
              "      <th>8.2</th>\n",
              "      <td>23</td>\n",
              "    </tr>\n",
              "    <tr>\n",
              "      <th>8.3</th>\n",
              "      <td>13</td>\n",
              "    </tr>\n",
              "    <tr>\n",
              "      <th>8.4</th>\n",
              "      <td>24</td>\n",
              "    </tr>\n",
              "    <tr>\n",
              "      <th>8.5</th>\n",
              "      <td>14</td>\n",
              "    </tr>\n",
              "    <tr>\n",
              "      <th>8.6</th>\n",
              "      <td>6</td>\n",
              "    </tr>\n",
              "    <tr>\n",
              "      <th>8.7</th>\n",
              "      <td>13</td>\n",
              "    </tr>\n",
              "    <tr>\n",
              "      <th>8.8</th>\n",
              "      <td>7</td>\n",
              "    </tr>\n",
              "    <tr>\n",
              "      <th>8.9</th>\n",
              "      <td>3</td>\n",
              "    </tr>\n",
              "    <tr>\n",
              "      <th>9.1</th>\n",
              "      <td>1</td>\n",
              "    </tr>\n",
              "    <tr>\n",
              "      <th>9.2</th>\n",
              "      <td>1</td>\n",
              "    </tr>\n",
              "  </tbody>\n",
              "</table>\n",
              "</div><br><label><b>dtype:</b> int64</label>"
            ]
          },
          "metadata": {},
          "execution_count": 41
        }
      ]
    },
    {
      "cell_type": "markdown",
      "source": [
        "## **Ratings by Content Type (Excluding Unknown Content Type and 0 IMDb Rating)**\n",
        "Analysing whether there’s a difference in IMDb ratings between various content types, such as TV series and movies. This helps us to understand whether certain types of content tend to have higher or lower ratings."
      ],
      "metadata": {
        "id": "YeW98zWw3abo"
      }
    },
    {
      "cell_type": "code",
      "source": [
        "# Exclude rows where 'Content Type' is 'Unknown' and 'IMDb Rating' is 0\n",
        "df_filtered = df_info_only[(df_info_only['Content Type'] != 'Unknown') & (df_info_only['IMDb Rating'] != 0)]\n",
        "\n",
        "# Convert 'IMDb Rating' to numeric if needed\n",
        "df_filtered['IMDb Rating'] = pd.to_numeric(df_filtered['IMDb Rating'], errors='coerce')\n",
        "\n",
        "# Display the IMDb ratings distribution\n",
        "imdb_distribution = df_filtered['IMDb Rating'].value_counts().sort_index()\n",
        "\n",
        "# Show the IMDb ratings distribution\n",
        "imdb_distribution\n"
      ],
      "metadata": {
        "id": "2pS7m-j34K0S",
        "colab": {
          "base_uri": "https://localhost:8080/",
          "height": 0
        },
        "outputId": "a27e9f02-8741-4834-ae48-103f1a5844b2"
      },
      "execution_count": 42,
      "outputs": [
        {
          "output_type": "stream",
          "name": "stderr",
          "text": [
            "<ipython-input-42-963cf105f806>:5: SettingWithCopyWarning: \n",
            "A value is trying to be set on a copy of a slice from a DataFrame.\n",
            "Try using .loc[row_indexer,col_indexer] = value instead\n",
            "\n",
            "See the caveats in the documentation: https://pandas.pydata.org/pandas-docs/stable/user_guide/indexing.html#returning-a-view-versus-a-copy\n",
            "  df_filtered['IMDb Rating'] = pd.to_numeric(df_filtered['IMDb Rating'], errors='coerce')\n"
          ]
        },
        {
          "output_type": "execute_result",
          "data": {
            "text/plain": [
              "IMDb Rating\n",
              "2.8     1\n",
              "2.9     1\n",
              "3.1     1\n",
              "3.3     2\n",
              "3.8     1\n",
              "4.0     1\n",
              "4.3     6\n",
              "4.4     5\n",
              "4.5     5\n",
              "4.6     3\n",
              "4.7     4\n",
              "4.8     6\n",
              "4.9     2\n",
              "5.0     1\n",
              "5.1     4\n",
              "5.2     7\n",
              "5.3    17\n",
              "5.4    12\n",
              "5.5    12\n",
              "5.6    17\n",
              "5.7    20\n",
              "5.8    22\n",
              "5.9    15\n",
              "6.0    11\n",
              "6.1    18\n",
              "6.2    23\n",
              "6.3    35\n",
              "6.4    25\n",
              "6.5    26\n",
              "6.6    27\n",
              "6.7    30\n",
              "6.8    19\n",
              "6.9    26\n",
              "7.0    33\n",
              "7.1    20\n",
              "7.2    25\n",
              "7.3    22\n",
              "7.4    27\n",
              "7.5    23\n",
              "7.6    27\n",
              "7.7    26\n",
              "7.8    30\n",
              "7.9    15\n",
              "8.0    25\n",
              "8.1    21\n",
              "8.2    23\n",
              "8.3    13\n",
              "8.4    24\n",
              "8.5    14\n",
              "8.6     6\n",
              "8.7    13\n",
              "8.8     7\n",
              "8.9     3\n",
              "9.1     1\n",
              "9.2     1\n",
              "Name: count, dtype: int64"
            ],
            "text/html": [
              "<div>\n",
              "<style scoped>\n",
              "    .dataframe tbody tr th:only-of-type {\n",
              "        vertical-align: middle;\n",
              "    }\n",
              "\n",
              "    .dataframe tbody tr th {\n",
              "        vertical-align: top;\n",
              "    }\n",
              "\n",
              "    .dataframe thead th {\n",
              "        text-align: right;\n",
              "    }\n",
              "</style>\n",
              "<table border=\"1\" class=\"dataframe\">\n",
              "  <thead>\n",
              "    <tr style=\"text-align: right;\">\n",
              "      <th></th>\n",
              "      <th>count</th>\n",
              "    </tr>\n",
              "    <tr>\n",
              "      <th>IMDb Rating</th>\n",
              "      <th></th>\n",
              "    </tr>\n",
              "  </thead>\n",
              "  <tbody>\n",
              "    <tr>\n",
              "      <th>2.8</th>\n",
              "      <td>1</td>\n",
              "    </tr>\n",
              "    <tr>\n",
              "      <th>2.9</th>\n",
              "      <td>1</td>\n",
              "    </tr>\n",
              "    <tr>\n",
              "      <th>3.1</th>\n",
              "      <td>1</td>\n",
              "    </tr>\n",
              "    <tr>\n",
              "      <th>3.3</th>\n",
              "      <td>2</td>\n",
              "    </tr>\n",
              "    <tr>\n",
              "      <th>3.8</th>\n",
              "      <td>1</td>\n",
              "    </tr>\n",
              "    <tr>\n",
              "      <th>4.0</th>\n",
              "      <td>1</td>\n",
              "    </tr>\n",
              "    <tr>\n",
              "      <th>4.3</th>\n",
              "      <td>6</td>\n",
              "    </tr>\n",
              "    <tr>\n",
              "      <th>4.4</th>\n",
              "      <td>5</td>\n",
              "    </tr>\n",
              "    <tr>\n",
              "      <th>4.5</th>\n",
              "      <td>5</td>\n",
              "    </tr>\n",
              "    <tr>\n",
              "      <th>4.6</th>\n",
              "      <td>3</td>\n",
              "    </tr>\n",
              "    <tr>\n",
              "      <th>4.7</th>\n",
              "      <td>4</td>\n",
              "    </tr>\n",
              "    <tr>\n",
              "      <th>4.8</th>\n",
              "      <td>6</td>\n",
              "    </tr>\n",
              "    <tr>\n",
              "      <th>4.9</th>\n",
              "      <td>2</td>\n",
              "    </tr>\n",
              "    <tr>\n",
              "      <th>5.0</th>\n",
              "      <td>1</td>\n",
              "    </tr>\n",
              "    <tr>\n",
              "      <th>5.1</th>\n",
              "      <td>4</td>\n",
              "    </tr>\n",
              "    <tr>\n",
              "      <th>5.2</th>\n",
              "      <td>7</td>\n",
              "    </tr>\n",
              "    <tr>\n",
              "      <th>5.3</th>\n",
              "      <td>17</td>\n",
              "    </tr>\n",
              "    <tr>\n",
              "      <th>5.4</th>\n",
              "      <td>12</td>\n",
              "    </tr>\n",
              "    <tr>\n",
              "      <th>5.5</th>\n",
              "      <td>12</td>\n",
              "    </tr>\n",
              "    <tr>\n",
              "      <th>5.6</th>\n",
              "      <td>17</td>\n",
              "    </tr>\n",
              "    <tr>\n",
              "      <th>5.7</th>\n",
              "      <td>20</td>\n",
              "    </tr>\n",
              "    <tr>\n",
              "      <th>5.8</th>\n",
              "      <td>22</td>\n",
              "    </tr>\n",
              "    <tr>\n",
              "      <th>5.9</th>\n",
              "      <td>15</td>\n",
              "    </tr>\n",
              "    <tr>\n",
              "      <th>6.0</th>\n",
              "      <td>11</td>\n",
              "    </tr>\n",
              "    <tr>\n",
              "      <th>6.1</th>\n",
              "      <td>18</td>\n",
              "    </tr>\n",
              "    <tr>\n",
              "      <th>6.2</th>\n",
              "      <td>23</td>\n",
              "    </tr>\n",
              "    <tr>\n",
              "      <th>6.3</th>\n",
              "      <td>35</td>\n",
              "    </tr>\n",
              "    <tr>\n",
              "      <th>6.4</th>\n",
              "      <td>25</td>\n",
              "    </tr>\n",
              "    <tr>\n",
              "      <th>6.5</th>\n",
              "      <td>26</td>\n",
              "    </tr>\n",
              "    <tr>\n",
              "      <th>6.6</th>\n",
              "      <td>27</td>\n",
              "    </tr>\n",
              "    <tr>\n",
              "      <th>6.7</th>\n",
              "      <td>30</td>\n",
              "    </tr>\n",
              "    <tr>\n",
              "      <th>6.8</th>\n",
              "      <td>19</td>\n",
              "    </tr>\n",
              "    <tr>\n",
              "      <th>6.9</th>\n",
              "      <td>26</td>\n",
              "    </tr>\n",
              "    <tr>\n",
              "      <th>7.0</th>\n",
              "      <td>33</td>\n",
              "    </tr>\n",
              "    <tr>\n",
              "      <th>7.1</th>\n",
              "      <td>20</td>\n",
              "    </tr>\n",
              "    <tr>\n",
              "      <th>7.2</th>\n",
              "      <td>25</td>\n",
              "    </tr>\n",
              "    <tr>\n",
              "      <th>7.3</th>\n",
              "      <td>22</td>\n",
              "    </tr>\n",
              "    <tr>\n",
              "      <th>7.4</th>\n",
              "      <td>27</td>\n",
              "    </tr>\n",
              "    <tr>\n",
              "      <th>7.5</th>\n",
              "      <td>23</td>\n",
              "    </tr>\n",
              "    <tr>\n",
              "      <th>7.6</th>\n",
              "      <td>27</td>\n",
              "    </tr>\n",
              "    <tr>\n",
              "      <th>7.7</th>\n",
              "      <td>26</td>\n",
              "    </tr>\n",
              "    <tr>\n",
              "      <th>7.8</th>\n",
              "      <td>30</td>\n",
              "    </tr>\n",
              "    <tr>\n",
              "      <th>7.9</th>\n",
              "      <td>15</td>\n",
              "    </tr>\n",
              "    <tr>\n",
              "      <th>8.0</th>\n",
              "      <td>25</td>\n",
              "    </tr>\n",
              "    <tr>\n",
              "      <th>8.1</th>\n",
              "      <td>21</td>\n",
              "    </tr>\n",
              "    <tr>\n",
              "      <th>8.2</th>\n",
              "      <td>23</td>\n",
              "    </tr>\n",
              "    <tr>\n",
              "      <th>8.3</th>\n",
              "      <td>13</td>\n",
              "    </tr>\n",
              "    <tr>\n",
              "      <th>8.4</th>\n",
              "      <td>24</td>\n",
              "    </tr>\n",
              "    <tr>\n",
              "      <th>8.5</th>\n",
              "      <td>14</td>\n",
              "    </tr>\n",
              "    <tr>\n",
              "      <th>8.6</th>\n",
              "      <td>6</td>\n",
              "    </tr>\n",
              "    <tr>\n",
              "      <th>8.7</th>\n",
              "      <td>13</td>\n",
              "    </tr>\n",
              "    <tr>\n",
              "      <th>8.8</th>\n",
              "      <td>7</td>\n",
              "    </tr>\n",
              "    <tr>\n",
              "      <th>8.9</th>\n",
              "      <td>3</td>\n",
              "    </tr>\n",
              "    <tr>\n",
              "      <th>9.1</th>\n",
              "      <td>1</td>\n",
              "    </tr>\n",
              "    <tr>\n",
              "      <th>9.2</th>\n",
              "      <td>1</td>\n",
              "    </tr>\n",
              "  </tbody>\n",
              "</table>\n",
              "</div><br><label><b>dtype:</b> int64</label>"
            ]
          },
          "metadata": {},
          "execution_count": 42
        }
      ]
    },
    {
      "cell_type": "code",
      "source": [
        "# Group by Content Type and calculate the average IMDb rating (excluding 'Unknown' and '0' ratings)\n",
        "imdb_by_content_type = df_filtered.groupby('Content Type')['IMDb Rating'].mean()\n",
        "\n",
        "# Display the average IMDb rating by content type\n",
        "imdb_by_content_type"
      ],
      "metadata": {
        "colab": {
          "base_uri": "https://localhost:8080/",
          "height": 0
        },
        "id": "ouNhWXhk3jS2",
        "outputId": "1c0552c4-9168-40b3-ab82-e8e77f9b6e27"
      },
      "execution_count": 43,
      "outputs": [
        {
          "output_type": "execute_result",
          "data": {
            "text/plain": [
              "Content Type\n",
              "Movie        6.321090\n",
              "TV Series    7.495288\n",
              "Name: IMDb Rating, dtype: float64"
            ],
            "text/html": [
              "<div>\n",
              "<style scoped>\n",
              "    .dataframe tbody tr th:only-of-type {\n",
              "        vertical-align: middle;\n",
              "    }\n",
              "\n",
              "    .dataframe tbody tr th {\n",
              "        vertical-align: top;\n",
              "    }\n",
              "\n",
              "    .dataframe thead th {\n",
              "        text-align: right;\n",
              "    }\n",
              "</style>\n",
              "<table border=\"1\" class=\"dataframe\">\n",
              "  <thead>\n",
              "    <tr style=\"text-align: right;\">\n",
              "      <th></th>\n",
              "      <th>IMDb Rating</th>\n",
              "    </tr>\n",
              "    <tr>\n",
              "      <th>Content Type</th>\n",
              "      <th></th>\n",
              "    </tr>\n",
              "  </thead>\n",
              "  <tbody>\n",
              "    <tr>\n",
              "      <th>Movie</th>\n",
              "      <td>6.321090</td>\n",
              "    </tr>\n",
              "    <tr>\n",
              "      <th>TV Series</th>\n",
              "      <td>7.495288</td>\n",
              "    </tr>\n",
              "  </tbody>\n",
              "</table>\n",
              "</div><br><label><b>dtype:</b> float64</label>"
            ]
          },
          "metadata": {},
          "execution_count": 43
        }
      ]
    },
    {
      "cell_type": "markdown",
      "source": [
        "# **4. Viewing Trends Analysis**"
      ],
      "metadata": {
        "id": "Zu1KVojV4ron"
      }
    },
    {
      "cell_type": "markdown",
      "source": [
        "**Summary of Viewing Trends Analysis:**\n",
        "\n",
        "Unique Shows/Movies per Month: Shows how many distinct shows or movies you watched in each month.\n",
        "\n",
        "Unique Shows/Movies per Year: Provides a yearly summary of your unique viewing activity."
      ],
      "metadata": {
        "id": "8xySTI0Z4vLN"
      }
    },
    {
      "cell_type": "markdown",
      "source": [
        "### **Count of Unique Shows/Movies Watched per Month**"
      ],
      "metadata": {
        "id": "2UQsMfPs45Qc"
      }
    },
    {
      "cell_type": "code",
      "source": [
        "unique_shows_per_month = df_time_series.groupby(['Year', 'Month'])['Title'].nunique()\n",
        "\n",
        "unique_shows_per_month"
      ],
      "metadata": {
        "colab": {
          "base_uri": "https://localhost:8080/",
          "height": 0
        },
        "id": "p-c8gflo5dwS",
        "outputId": "67c90df9-86a6-4d7a-e034-3b904458b842"
      },
      "execution_count": 44,
      "outputs": [
        {
          "output_type": "execute_result",
          "data": {
            "text/plain": [
              "Year  Month\n",
              "2017  8         1\n",
              "      9        10\n",
              "      10       14\n",
              "      11       14\n",
              "      12       31\n",
              "               ..\n",
              "2024  5        13\n",
              "      6         6\n",
              "      7        18\n",
              "      8        10\n",
              "      9         7\n",
              "Name: Title, Length: 86, dtype: int64"
            ],
            "text/html": [
              "<div>\n",
              "<style scoped>\n",
              "    .dataframe tbody tr th:only-of-type {\n",
              "        vertical-align: middle;\n",
              "    }\n",
              "\n",
              "    .dataframe tbody tr th {\n",
              "        vertical-align: top;\n",
              "    }\n",
              "\n",
              "    .dataframe thead th {\n",
              "        text-align: right;\n",
              "    }\n",
              "</style>\n",
              "<table border=\"1\" class=\"dataframe\">\n",
              "  <thead>\n",
              "    <tr style=\"text-align: right;\">\n",
              "      <th></th>\n",
              "      <th></th>\n",
              "      <th>Title</th>\n",
              "    </tr>\n",
              "    <tr>\n",
              "      <th>Year</th>\n",
              "      <th>Month</th>\n",
              "      <th></th>\n",
              "    </tr>\n",
              "  </thead>\n",
              "  <tbody>\n",
              "    <tr>\n",
              "      <th rowspan=\"5\" valign=\"top\">2017</th>\n",
              "      <th>8</th>\n",
              "      <td>1</td>\n",
              "    </tr>\n",
              "    <tr>\n",
              "      <th>9</th>\n",
              "      <td>10</td>\n",
              "    </tr>\n",
              "    <tr>\n",
              "      <th>10</th>\n",
              "      <td>14</td>\n",
              "    </tr>\n",
              "    <tr>\n",
              "      <th>11</th>\n",
              "      <td>14</td>\n",
              "    </tr>\n",
              "    <tr>\n",
              "      <th>12</th>\n",
              "      <td>31</td>\n",
              "    </tr>\n",
              "    <tr>\n",
              "      <th>...</th>\n",
              "      <th>...</th>\n",
              "      <td>...</td>\n",
              "    </tr>\n",
              "    <tr>\n",
              "      <th rowspan=\"5\" valign=\"top\">2024</th>\n",
              "      <th>5</th>\n",
              "      <td>13</td>\n",
              "    </tr>\n",
              "    <tr>\n",
              "      <th>6</th>\n",
              "      <td>6</td>\n",
              "    </tr>\n",
              "    <tr>\n",
              "      <th>7</th>\n",
              "      <td>18</td>\n",
              "    </tr>\n",
              "    <tr>\n",
              "      <th>8</th>\n",
              "      <td>10</td>\n",
              "    </tr>\n",
              "    <tr>\n",
              "      <th>9</th>\n",
              "      <td>7</td>\n",
              "    </tr>\n",
              "  </tbody>\n",
              "</table>\n",
              "<p>86 rows × 1 columns</p>\n",
              "</div><br><label><b>dtype:</b> int64</label>"
            ]
          },
          "metadata": {},
          "execution_count": 44
        }
      ]
    },
    {
      "cell_type": "markdown",
      "source": [
        "### **Count of Unique Shows/Movies Watched per Year**"
      ],
      "metadata": {
        "id": "1_rQsKTJ6ERr"
      }
    },
    {
      "cell_type": "code",
      "source": [
        "unique_shows_per_year = df_time_series.groupby('Year')['Title'].nunique()\n",
        "\n",
        "unique_shows_per_year"
      ],
      "metadata": {
        "colab": {
          "base_uri": "https://localhost:8080/",
          "height": 0
        },
        "id": "tqFQ0Ffq6G5W",
        "outputId": "f1d45725-2926-46cf-a63e-256cf38d3c9b"
      },
      "execution_count": 45,
      "outputs": [
        {
          "output_type": "execute_result",
          "data": {
            "text/plain": [
              "Year\n",
              "2017     63\n",
              "2018    112\n",
              "2019    105\n",
              "2020     95\n",
              "2021    197\n",
              "2022    105\n",
              "2023    150\n",
              "2024     94\n",
              "Name: Title, dtype: int64"
            ],
            "text/html": [
              "<div>\n",
              "<style scoped>\n",
              "    .dataframe tbody tr th:only-of-type {\n",
              "        vertical-align: middle;\n",
              "    }\n",
              "\n",
              "    .dataframe tbody tr th {\n",
              "        vertical-align: top;\n",
              "    }\n",
              "\n",
              "    .dataframe thead th {\n",
              "        text-align: right;\n",
              "    }\n",
              "</style>\n",
              "<table border=\"1\" class=\"dataframe\">\n",
              "  <thead>\n",
              "    <tr style=\"text-align: right;\">\n",
              "      <th></th>\n",
              "      <th>Title</th>\n",
              "    </tr>\n",
              "    <tr>\n",
              "      <th>Year</th>\n",
              "      <th></th>\n",
              "    </tr>\n",
              "  </thead>\n",
              "  <tbody>\n",
              "    <tr>\n",
              "      <th>2017</th>\n",
              "      <td>63</td>\n",
              "    </tr>\n",
              "    <tr>\n",
              "      <th>2018</th>\n",
              "      <td>112</td>\n",
              "    </tr>\n",
              "    <tr>\n",
              "      <th>2019</th>\n",
              "      <td>105</td>\n",
              "    </tr>\n",
              "    <tr>\n",
              "      <th>2020</th>\n",
              "      <td>95</td>\n",
              "    </tr>\n",
              "    <tr>\n",
              "      <th>2021</th>\n",
              "      <td>197</td>\n",
              "    </tr>\n",
              "    <tr>\n",
              "      <th>2022</th>\n",
              "      <td>105</td>\n",
              "    </tr>\n",
              "    <tr>\n",
              "      <th>2023</th>\n",
              "      <td>150</td>\n",
              "    </tr>\n",
              "    <tr>\n",
              "      <th>2024</th>\n",
              "      <td>94</td>\n",
              "    </tr>\n",
              "  </tbody>\n",
              "</table>\n",
              "</div><br><label><b>dtype:</b> int64</label>"
            ]
          },
          "metadata": {},
          "execution_count": 45
        }
      ]
    },
    {
      "cell_type": "markdown",
      "source": [
        "# **Downloading both dataframes**"
      ],
      "metadata": {
        "id": "JPM9ej6n-4V0"
      }
    },
    {
      "cell_type": "code",
      "source": [
        "from google.colab import files\n",
        "\n",
        "# Save the time series DataFrame (with duplicates and unknowns)\n",
        "df_time_series.to_csv('netflix_time_series_data.csv', index=False)\n",
        "\n",
        "# Save the info-only DataFrame (without duplicates and with cleaned data)\n",
        "df_info_only.to_csv('netflix_cleaned_info_data.csv', index=False)\n",
        "\n",
        "# Download the CSV files\n",
        "files.download('netflix_time_series_data.csv')\n",
        "files.download('netflix_cleaned_info_data.csv')"
      ],
      "metadata": {
        "colab": {
          "base_uri": "https://localhost:8080/"
        },
        "id": "O_auiLow-8qI",
        "outputId": "22cbe56a-04f6-43d3-b660-b1a48c5f418f"
      },
      "execution_count": null,
      "outputs": [
        {
          "output_type": "display_data",
          "data": {
            "text/plain": [
              "<IPython.core.display.Javascript object>"
            ],
            "application/javascript": [
              "\n",
              "    async function download(id, filename, size) {\n",
              "      if (!google.colab.kernel.accessAllowed) {\n",
              "        return;\n",
              "      }\n",
              "      const div = document.createElement('div');\n",
              "      const label = document.createElement('label');\n",
              "      label.textContent = `Downloading \"${filename}\": `;\n",
              "      div.appendChild(label);\n",
              "      const progress = document.createElement('progress');\n",
              "      progress.max = size;\n",
              "      div.appendChild(progress);\n",
              "      document.body.appendChild(div);\n",
              "\n",
              "      const buffers = [];\n",
              "      let downloaded = 0;\n",
              "\n",
              "      const channel = await google.colab.kernel.comms.open(id);\n",
              "      // Send a message to notify the kernel that we're ready.\n",
              "      channel.send({})\n",
              "\n",
              "      for await (const message of channel.messages) {\n",
              "        // Send a message to notify the kernel that we're ready.\n",
              "        channel.send({})\n",
              "        if (message.buffers) {\n",
              "          for (const buffer of message.buffers) {\n",
              "            buffers.push(buffer);\n",
              "            downloaded += buffer.byteLength;\n",
              "            progress.value = downloaded;\n",
              "          }\n",
              "        }\n",
              "      }\n",
              "      const blob = new Blob(buffers, {type: 'application/binary'});\n",
              "      const a = document.createElement('a');\n",
              "      a.href = window.URL.createObjectURL(blob);\n",
              "      a.download = filename;\n",
              "      div.appendChild(a);\n",
              "      a.click();\n",
              "      div.remove();\n",
              "    }\n",
              "  "
            ]
          },
          "metadata": {}
        },
        {
          "output_type": "display_data",
          "data": {
            "text/plain": [
              "<IPython.core.display.Javascript object>"
            ],
            "application/javascript": [
              "download(\"download_4b89411d-285a-4860-a727-1889f3524dee\", \"netflix_time_series_data.csv\", 518477)"
            ]
          },
          "metadata": {}
        },
        {
          "output_type": "display_data",
          "data": {
            "text/plain": [
              "<IPython.core.display.Javascript object>"
            ],
            "application/javascript": [
              "\n",
              "    async function download(id, filename, size) {\n",
              "      if (!google.colab.kernel.accessAllowed) {\n",
              "        return;\n",
              "      }\n",
              "      const div = document.createElement('div');\n",
              "      const label = document.createElement('label');\n",
              "      label.textContent = `Downloading \"${filename}\": `;\n",
              "      div.appendChild(label);\n",
              "      const progress = document.createElement('progress');\n",
              "      progress.max = size;\n",
              "      div.appendChild(progress);\n",
              "      document.body.appendChild(div);\n",
              "\n",
              "      const buffers = [];\n",
              "      let downloaded = 0;\n",
              "\n",
              "      const channel = await google.colab.kernel.comms.open(id);\n",
              "      // Send a message to notify the kernel that we're ready.\n",
              "      channel.send({})\n",
              "\n",
              "      for await (const message of channel.messages) {\n",
              "        // Send a message to notify the kernel that we're ready.\n",
              "        channel.send({})\n",
              "        if (message.buffers) {\n",
              "          for (const buffer of message.buffers) {\n",
              "            buffers.push(buffer);\n",
              "            downloaded += buffer.byteLength;\n",
              "            progress.value = downloaded;\n",
              "          }\n",
              "        }\n",
              "      }\n",
              "      const blob = new Blob(buffers, {type: 'application/binary'});\n",
              "      const a = document.createElement('a');\n",
              "      a.href = window.URL.createObjectURL(blob);\n",
              "      a.download = filename;\n",
              "      div.appendChild(a);\n",
              "      a.click();\n",
              "      div.remove();\n",
              "    }\n",
              "  "
            ]
          },
          "metadata": {}
        },
        {
          "output_type": "display_data",
          "data": {
            "text/plain": [
              "<IPython.core.display.Javascript object>"
            ],
            "application/javascript": [
              "download(\"download_21d70afc-c3da-48e9-9fc8-a0dc9b1f3112\", \"netflix_cleaned_info_data.csv\", 70798)"
            ]
          },
          "metadata": {}
        }
      ]
    }
  ]
}